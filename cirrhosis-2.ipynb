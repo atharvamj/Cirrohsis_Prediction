{
 "cells": [
  {
   "cell_type": "code",
   "execution_count": 1,
   "id": "4aaafb2f",
   "metadata": {
    "_cell_guid": "b1076dfc-b9ad-4769-8c92-a6c4dae69d19",
    "_uuid": "8f2839f25d086af736a60e9eeb907d3b93b6e0e5",
    "execution": {
     "iopub.execute_input": "2023-12-18T23:22:02.323802Z",
     "iopub.status.busy": "2023-12-18T23:22:02.323250Z",
     "iopub.status.idle": "2023-12-18T23:22:02.751733Z",
     "shell.execute_reply": "2023-12-18T23:22:02.750594Z"
    },
    "papermill": {
     "duration": 0.461828,
     "end_time": "2023-12-18T23:22:02.762777",
     "exception": false,
     "start_time": "2023-12-18T23:22:02.300949",
     "status": "completed"
    },
    "tags": []
   },
   "outputs": [
    {
     "name": "stdout",
     "output_type": "stream",
     "text": [
      "/kaggle/input/playground-series-s3e26/sample_submission.csv\n",
      "/kaggle/input/playground-series-s3e26/train.csv\n",
      "/kaggle/input/playground-series-s3e26/test.csv\n"
     ]
    }
   ],
   "source": [
    "# This Python 3 environment comes with many helpful analytics libraries installed\n",
    "# It is defined by the kaggle/python Docker image: https://github.com/kaggle/docker-python\n",
    "# For example, here's several helpful packages to load\n",
    "\n",
    "import numpy as np # linear algebra\n",
    "import pandas as pd # data processing, CSV file I/O (e.g. pd.read_csv)\n",
    "\n",
    "# Input data files are available in the read-only \"../input/\" directory\n",
    "# For example, running this (by clicking run or pressing Shift+Enter) will list all files under the input directory\n",
    "\n",
    "import os\n",
    "for dirname, _, filenames in os.walk('/kaggle/input'):\n",
    "    for filename in filenames:\n",
    "        print(os.path.join(dirname, filename))\n",
    "\n",
    "# You can write up to 20GB to the current directory (/kaggle/working/) that gets preserved as output when you create a version using \"Save & Run All\" \n",
    "# You can also write temporary files to /kaggle/temp/, but they won't be saved outside of the current session"
   ]
  },
  {
   "cell_type": "code",
   "execution_count": 2,
   "id": "ad61dfa3",
   "metadata": {
    "execution": {
     "iopub.execute_input": "2023-12-18T23:22:02.801610Z",
     "iopub.status.busy": "2023-12-18T23:22:02.800589Z",
     "iopub.status.idle": "2023-12-18T23:22:04.775009Z",
     "shell.execute_reply": "2023-12-18T23:22:04.773816Z"
    },
    "papermill": {
     "duration": 1.996676,
     "end_time": "2023-12-18T23:22:04.777757",
     "exception": false,
     "start_time": "2023-12-18T23:22:02.781081",
     "status": "completed"
    },
    "tags": []
   },
   "outputs": [],
   "source": [
    "import pandas as pd\n",
    "from sklearn.model_selection import train_test_split\n",
    "from sklearn.ensemble import AdaBoostClassifier,BaggingClassifier\n",
    "from xgboost import XGBClassifier\n",
    "from sklearn.compose import ColumnTransformer\n",
    "from sklearn.pipeline import Pipeline\n",
    "from sklearn.preprocessing import OneHotEncoder\n",
    "from sklearn.impute import SimpleImputer\n",
    "from sklearn.metrics import accuracy_score, classification_report\n",
    "from sklearn.metrics import confusion_matrix\n",
    "import seaborn as sns\n",
    "import matplotlib.pyplot as plt\n",
    "from scipy.stats import iqr\n",
    "from scipy.stats import zscore\n",
    "from sklearn.metrics import log_loss"
   ]
  },
  {
   "cell_type": "code",
   "execution_count": 3,
   "id": "cd8fd2dd",
   "metadata": {
    "execution": {
     "iopub.execute_input": "2023-12-18T23:22:04.814474Z",
     "iopub.status.busy": "2023-12-18T23:22:04.814054Z",
     "iopub.status.idle": "2023-12-18T23:22:04.868234Z",
     "shell.execute_reply": "2023-12-18T23:22:04.867271Z"
    },
    "papermill": {
     "duration": 0.075893,
     "end_time": "2023-12-18T23:22:04.870924",
     "exception": false,
     "start_time": "2023-12-18T23:22:04.795031",
     "status": "completed"
    },
    "tags": []
   },
   "outputs": [],
   "source": [
    "train = pd.read_csv('/kaggle/input/playground-series-s3e26/train.csv')"
   ]
  },
  {
   "cell_type": "code",
   "execution_count": 4,
   "id": "71b5aa38",
   "metadata": {
    "execution": {
     "iopub.execute_input": "2023-12-18T23:22:04.907382Z",
     "iopub.status.busy": "2023-12-18T23:22:04.907031Z",
     "iopub.status.idle": "2023-12-18T23:22:04.939527Z",
     "shell.execute_reply": "2023-12-18T23:22:04.938322Z"
    },
    "papermill": {
     "duration": 0.054153,
     "end_time": "2023-12-18T23:22:04.942335",
     "exception": false,
     "start_time": "2023-12-18T23:22:04.888182",
     "status": "completed"
    },
    "tags": []
   },
   "outputs": [],
   "source": [
    "test = pd.read_csv('/kaggle/input/playground-series-s3e26/test.csv')"
   ]
  },
  {
   "cell_type": "code",
   "execution_count": 5,
   "id": "15936242",
   "metadata": {
    "execution": {
     "iopub.execute_input": "2023-12-18T23:22:04.979968Z",
     "iopub.status.busy": "2023-12-18T23:22:04.979587Z",
     "iopub.status.idle": "2023-12-18T23:22:04.995061Z",
     "shell.execute_reply": "2023-12-18T23:22:04.994157Z"
    },
    "papermill": {
     "duration": 0.037082,
     "end_time": "2023-12-18T23:22:04.997280",
     "exception": false,
     "start_time": "2023-12-18T23:22:04.960198",
     "status": "completed"
    },
    "tags": []
   },
   "outputs": [],
   "source": [
    "X = train.drop(columns=['Status'])\n",
    "y = train['Status']"
   ]
  },
  {
   "cell_type": "code",
   "execution_count": 6,
   "id": "a69eab24",
   "metadata": {
    "execution": {
     "iopub.execute_input": "2023-12-18T23:22:05.033795Z",
     "iopub.status.busy": "2023-12-18T23:22:05.033382Z",
     "iopub.status.idle": "2023-12-18T23:22:05.037783Z",
     "shell.execute_reply": "2023-12-18T23:22:05.036656Z"
    },
    "papermill": {
     "duration": 0.025488,
     "end_time": "2023-12-18T23:22:05.040140",
     "exception": false,
     "start_time": "2023-12-18T23:22:05.014652",
     "status": "completed"
    },
    "tags": []
   },
   "outputs": [],
   "source": [
    "#  numeric_features = X.select_dtypes(include=['int64', 'float64']).columns\n",
    "# categorical_features = X.select_dtypes(include=['object']).columns"
   ]
  },
  {
   "cell_type": "code",
   "execution_count": 7,
   "id": "133d2871",
   "metadata": {
    "execution": {
     "iopub.execute_input": "2023-12-18T23:22:05.077945Z",
     "iopub.status.busy": "2023-12-18T23:22:05.076858Z",
     "iopub.status.idle": "2023-12-18T23:22:05.081521Z",
     "shell.execute_reply": "2023-12-18T23:22:05.080847Z"
    },
    "papermill": {
     "duration": 0.025899,
     "end_time": "2023-12-18T23:22:05.083672",
     "exception": false,
     "start_time": "2023-12-18T23:22:05.057773",
     "status": "completed"
    },
    "tags": []
   },
   "outputs": [],
   "source": [
    "# # numeric_features.drop(['id','Stage','Cholesterol'], inplace = True)\n",
    "# print(numeric_features)\n",
    "# print(categorical_features)"
   ]
  },
  {
   "cell_type": "code",
   "execution_count": 8,
   "id": "3ce7422f",
   "metadata": {
    "execution": {
     "iopub.execute_input": "2023-12-18T23:22:05.119795Z",
     "iopub.status.busy": "2023-12-18T23:22:05.119104Z",
     "iopub.status.idle": "2023-12-18T23:22:05.124370Z",
     "shell.execute_reply": "2023-12-18T23:22:05.123597Z"
    },
    "papermill": {
     "duration": 0.025618,
     "end_time": "2023-12-18T23:22:05.126389",
     "exception": false,
     "start_time": "2023-12-18T23:22:05.100771",
     "status": "completed"
    },
    "tags": []
   },
   "outputs": [],
   "source": [
    "numeric_features = [ 'N_Days', 'Age', 'Bilirubin', 'Albumin', 'Copper',\n",
    "       'Alk_Phos', 'SGOT', 'Tryglicerides', 'Platelets', 'Prothrombin','Stage']\n",
    "categorical_features = ['Sex','Ascites','Hepatomegaly','Spiders','Edema']"
   ]
  },
  {
   "cell_type": "code",
   "execution_count": 9,
   "id": "f0862b28",
   "metadata": {
    "execution": {
     "iopub.execute_input": "2023-12-18T23:22:05.161797Z",
     "iopub.status.busy": "2023-12-18T23:22:05.161420Z",
     "iopub.status.idle": "2023-12-18T23:22:05.193553Z",
     "shell.execute_reply": "2023-12-18T23:22:05.192402Z"
    },
    "papermill": {
     "duration": 0.052621,
     "end_time": "2023-12-18T23:22:05.195897",
     "exception": false,
     "start_time": "2023-12-18T23:22:05.143276",
     "status": "completed"
    },
    "tags": []
   },
   "outputs": [
    {
     "data": {
      "text/html": [
       "<div>\n",
       "<style scoped>\n",
       "    .dataframe tbody tr th:only-of-type {\n",
       "        vertical-align: middle;\n",
       "    }\n",
       "\n",
       "    .dataframe tbody tr th {\n",
       "        vertical-align: top;\n",
       "    }\n",
       "\n",
       "    .dataframe thead th {\n",
       "        text-align: right;\n",
       "    }\n",
       "</style>\n",
       "<table border=\"1\" class=\"dataframe\">\n",
       "  <thead>\n",
       "    <tr style=\"text-align: right;\">\n",
       "      <th></th>\n",
       "      <th>id</th>\n",
       "      <th>N_Days</th>\n",
       "      <th>Drug</th>\n",
       "      <th>Age</th>\n",
       "      <th>Sex</th>\n",
       "      <th>Ascites</th>\n",
       "      <th>Hepatomegaly</th>\n",
       "      <th>Spiders</th>\n",
       "      <th>Edema</th>\n",
       "      <th>Bilirubin</th>\n",
       "      <th>Cholesterol</th>\n",
       "      <th>Albumin</th>\n",
       "      <th>Copper</th>\n",
       "      <th>Alk_Phos</th>\n",
       "      <th>SGOT</th>\n",
       "      <th>Tryglicerides</th>\n",
       "      <th>Platelets</th>\n",
       "      <th>Prothrombin</th>\n",
       "      <th>Stage</th>\n",
       "    </tr>\n",
       "  </thead>\n",
       "  <tbody>\n",
       "    <tr>\n",
       "      <th>0</th>\n",
       "      <td>0</td>\n",
       "      <td>999</td>\n",
       "      <td>D-penicillamine</td>\n",
       "      <td>21532</td>\n",
       "      <td>M</td>\n",
       "      <td>N</td>\n",
       "      <td>N</td>\n",
       "      <td>N</td>\n",
       "      <td>N</td>\n",
       "      <td>2.3</td>\n",
       "      <td>316.0</td>\n",
       "      <td>3.35</td>\n",
       "      <td>172.0</td>\n",
       "      <td>1601.0</td>\n",
       "      <td>179.80</td>\n",
       "      <td>63.0</td>\n",
       "      <td>394.0</td>\n",
       "      <td>9.7</td>\n",
       "      <td>3.0</td>\n",
       "    </tr>\n",
       "    <tr>\n",
       "      <th>1</th>\n",
       "      <td>1</td>\n",
       "      <td>2574</td>\n",
       "      <td>Placebo</td>\n",
       "      <td>19237</td>\n",
       "      <td>F</td>\n",
       "      <td>N</td>\n",
       "      <td>N</td>\n",
       "      <td>N</td>\n",
       "      <td>N</td>\n",
       "      <td>0.9</td>\n",
       "      <td>364.0</td>\n",
       "      <td>3.54</td>\n",
       "      <td>63.0</td>\n",
       "      <td>1440.0</td>\n",
       "      <td>134.85</td>\n",
       "      <td>88.0</td>\n",
       "      <td>361.0</td>\n",
       "      <td>11.0</td>\n",
       "      <td>3.0</td>\n",
       "    </tr>\n",
       "    <tr>\n",
       "      <th>2</th>\n",
       "      <td>2</td>\n",
       "      <td>3428</td>\n",
       "      <td>Placebo</td>\n",
       "      <td>13727</td>\n",
       "      <td>F</td>\n",
       "      <td>N</td>\n",
       "      <td>Y</td>\n",
       "      <td>Y</td>\n",
       "      <td>Y</td>\n",
       "      <td>3.3</td>\n",
       "      <td>299.0</td>\n",
       "      <td>3.55</td>\n",
       "      <td>131.0</td>\n",
       "      <td>1029.0</td>\n",
       "      <td>119.35</td>\n",
       "      <td>50.0</td>\n",
       "      <td>199.0</td>\n",
       "      <td>11.7</td>\n",
       "      <td>4.0</td>\n",
       "    </tr>\n",
       "    <tr>\n",
       "      <th>3</th>\n",
       "      <td>3</td>\n",
       "      <td>2576</td>\n",
       "      <td>Placebo</td>\n",
       "      <td>18460</td>\n",
       "      <td>F</td>\n",
       "      <td>N</td>\n",
       "      <td>N</td>\n",
       "      <td>N</td>\n",
       "      <td>N</td>\n",
       "      <td>0.6</td>\n",
       "      <td>256.0</td>\n",
       "      <td>3.50</td>\n",
       "      <td>58.0</td>\n",
       "      <td>1653.0</td>\n",
       "      <td>71.30</td>\n",
       "      <td>96.0</td>\n",
       "      <td>269.0</td>\n",
       "      <td>10.7</td>\n",
       "      <td>3.0</td>\n",
       "    </tr>\n",
       "    <tr>\n",
       "      <th>4</th>\n",
       "      <td>4</td>\n",
       "      <td>788</td>\n",
       "      <td>Placebo</td>\n",
       "      <td>16658</td>\n",
       "      <td>F</td>\n",
       "      <td>N</td>\n",
       "      <td>Y</td>\n",
       "      <td>N</td>\n",
       "      <td>N</td>\n",
       "      <td>1.1</td>\n",
       "      <td>346.0</td>\n",
       "      <td>3.65</td>\n",
       "      <td>63.0</td>\n",
       "      <td>1181.0</td>\n",
       "      <td>125.55</td>\n",
       "      <td>96.0</td>\n",
       "      <td>298.0</td>\n",
       "      <td>10.6</td>\n",
       "      <td>4.0</td>\n",
       "    </tr>\n",
       "  </tbody>\n",
       "</table>\n",
       "</div>"
      ],
      "text/plain": [
       "   id  N_Days             Drug    Age Sex Ascites Hepatomegaly Spiders Edema  \\\n",
       "0   0     999  D-penicillamine  21532   M       N            N       N     N   \n",
       "1   1    2574          Placebo  19237   F       N            N       N     N   \n",
       "2   2    3428          Placebo  13727   F       N            Y       Y     Y   \n",
       "3   3    2576          Placebo  18460   F       N            N       N     N   \n",
       "4   4     788          Placebo  16658   F       N            Y       N     N   \n",
       "\n",
       "   Bilirubin  Cholesterol  Albumin  Copper  Alk_Phos    SGOT  Tryglicerides  \\\n",
       "0        2.3        316.0     3.35   172.0    1601.0  179.80           63.0   \n",
       "1        0.9        364.0     3.54    63.0    1440.0  134.85           88.0   \n",
       "2        3.3        299.0     3.55   131.0    1029.0  119.35           50.0   \n",
       "3        0.6        256.0     3.50    58.0    1653.0   71.30           96.0   \n",
       "4        1.1        346.0     3.65    63.0    1181.0  125.55           96.0   \n",
       "\n",
       "   Platelets  Prothrombin  Stage  \n",
       "0      394.0          9.7    3.0  \n",
       "1      361.0         11.0    3.0  \n",
       "2      199.0         11.7    4.0  \n",
       "3      269.0         10.7    3.0  \n",
       "4      298.0         10.6    4.0  "
      ]
     },
     "execution_count": 9,
     "metadata": {},
     "output_type": "execute_result"
    }
   ],
   "source": [
    "X.head()"
   ]
  },
  {
   "cell_type": "code",
   "execution_count": 10,
   "id": "b7dbdd5f",
   "metadata": {
    "execution": {
     "iopub.execute_input": "2023-12-18T23:22:05.233602Z",
     "iopub.status.busy": "2023-12-18T23:22:05.233206Z",
     "iopub.status.idle": "2023-12-18T23:22:05.241251Z",
     "shell.execute_reply": "2023-12-18T23:22:05.240227Z"
    },
    "papermill": {
     "duration": 0.029352,
     "end_time": "2023-12-18T23:22:05.243355",
     "exception": false,
     "start_time": "2023-12-18T23:22:05.214003",
     "status": "completed"
    },
    "tags": []
   },
   "outputs": [],
   "source": [
    "y_c = y.map({'C': 0, 'D': 2, 'CL': 1})"
   ]
  },
  {
   "cell_type": "code",
   "execution_count": 11,
   "id": "1bb542a7",
   "metadata": {
    "execution": {
     "iopub.execute_input": "2023-12-18T23:22:05.281301Z",
     "iopub.status.busy": "2023-12-18T23:22:05.280600Z",
     "iopub.status.idle": "2023-12-18T23:22:05.287989Z",
     "shell.execute_reply": "2023-12-18T23:22:05.286768Z"
    },
    "papermill": {
     "duration": 0.028979,
     "end_time": "2023-12-18T23:22:05.290267",
     "exception": false,
     "start_time": "2023-12-18T23:22:05.261288",
     "status": "completed"
    },
    "tags": []
   },
   "outputs": [
    {
     "name": "stdout",
     "output_type": "stream",
     "text": [
      "0       2\n",
      "1       0\n",
      "2       2\n",
      "3       0\n",
      "4       0\n",
      "       ..\n",
      "7900    0\n",
      "7901    0\n",
      "7902    2\n",
      "7903    2\n",
      "7904    0\n",
      "Name: Status, Length: 7905, dtype: int64\n"
     ]
    }
   ],
   "source": [
    "print(y_c)"
   ]
  },
  {
   "cell_type": "code",
   "execution_count": 12,
   "id": "c2c534fe",
   "metadata": {
    "execution": {
     "iopub.execute_input": "2023-12-18T23:22:05.381605Z",
     "iopub.status.busy": "2023-12-18T23:22:05.380742Z",
     "iopub.status.idle": "2023-12-18T23:22:05.396994Z",
     "shell.execute_reply": "2023-12-18T23:22:05.396226Z"
    },
    "papermill": {
     "duration": 0.037508,
     "end_time": "2023-12-18T23:22:05.399018",
     "exception": false,
     "start_time": "2023-12-18T23:22:05.361510",
     "status": "completed"
    },
    "tags": []
   },
   "outputs": [],
   "source": [
    "X = train\n",
    "X_numeric = X[numeric_features]\n",
    "result_df_num = pd.concat([X_numeric, y_c], ignore_index=True)\n",
    "X_cate = X[categorical_features]\n",
    "result_df_cat = pd.concat([X_cate, y], ignore_index=True)"
   ]
  },
  {
   "cell_type": "code",
   "execution_count": 13,
   "id": "d9ecbe74",
   "metadata": {
    "execution": {
     "iopub.execute_input": "2023-12-18T23:22:05.436360Z",
     "iopub.status.busy": "2023-12-18T23:22:05.435696Z",
     "iopub.status.idle": "2023-12-18T23:22:06.216991Z",
     "shell.execute_reply": "2023-12-18T23:22:06.215872Z"
    },
    "papermill": {
     "duration": 0.80456,
     "end_time": "2023-12-18T23:22:06.220938",
     "exception": false,
     "start_time": "2023-12-18T23:22:05.416378",
     "status": "completed"
    },
    "tags": []
   },
   "outputs": [
    {
     "data": {
      "image/png": "[encoded data removed]",
      "text/plain": [
       "<Figure size 1000x800 with 2 Axes>"
      ]
     },
     "metadata": {},
     "output_type": "display_data"
    }
   ],
   "source": [
    "correlation_matrix_numeric = result_df_num.corr()\n",
    "plt.figure(figsize=(10, 8))\n",
    "sns.heatmap(correlation_matrix_numeric, annot=True, cmap='coolwarm', fmt=\".2f\")\n",
    "plt.title('Correlation Matrix (Numeric Features)', fontsize=16)\n",
    "plt.show()"
   ]
  },
  {
   "cell_type": "code",
   "execution_count": null,
   "id": "331fdc7f",
   "metadata": {
    "papermill": {
     "duration": 0.020421,
     "end_time": "2023-12-18T23:22:06.261784",
     "exception": false,
     "start_time": "2023-12-18T23:22:06.241363",
     "status": "completed"
    },
    "tags": []
   },
   "outputs": [],
   "source": []
  },
  {
   "cell_type": "code",
   "execution_count": 14,
   "id": "a73febc7",
   "metadata": {
    "execution": {
     "iopub.execute_input": "2023-12-18T23:22:06.305421Z",
     "iopub.status.busy": "2023-12-18T23:22:06.304303Z",
     "iopub.status.idle": "2023-12-18T23:22:06.308858Z",
     "shell.execute_reply": "2023-12-18T23:22:06.308051Z"
    },
    "papermill": {
     "duration": 0.028623,
     "end_time": "2023-12-18T23:22:06.311127",
     "exception": false,
     "start_time": "2023-12-18T23:22:06.282504",
     "status": "completed"
    },
    "tags": []
   },
   "outputs": [],
   "source": [
    "# correlation_matrix_categorical = pd.get_dummies(result_df_cat, drop_first=True).corr()\n",
    "# plt.figure(figsize=(10, 8))\n",
    "# sns.heatmap(correlation_matrix_categorical, annot=True, cmap='coolwarm', fmt=\".2f\")\n",
    "# plt.title('Correlation Matrix (Categorical Features)', fontsize=16)\n",
    "# plt.show()"
   ]
  },
  {
   "cell_type": "code",
   "execution_count": 15,
   "id": "214f0f82",
   "metadata": {
    "execution": {
     "iopub.execute_input": "2023-12-18T23:22:06.355099Z",
     "iopub.status.busy": "2023-12-18T23:22:06.354658Z",
     "iopub.status.idle": "2023-12-18T23:22:06.846258Z",
     "shell.execute_reply": "2023-12-18T23:22:06.845215Z"
    },
    "papermill": {
     "duration": 0.517321,
     "end_time": "2023-12-18T23:22:06.849335",
     "exception": false,
     "start_time": "2023-12-18T23:22:06.332014",
     "status": "completed"
    },
    "tags": []
   },
   "outputs": [
    {
     "data": {
      "image/png": "[encoded data removed]",
      "text/plain": [
       "<Figure size 1200x800 with 1 Axes>"
      ]
     },
     "metadata": {},
     "output_type": "display_data"
    }
   ],
   "source": [
    "plt.figure(figsize=(12, 8))\n",
    "sns.boxplot(data=result_df_num, palette=\"Set3\")\n",
    "plt.title('Box Plot of Numerical Features', fontsize=16)\n",
    "plt.ylabel('Feature Values', fontsize=14)\n",
    "plt.xticks(rotation=45, ha='right')  # Rotate x-axis labels for better visibility\n",
    "plt.show()"
   ]
  },
  {
   "cell_type": "code",
   "execution_count": 16,
   "id": "669abf53",
   "metadata": {
    "execution": {
     "iopub.execute_input": "2023-12-18T23:22:06.893234Z",
     "iopub.status.busy": "2023-12-18T23:22:06.892855Z",
     "iopub.status.idle": "2023-12-18T23:22:06.900759Z",
     "shell.execute_reply": "2023-12-18T23:22:06.899652Z"
    },
    "papermill": {
     "duration": 0.032851,
     "end_time": "2023-12-18T23:22:06.903189",
     "exception": false,
     "start_time": "2023-12-18T23:22:06.870338",
     "status": "completed"
    },
    "tags": []
   },
   "outputs": [],
   "source": [
    "def remove_outliers_iqr(data_frame, threshold=1.5):\n",
    "    data_frame_cleaned = pd.DataFrame()\n",
    "\n",
    "    # Select numeric columns for outlier removal\n",
    "    numeric_columns = data_frame.select_dtypes(include=['number']).columns\n",
    "\n",
    "    for column in numeric_columns:\n",
    "        feature_values = data_frame[column]\n",
    "        Q1 = feature_values.quantile(0.25)\n",
    "        Q3 = feature_values.quantile(0.75)\n",
    "        IQR = Q3 - Q1\n",
    "\n",
    "        lower_bound = Q1 - threshold * IQR\n",
    "        upper_bound = Q3 + threshold * IQR\n",
    "\n",
    "        # Keep only the data points within the specified bounds\n",
    "        data_frame_cleaned[column] = feature_values[(feature_values >= lower_bound) & (feature_values <= upper_bound)]\n",
    "\n",
    "    # Add remaining categorical columns\n",
    "    categorical_columns = data_frame.select_dtypes(include=['object']).columns\n",
    "    for column in categorical_columns:\n",
    "        data_frame_cleaned[column] = data_frame[column]\n",
    "\n",
    "    return data_frame_cleaned\n"
   ]
  },
  {
   "cell_type": "code",
   "execution_count": 17,
   "id": "ca8f2006",
   "metadata": {
    "execution": {
     "iopub.execute_input": "2023-12-18T23:22:06.947459Z",
     "iopub.status.busy": "2023-12-18T23:22:06.946659Z",
     "iopub.status.idle": "2023-12-18T23:22:06.998386Z",
     "shell.execute_reply": "2023-12-18T23:22:06.997322Z"
    },
    "papermill": {
     "duration": 0.076447,
     "end_time": "2023-12-18T23:22:07.000735",
     "exception": false,
     "start_time": "2023-12-18T23:22:06.924288",
     "status": "completed"
    },
    "tags": []
   },
   "outputs": [
    {
     "name": "stdout",
     "output_type": "stream",
     "text": [
      "Index(['id', 'N_Days', 'Age', 'Bilirubin', 'Cholesterol', 'Albumin', 'Copper',\n",
      "       'Alk_Phos', 'SGOT', 'Tryglicerides', 'Platelets', 'Prothrombin',\n",
      "       'Stage', 'Drug', 'Sex', 'Ascites', 'Hepatomegaly', 'Spiders', 'Edema',\n",
      "       'Status'],\n",
      "      dtype='object')\n"
     ]
    }
   ],
   "source": [
    "df_cleaned = remove_outliers_iqr(X)\n",
    "print(df_cleaned.columns)"
   ]
  },
  {
   "cell_type": "code",
   "execution_count": 18,
   "id": "bfc1b768",
   "metadata": {
    "execution": {
     "iopub.execute_input": "2023-12-18T23:22:07.045218Z",
     "iopub.status.busy": "2023-12-18T23:22:07.044523Z",
     "iopub.status.idle": "2023-12-18T23:22:07.548512Z",
     "shell.execute_reply": "2023-12-18T23:22:07.547476Z"
    },
    "papermill": {
     "duration": 0.529769,
     "end_time": "2023-12-18T23:22:07.551615",
     "exception": false,
     "start_time": "2023-12-18T23:22:07.021846",
     "status": "completed"
    },
    "tags": []
   },
   "outputs": [
    {
     "data": {
      "image/png": "[encoded data removed]",
      "text/plain": [
       "<Figure size 1200x800 with 1 Axes>"
      ]
     },
     "metadata": {},
     "output_type": "display_data"
    }
   ],
   "source": [
    "plt.figure(figsize=(12, 8))\n",
    "sns.boxplot(data=df_cleaned, palette=\"Set3\")\n",
    "plt.title('Box Plot of Numerical Features', fontsize=16)\n",
    "plt.ylabel('Feature Values', fontsize=14)\n",
    "plt.xticks(rotation=45, ha='right')  # Rotate x-axis labels for better visibility\n",
    "plt.show()"
   ]
  },
  {
   "cell_type": "code",
   "execution_count": 19,
   "id": "263157a1",
   "metadata": {
    "execution": {
     "iopub.execute_input": "2023-12-18T23:22:07.598751Z",
     "iopub.status.busy": "2023-12-18T23:22:07.598334Z",
     "iopub.status.idle": "2023-12-18T23:22:07.602702Z",
     "shell.execute_reply": "2023-12-18T23:22:07.601650Z"
    },
    "papermill": {
     "duration": 0.030215,
     "end_time": "2023-12-18T23:22:07.604857",
     "exception": false,
     "start_time": "2023-12-18T23:22:07.574642",
     "status": "completed"
    },
    "tags": []
   },
   "outputs": [],
   "source": [
    "# correlation_matrix_numeric = df_cleaned.corr()\n",
    "# plt.figure(figsize=(10, 8))\n",
    "# sns.heatmap(correlation_matrix_numeric, annot=True, cmap='coolwarm', fmt=\".2f\")\n",
    "# plt.title('Correlation Matrix (Numeric Features)', fontsize=16)\n",
    "# plt.show()"
   ]
  },
  {
   "cell_type": "code",
   "execution_count": 20,
   "id": "e91fe7f8",
   "metadata": {
    "execution": {
     "iopub.execute_input": "2023-12-18T23:22:07.649739Z",
     "iopub.status.busy": "2023-12-18T23:22:07.649321Z",
     "iopub.status.idle": "2023-12-18T23:22:07.653789Z",
     "shell.execute_reply": "2023-12-18T23:22:07.652734Z"
    },
    "papermill": {
     "duration": 0.02939,
     "end_time": "2023-12-18T23:22:07.655871",
     "exception": false,
     "start_time": "2023-12-18T23:22:07.626481",
     "status": "completed"
    },
    "tags": []
   },
   "outputs": [],
   "source": [
    "# plt.figure(figsize=(12, 8))\n",
    "# sns.boxplot(data=correlation_matrix_categorical, palette=\"Set3\")\n",
    "# plt.title('Box Plot of Numerical Features', fontsize=16)\n",
    "# plt.ylabel('Feature Values', fontsize=14)\n",
    "# plt.xticks(rotation=45, ha='right')  # Rotate x-axis labels for better visibility\n",
    "# plt.show()"
   ]
  },
  {
   "cell_type": "code",
   "execution_count": 21,
   "id": "580621f4",
   "metadata": {
    "execution": {
     "iopub.execute_input": "2023-12-18T23:22:07.701380Z",
     "iopub.status.busy": "2023-12-18T23:22:07.700734Z",
     "iopub.status.idle": "2023-12-18T23:22:07.705324Z",
     "shell.execute_reply": "2023-12-18T23:22:07.704416Z"
    },
    "papermill": {
     "duration": 0.029933,
     "end_time": "2023-12-18T23:22:07.707392",
     "exception": false,
     "start_time": "2023-12-18T23:22:07.677459",
     "status": "completed"
    },
    "tags": []
   },
   "outputs": [],
   "source": [
    "# df_cleaned_2 = remove_outliers_iqr_per_column(correlation_matrix_categorical)"
   ]
  },
  {
   "cell_type": "code",
   "execution_count": 22,
   "id": "9b81d9ea",
   "metadata": {
    "execution": {
     "iopub.execute_input": "2023-12-18T23:22:07.752015Z",
     "iopub.status.busy": "2023-12-18T23:22:07.751567Z",
     "iopub.status.idle": "2023-12-18T23:22:07.755901Z",
     "shell.execute_reply": "2023-12-18T23:22:07.755091Z"
    },
    "papermill": {
     "duration": 0.029184,
     "end_time": "2023-12-18T23:22:07.758079",
     "exception": false,
     "start_time": "2023-12-18T23:22:07.728895",
     "status": "completed"
    },
    "tags": []
   },
   "outputs": [],
   "source": [
    "# print(df_cleaned_2)"
   ]
  },
  {
   "cell_type": "code",
   "execution_count": 23,
   "id": "91ec52b0",
   "metadata": {
    "execution": {
     "iopub.execute_input": "2023-12-18T23:22:07.803456Z",
     "iopub.status.busy": "2023-12-18T23:22:07.802830Z",
     "iopub.status.idle": "2023-12-18T23:22:07.807252Z",
     "shell.execute_reply": "2023-12-18T23:22:07.806506Z"
    },
    "papermill": {
     "duration": 0.02921,
     "end_time": "2023-12-18T23:22:07.809255",
     "exception": false,
     "start_time": "2023-12-18T23:22:07.780045",
     "status": "completed"
    },
    "tags": []
   },
   "outputs": [],
   "source": [
    "# plt.figure(figsize=(12, 8))\n",
    "# sns.boxplot(data=df_cleaned_2, palette=\"Set3\")\n",
    "# plt.title('Box Plot of Numerical Features', fontsize=16)\n",
    "# plt.ylabel('Feature Values', fontsize=14)\n",
    "# plt.xticks(rotation=45, ha='right')  # Rotate x-axis labels for better visibility\n",
    "# plt.show()"
   ]
  },
  {
   "cell_type": "code",
   "execution_count": null,
   "id": "52f2cd5d",
   "metadata": {
    "papermill": {
     "duration": 0.02163,
     "end_time": "2023-12-18T23:22:07.853107",
     "exception": false,
     "start_time": "2023-12-18T23:22:07.831477",
     "status": "completed"
    },
    "tags": []
   },
   "outputs": [],
   "source": []
  },
  {
   "cell_type": "code",
   "execution_count": 24,
   "id": "b5f3d1c1",
   "metadata": {
    "execution": {
     "iopub.execute_input": "2023-12-18T23:22:07.897396Z",
     "iopub.status.busy": "2023-12-18T23:22:07.896732Z",
     "iopub.status.idle": "2023-12-18T23:22:07.901303Z",
     "shell.execute_reply": "2023-12-18T23:22:07.900499Z"
    },
    "papermill": {
     "duration": 0.029202,
     "end_time": "2023-12-18T23:22:07.903391",
     "exception": false,
     "start_time": "2023-12-18T23:22:07.874189",
     "status": "completed"
    },
    "tags": []
   },
   "outputs": [],
   "source": [
    "# data_final = pd.concat([df_cleaned, X_cate], ignore_index=False,axis = 1)\n"
   ]
  },
  {
   "cell_type": "code",
   "execution_count": 25,
   "id": "c510004f",
   "metadata": {
    "execution": {
     "iopub.execute_input": "2023-12-18T23:22:07.949417Z",
     "iopub.status.busy": "2023-12-18T23:22:07.948768Z",
     "iopub.status.idle": "2023-12-18T23:22:07.953339Z",
     "shell.execute_reply": "2023-12-18T23:22:07.952587Z"
    },
    "papermill": {
     "duration": 0.030274,
     "end_time": "2023-12-18T23:22:07.955458",
     "exception": false,
     "start_time": "2023-12-18T23:22:07.925184",
     "status": "completed"
    },
    "tags": []
   },
   "outputs": [],
   "source": [
    "data_final = df_cleaned"
   ]
  },
  {
   "cell_type": "code",
   "execution_count": 26,
   "id": "781cbf5b",
   "metadata": {
    "execution": {
     "iopub.execute_input": "2023-12-18T23:22:08.001649Z",
     "iopub.status.busy": "2023-12-18T23:22:08.000991Z",
     "iopub.status.idle": "2023-12-18T23:22:08.041742Z",
     "shell.execute_reply": "2023-12-18T23:22:08.040591Z"
    },
    "papermill": {
     "duration": 0.066897,
     "end_time": "2023-12-18T23:22:08.044449",
     "exception": false,
     "start_time": "2023-12-18T23:22:07.977552",
     "status": "completed"
    },
    "tags": []
   },
   "outputs": [
    {
     "data": {
      "text/html": [
       "<div>\n",
       "<style scoped>\n",
       "    .dataframe tbody tr th:only-of-type {\n",
       "        vertical-align: middle;\n",
       "    }\n",
       "\n",
       "    .dataframe tbody tr th {\n",
       "        vertical-align: top;\n",
       "    }\n",
       "\n",
       "    .dataframe thead th {\n",
       "        text-align: right;\n",
       "    }\n",
       "</style>\n",
       "<table border=\"1\" class=\"dataframe\">\n",
       "  <thead>\n",
       "    <tr style=\"text-align: right;\">\n",
       "      <th></th>\n",
       "      <th>id</th>\n",
       "      <th>N_Days</th>\n",
       "      <th>Age</th>\n",
       "      <th>Bilirubin</th>\n",
       "      <th>Cholesterol</th>\n",
       "      <th>Albumin</th>\n",
       "      <th>Copper</th>\n",
       "      <th>Alk_Phos</th>\n",
       "      <th>SGOT</th>\n",
       "      <th>Tryglicerides</th>\n",
       "      <th>Platelets</th>\n",
       "      <th>Prothrombin</th>\n",
       "      <th>Stage</th>\n",
       "      <th>Drug</th>\n",
       "      <th>Sex</th>\n",
       "      <th>Ascites</th>\n",
       "      <th>Hepatomegaly</th>\n",
       "      <th>Spiders</th>\n",
       "      <th>Edema</th>\n",
       "      <th>Status</th>\n",
       "    </tr>\n",
       "  </thead>\n",
       "  <tbody>\n",
       "    <tr>\n",
       "      <th>0</th>\n",
       "      <td>0</td>\n",
       "      <td>999</td>\n",
       "      <td>21532.0</td>\n",
       "      <td>2.3</td>\n",
       "      <td>316.0</td>\n",
       "      <td>3.35</td>\n",
       "      <td>172.0</td>\n",
       "      <td>1601.0</td>\n",
       "      <td>179.80</td>\n",
       "      <td>63.0</td>\n",
       "      <td>394.0</td>\n",
       "      <td>9.7</td>\n",
       "      <td>3.0</td>\n",
       "      <td>D-penicillamine</td>\n",
       "      <td>M</td>\n",
       "      <td>N</td>\n",
       "      <td>N</td>\n",
       "      <td>N</td>\n",
       "      <td>N</td>\n",
       "      <td>D</td>\n",
       "    </tr>\n",
       "    <tr>\n",
       "      <th>1</th>\n",
       "      <td>1</td>\n",
       "      <td>2574</td>\n",
       "      <td>19237.0</td>\n",
       "      <td>0.9</td>\n",
       "      <td>364.0</td>\n",
       "      <td>3.54</td>\n",
       "      <td>63.0</td>\n",
       "      <td>1440.0</td>\n",
       "      <td>134.85</td>\n",
       "      <td>88.0</td>\n",
       "      <td>361.0</td>\n",
       "      <td>11.0</td>\n",
       "      <td>3.0</td>\n",
       "      <td>Placebo</td>\n",
       "      <td>F</td>\n",
       "      <td>N</td>\n",
       "      <td>N</td>\n",
       "      <td>N</td>\n",
       "      <td>N</td>\n",
       "      <td>C</td>\n",
       "    </tr>\n",
       "    <tr>\n",
       "      <th>2</th>\n",
       "      <td>2</td>\n",
       "      <td>3428</td>\n",
       "      <td>13727.0</td>\n",
       "      <td>3.3</td>\n",
       "      <td>299.0</td>\n",
       "      <td>3.55</td>\n",
       "      <td>131.0</td>\n",
       "      <td>1029.0</td>\n",
       "      <td>119.35</td>\n",
       "      <td>50.0</td>\n",
       "      <td>199.0</td>\n",
       "      <td>11.7</td>\n",
       "      <td>4.0</td>\n",
       "      <td>Placebo</td>\n",
       "      <td>F</td>\n",
       "      <td>N</td>\n",
       "      <td>Y</td>\n",
       "      <td>Y</td>\n",
       "      <td>Y</td>\n",
       "      <td>D</td>\n",
       "    </tr>\n",
       "    <tr>\n",
       "      <th>3</th>\n",
       "      <td>3</td>\n",
       "      <td>2576</td>\n",
       "      <td>18460.0</td>\n",
       "      <td>0.6</td>\n",
       "      <td>256.0</td>\n",
       "      <td>3.50</td>\n",
       "      <td>58.0</td>\n",
       "      <td>1653.0</td>\n",
       "      <td>71.30</td>\n",
       "      <td>96.0</td>\n",
       "      <td>269.0</td>\n",
       "      <td>10.7</td>\n",
       "      <td>3.0</td>\n",
       "      <td>Placebo</td>\n",
       "      <td>F</td>\n",
       "      <td>N</td>\n",
       "      <td>N</td>\n",
       "      <td>N</td>\n",
       "      <td>N</td>\n",
       "      <td>C</td>\n",
       "    </tr>\n",
       "    <tr>\n",
       "      <th>4</th>\n",
       "      <td>4</td>\n",
       "      <td>788</td>\n",
       "      <td>16658.0</td>\n",
       "      <td>1.1</td>\n",
       "      <td>346.0</td>\n",
       "      <td>3.65</td>\n",
       "      <td>63.0</td>\n",
       "      <td>1181.0</td>\n",
       "      <td>125.55</td>\n",
       "      <td>96.0</td>\n",
       "      <td>298.0</td>\n",
       "      <td>10.6</td>\n",
       "      <td>4.0</td>\n",
       "      <td>Placebo</td>\n",
       "      <td>F</td>\n",
       "      <td>N</td>\n",
       "      <td>Y</td>\n",
       "      <td>N</td>\n",
       "      <td>N</td>\n",
       "      <td>C</td>\n",
       "    </tr>\n",
       "    <tr>\n",
       "      <th>...</th>\n",
       "      <td>...</td>\n",
       "      <td>...</td>\n",
       "      <td>...</td>\n",
       "      <td>...</td>\n",
       "      <td>...</td>\n",
       "      <td>...</td>\n",
       "      <td>...</td>\n",
       "      <td>...</td>\n",
       "      <td>...</td>\n",
       "      <td>...</td>\n",
       "      <td>...</td>\n",
       "      <td>...</td>\n",
       "      <td>...</td>\n",
       "      <td>...</td>\n",
       "      <td>...</td>\n",
       "      <td>...</td>\n",
       "      <td>...</td>\n",
       "      <td>...</td>\n",
       "      <td>...</td>\n",
       "      <td>...</td>\n",
       "    </tr>\n",
       "    <tr>\n",
       "      <th>7900</th>\n",
       "      <td>7900</td>\n",
       "      <td>1166</td>\n",
       "      <td>16839.0</td>\n",
       "      <td>0.8</td>\n",
       "      <td>309.0</td>\n",
       "      <td>3.56</td>\n",
       "      <td>38.0</td>\n",
       "      <td>1629.0</td>\n",
       "      <td>79.05</td>\n",
       "      <td>NaN</td>\n",
       "      <td>344.0</td>\n",
       "      <td>9.9</td>\n",
       "      <td>2.0</td>\n",
       "      <td>D-penicillamine</td>\n",
       "      <td>F</td>\n",
       "      <td>N</td>\n",
       "      <td>N</td>\n",
       "      <td>N</td>\n",
       "      <td>N</td>\n",
       "      <td>C</td>\n",
       "    </tr>\n",
       "    <tr>\n",
       "      <th>7901</th>\n",
       "      <td>7901</td>\n",
       "      <td>1492</td>\n",
       "      <td>17031.0</td>\n",
       "      <td>0.9</td>\n",
       "      <td>260.0</td>\n",
       "      <td>3.43</td>\n",
       "      <td>62.0</td>\n",
       "      <td>1440.0</td>\n",
       "      <td>142.00</td>\n",
       "      <td>78.0</td>\n",
       "      <td>277.0</td>\n",
       "      <td>10.0</td>\n",
       "      <td>4.0</td>\n",
       "      <td>Placebo</td>\n",
       "      <td>F</td>\n",
       "      <td>N</td>\n",
       "      <td>Y</td>\n",
       "      <td>N</td>\n",
       "      <td>N</td>\n",
       "      <td>C</td>\n",
       "    </tr>\n",
       "    <tr>\n",
       "      <th>7902</th>\n",
       "      <td>7902</td>\n",
       "      <td>1576</td>\n",
       "      <td>25873.0</td>\n",
       "      <td>2.0</td>\n",
       "      <td>225.0</td>\n",
       "      <td>3.19</td>\n",
       "      <td>51.0</td>\n",
       "      <td>933.0</td>\n",
       "      <td>69.75</td>\n",
       "      <td>62.0</td>\n",
       "      <td>200.0</td>\n",
       "      <td>NaN</td>\n",
       "      <td>2.0</td>\n",
       "      <td>D-penicillamine</td>\n",
       "      <td>F</td>\n",
       "      <td>N</td>\n",
       "      <td>N</td>\n",
       "      <td>Y</td>\n",
       "      <td>S</td>\n",
       "      <td>D</td>\n",
       "    </tr>\n",
       "    <tr>\n",
       "      <th>7903</th>\n",
       "      <td>7903</td>\n",
       "      <td>3584</td>\n",
       "      <td>22960.0</td>\n",
       "      <td>0.7</td>\n",
       "      <td>248.0</td>\n",
       "      <td>2.75</td>\n",
       "      <td>32.0</td>\n",
       "      <td>1003.0</td>\n",
       "      <td>57.35</td>\n",
       "      <td>118.0</td>\n",
       "      <td>221.0</td>\n",
       "      <td>10.6</td>\n",
       "      <td>4.0</td>\n",
       "      <td>D-penicillamine</td>\n",
       "      <td>M</td>\n",
       "      <td>N</td>\n",
       "      <td>Y</td>\n",
       "      <td>N</td>\n",
       "      <td>N</td>\n",
       "      <td>D</td>\n",
       "    </tr>\n",
       "    <tr>\n",
       "      <th>7904</th>\n",
       "      <td>7904</td>\n",
       "      <td>1978</td>\n",
       "      <td>19237.0</td>\n",
       "      <td>0.7</td>\n",
       "      <td>256.0</td>\n",
       "      <td>3.23</td>\n",
       "      <td>22.0</td>\n",
       "      <td>645.0</td>\n",
       "      <td>74.40</td>\n",
       "      <td>85.0</td>\n",
       "      <td>336.0</td>\n",
       "      <td>10.3</td>\n",
       "      <td>3.0</td>\n",
       "      <td>D-penicillamine</td>\n",
       "      <td>F</td>\n",
       "      <td>N</td>\n",
       "      <td>N</td>\n",
       "      <td>N</td>\n",
       "      <td>N</td>\n",
       "      <td>C</td>\n",
       "    </tr>\n",
       "  </tbody>\n",
       "</table>\n",
       "<p>7905 rows × 20 columns</p>\n",
       "</div>"
      ],
      "text/plain": [
       "        id  N_Days      Age  Bilirubin  Cholesterol  Albumin  Copper  \\\n",
       "0        0     999  21532.0        2.3        316.0     3.35   172.0   \n",
       "1        1    2574  19237.0        0.9        364.0     3.54    63.0   \n",
       "2        2    3428  13727.0        3.3        299.0     3.55   131.0   \n",
       "3        3    2576  18460.0        0.6        256.0     3.50    58.0   \n",
       "4        4     788  16658.0        1.1        346.0     3.65    63.0   \n",
       "...    ...     ...      ...        ...          ...      ...     ...   \n",
       "7900  7900    1166  16839.0        0.8        309.0     3.56    38.0   \n",
       "7901  7901    1492  17031.0        0.9        260.0     3.43    62.0   \n",
       "7902  7902    1576  25873.0        2.0        225.0     3.19    51.0   \n",
       "7903  7903    3584  22960.0        0.7        248.0     2.75    32.0   \n",
       "7904  7904    1978  19237.0        0.7        256.0     3.23    22.0   \n",
       "\n",
       "      Alk_Phos    SGOT  Tryglicerides  Platelets  Prothrombin  Stage  \\\n",
       "0       1601.0  179.80           63.0      394.0          9.7    3.0   \n",
       "1       1440.0  134.85           88.0      361.0         11.0    3.0   \n",
       "2       1029.0  119.35           50.0      199.0         11.7    4.0   \n",
       "3       1653.0   71.30           96.0      269.0         10.7    3.0   \n",
       "4       1181.0  125.55           96.0      298.0         10.6    4.0   \n",
       "...        ...     ...            ...        ...          ...    ...   \n",
       "7900    1629.0   79.05            NaN      344.0          9.9    2.0   \n",
       "7901    1440.0  142.00           78.0      277.0         10.0    4.0   \n",
       "7902     933.0   69.75           62.0      200.0          NaN    2.0   \n",
       "7903    1003.0   57.35          118.0      221.0         10.6    4.0   \n",
       "7904     645.0   74.40           85.0      336.0         10.3    3.0   \n",
       "\n",
       "                 Drug Sex Ascites Hepatomegaly Spiders Edema Status  \n",
       "0     D-penicillamine   M       N            N       N     N      D  \n",
       "1             Placebo   F       N            N       N     N      C  \n",
       "2             Placebo   F       N            Y       Y     Y      D  \n",
       "3             Placebo   F       N            N       N     N      C  \n",
       "4             Placebo   F       N            Y       N     N      C  \n",
       "...               ...  ..     ...          ...     ...   ...    ...  \n",
       "7900  D-penicillamine   F       N            N       N     N      C  \n",
       "7901          Placebo   F       N            Y       N     N      C  \n",
       "7902  D-penicillamine   F       N            N       Y     S      D  \n",
       "7903  D-penicillamine   M       N            Y       N     N      D  \n",
       "7904  D-penicillamine   F       N            N       N     N      C  \n",
       "\n",
       "[7905 rows x 20 columns]"
      ]
     },
     "execution_count": 26,
     "metadata": {},
     "output_type": "execute_result"
    }
   ],
   "source": [
    "data_final"
   ]
  },
  {
   "cell_type": "code",
   "execution_count": 27,
   "id": "6914f71c",
   "metadata": {
    "execution": {
     "iopub.execute_input": "2023-12-18T23:22:08.093132Z",
     "iopub.status.busy": "2023-12-18T23:22:08.092449Z",
     "iopub.status.idle": "2023-12-18T23:22:08.097632Z",
     "shell.execute_reply": "2023-12-18T23:22:08.096911Z"
    },
    "papermill": {
     "duration": 0.031846,
     "end_time": "2023-12-18T23:22:08.100002",
     "exception": false,
     "start_time": "2023-12-18T23:22:08.068156",
     "status": "completed"
    },
    "tags": []
   },
   "outputs": [
    {
     "name": "stdout",
     "output_type": "stream",
     "text": [
      "Index(['id', 'N_Days', 'Age', 'Bilirubin', 'Cholesterol', 'Albumin', 'Copper',\n",
      "       'Alk_Phos', 'SGOT', 'Tryglicerides', 'Platelets', 'Prothrombin',\n",
      "       'Stage', 'Drug', 'Sex', 'Ascites', 'Hepatomegaly', 'Spiders', 'Edema',\n",
      "       'Status'],\n",
      "      dtype='object')\n"
     ]
    }
   ],
   "source": [
    "print(data_final.columns)"
   ]
  },
  {
   "cell_type": "code",
   "execution_count": 28,
   "id": "6d2cad1e",
   "metadata": {
    "execution": {
     "iopub.execute_input": "2023-12-18T23:22:08.146916Z",
     "iopub.status.busy": "2023-12-18T23:22:08.146518Z",
     "iopub.status.idle": "2023-12-18T23:22:08.154140Z",
     "shell.execute_reply": "2023-12-18T23:22:08.153122Z"
    },
    "papermill": {
     "duration": 0.033659,
     "end_time": "2023-12-18T23:22:08.156448",
     "exception": false,
     "start_time": "2023-12-18T23:22:08.122789",
     "status": "completed"
    },
    "tags": []
   },
   "outputs": [],
   "source": [
    "data_final.drop(['id','Status','Cholesterol','Drug'],inplace=True,axis = 1)"
   ]
  },
  {
   "cell_type": "code",
   "execution_count": 29,
   "id": "341034f5",
   "metadata": {
    "execution": {
     "iopub.execute_input": "2023-12-18T23:22:08.203221Z",
     "iopub.status.busy": "2023-12-18T23:22:08.202863Z",
     "iopub.status.idle": "2023-12-18T23:22:08.208201Z",
     "shell.execute_reply": "2023-12-18T23:22:08.207244Z"
    },
    "papermill": {
     "duration": 0.031326,
     "end_time": "2023-12-18T23:22:08.210837",
     "exception": false,
     "start_time": "2023-12-18T23:22:08.179511",
     "status": "completed"
    },
    "tags": []
   },
   "outputs": [
    {
     "name": "stdout",
     "output_type": "stream",
     "text": [
      "['N_Days', 'Age', 'Bilirubin', 'Albumin', 'Copper', 'Alk_Phos', 'SGOT', 'Tryglicerides', 'Platelets', 'Prothrombin', 'Stage']\n",
      "['Sex', 'Ascites', 'Hepatomegaly', 'Spiders', 'Edema']\n"
     ]
    }
   ],
   "source": [
    "print(numeric_features)\n",
    "print(categorical_features)"
   ]
  },
  {
   "cell_type": "code",
   "execution_count": 30,
   "id": "127f1fd4",
   "metadata": {
    "execution": {
     "iopub.execute_input": "2023-12-18T23:22:08.258509Z",
     "iopub.status.busy": "2023-12-18T23:22:08.258132Z",
     "iopub.status.idle": "2023-12-18T23:22:08.291591Z",
     "shell.execute_reply": "2023-12-18T23:22:08.290831Z"
    },
    "papermill": {
     "duration": 0.060105,
     "end_time": "2023-12-18T23:22:08.293854",
     "exception": false,
     "start_time": "2023-12-18T23:22:08.233749",
     "status": "completed"
    },
    "tags": []
   },
   "outputs": [
    {
     "data": {
      "text/html": [
       "<div>\n",
       "<style scoped>\n",
       "    .dataframe tbody tr th:only-of-type {\n",
       "        vertical-align: middle;\n",
       "    }\n",
       "\n",
       "    .dataframe tbody tr th {\n",
       "        vertical-align: top;\n",
       "    }\n",
       "\n",
       "    .dataframe thead th {\n",
       "        text-align: right;\n",
       "    }\n",
       "</style>\n",
       "<table border=\"1\" class=\"dataframe\">\n",
       "  <thead>\n",
       "    <tr style=\"text-align: right;\">\n",
       "      <th></th>\n",
       "      <th>N_Days</th>\n",
       "      <th>Age</th>\n",
       "      <th>Bilirubin</th>\n",
       "      <th>Albumin</th>\n",
       "      <th>Copper</th>\n",
       "      <th>Alk_Phos</th>\n",
       "      <th>SGOT</th>\n",
       "      <th>Tryglicerides</th>\n",
       "      <th>Platelets</th>\n",
       "      <th>Prothrombin</th>\n",
       "      <th>Stage</th>\n",
       "      <th>Sex</th>\n",
       "      <th>Ascites</th>\n",
       "      <th>Hepatomegaly</th>\n",
       "      <th>Spiders</th>\n",
       "      <th>Edema</th>\n",
       "    </tr>\n",
       "  </thead>\n",
       "  <tbody>\n",
       "    <tr>\n",
       "      <th>0</th>\n",
       "      <td>999</td>\n",
       "      <td>21532.0</td>\n",
       "      <td>2.3</td>\n",
       "      <td>3.35</td>\n",
       "      <td>172.0</td>\n",
       "      <td>1601.0</td>\n",
       "      <td>179.80</td>\n",
       "      <td>63.0</td>\n",
       "      <td>394.0</td>\n",
       "      <td>9.7</td>\n",
       "      <td>3.0</td>\n",
       "      <td>M</td>\n",
       "      <td>N</td>\n",
       "      <td>N</td>\n",
       "      <td>N</td>\n",
       "      <td>N</td>\n",
       "    </tr>\n",
       "    <tr>\n",
       "      <th>1</th>\n",
       "      <td>2574</td>\n",
       "      <td>19237.0</td>\n",
       "      <td>0.9</td>\n",
       "      <td>3.54</td>\n",
       "      <td>63.0</td>\n",
       "      <td>1440.0</td>\n",
       "      <td>134.85</td>\n",
       "      <td>88.0</td>\n",
       "      <td>361.0</td>\n",
       "      <td>11.0</td>\n",
       "      <td>3.0</td>\n",
       "      <td>F</td>\n",
       "      <td>N</td>\n",
       "      <td>N</td>\n",
       "      <td>N</td>\n",
       "      <td>N</td>\n",
       "    </tr>\n",
       "    <tr>\n",
       "      <th>2</th>\n",
       "      <td>3428</td>\n",
       "      <td>13727.0</td>\n",
       "      <td>3.3</td>\n",
       "      <td>3.55</td>\n",
       "      <td>131.0</td>\n",
       "      <td>1029.0</td>\n",
       "      <td>119.35</td>\n",
       "      <td>50.0</td>\n",
       "      <td>199.0</td>\n",
       "      <td>11.7</td>\n",
       "      <td>4.0</td>\n",
       "      <td>F</td>\n",
       "      <td>N</td>\n",
       "      <td>Y</td>\n",
       "      <td>Y</td>\n",
       "      <td>Y</td>\n",
       "    </tr>\n",
       "    <tr>\n",
       "      <th>3</th>\n",
       "      <td>2576</td>\n",
       "      <td>18460.0</td>\n",
       "      <td>0.6</td>\n",
       "      <td>3.50</td>\n",
       "      <td>58.0</td>\n",
       "      <td>1653.0</td>\n",
       "      <td>71.30</td>\n",
       "      <td>96.0</td>\n",
       "      <td>269.0</td>\n",
       "      <td>10.7</td>\n",
       "      <td>3.0</td>\n",
       "      <td>F</td>\n",
       "      <td>N</td>\n",
       "      <td>N</td>\n",
       "      <td>N</td>\n",
       "      <td>N</td>\n",
       "    </tr>\n",
       "    <tr>\n",
       "      <th>4</th>\n",
       "      <td>788</td>\n",
       "      <td>16658.0</td>\n",
       "      <td>1.1</td>\n",
       "      <td>3.65</td>\n",
       "      <td>63.0</td>\n",
       "      <td>1181.0</td>\n",
       "      <td>125.55</td>\n",
       "      <td>96.0</td>\n",
       "      <td>298.0</td>\n",
       "      <td>10.6</td>\n",
       "      <td>4.0</td>\n",
       "      <td>F</td>\n",
       "      <td>N</td>\n",
       "      <td>Y</td>\n",
       "      <td>N</td>\n",
       "      <td>N</td>\n",
       "    </tr>\n",
       "    <tr>\n",
       "      <th>...</th>\n",
       "      <td>...</td>\n",
       "      <td>...</td>\n",
       "      <td>...</td>\n",
       "      <td>...</td>\n",
       "      <td>...</td>\n",
       "      <td>...</td>\n",
       "      <td>...</td>\n",
       "      <td>...</td>\n",
       "      <td>...</td>\n",
       "      <td>...</td>\n",
       "      <td>...</td>\n",
       "      <td>...</td>\n",
       "      <td>...</td>\n",
       "      <td>...</td>\n",
       "      <td>...</td>\n",
       "      <td>...</td>\n",
       "    </tr>\n",
       "    <tr>\n",
       "      <th>7900</th>\n",
       "      <td>1166</td>\n",
       "      <td>16839.0</td>\n",
       "      <td>0.8</td>\n",
       "      <td>3.56</td>\n",
       "      <td>38.0</td>\n",
       "      <td>1629.0</td>\n",
       "      <td>79.05</td>\n",
       "      <td>NaN</td>\n",
       "      <td>344.0</td>\n",
       "      <td>9.9</td>\n",
       "      <td>2.0</td>\n",
       "      <td>F</td>\n",
       "      <td>N</td>\n",
       "      <td>N</td>\n",
       "      <td>N</td>\n",
       "      <td>N</td>\n",
       "    </tr>\n",
       "    <tr>\n",
       "      <th>7901</th>\n",
       "      <td>1492</td>\n",
       "      <td>17031.0</td>\n",
       "      <td>0.9</td>\n",
       "      <td>3.43</td>\n",
       "      <td>62.0</td>\n",
       "      <td>1440.0</td>\n",
       "      <td>142.00</td>\n",
       "      <td>78.0</td>\n",
       "      <td>277.0</td>\n",
       "      <td>10.0</td>\n",
       "      <td>4.0</td>\n",
       "      <td>F</td>\n",
       "      <td>N</td>\n",
       "      <td>Y</td>\n",
       "      <td>N</td>\n",
       "      <td>N</td>\n",
       "    </tr>\n",
       "    <tr>\n",
       "      <th>7902</th>\n",
       "      <td>1576</td>\n",
       "      <td>25873.0</td>\n",
       "      <td>2.0</td>\n",
       "      <td>3.19</td>\n",
       "      <td>51.0</td>\n",
       "      <td>933.0</td>\n",
       "      <td>69.75</td>\n",
       "      <td>62.0</td>\n",
       "      <td>200.0</td>\n",
       "      <td>NaN</td>\n",
       "      <td>2.0</td>\n",
       "      <td>F</td>\n",
       "      <td>N</td>\n",
       "      <td>N</td>\n",
       "      <td>Y</td>\n",
       "      <td>S</td>\n",
       "    </tr>\n",
       "    <tr>\n",
       "      <th>7903</th>\n",
       "      <td>3584</td>\n",
       "      <td>22960.0</td>\n",
       "      <td>0.7</td>\n",
       "      <td>2.75</td>\n",
       "      <td>32.0</td>\n",
       "      <td>1003.0</td>\n",
       "      <td>57.35</td>\n",
       "      <td>118.0</td>\n",
       "      <td>221.0</td>\n",
       "      <td>10.6</td>\n",
       "      <td>4.0</td>\n",
       "      <td>M</td>\n",
       "      <td>N</td>\n",
       "      <td>Y</td>\n",
       "      <td>N</td>\n",
       "      <td>N</td>\n",
       "    </tr>\n",
       "    <tr>\n",
       "      <th>7904</th>\n",
       "      <td>1978</td>\n",
       "      <td>19237.0</td>\n",
       "      <td>0.7</td>\n",
       "      <td>3.23</td>\n",
       "      <td>22.0</td>\n",
       "      <td>645.0</td>\n",
       "      <td>74.40</td>\n",
       "      <td>85.0</td>\n",
       "      <td>336.0</td>\n",
       "      <td>10.3</td>\n",
       "      <td>3.0</td>\n",
       "      <td>F</td>\n",
       "      <td>N</td>\n",
       "      <td>N</td>\n",
       "      <td>N</td>\n",
       "      <td>N</td>\n",
       "    </tr>\n",
       "  </tbody>\n",
       "</table>\n",
       "<p>7905 rows × 16 columns</p>\n",
       "</div>"
      ],
      "text/plain": [
       "      N_Days      Age  Bilirubin  Albumin  Copper  Alk_Phos    SGOT  \\\n",
       "0        999  21532.0        2.3     3.35   172.0    1601.0  179.80   \n",
       "1       2574  19237.0        0.9     3.54    63.0    1440.0  134.85   \n",
       "2       3428  13727.0        3.3     3.55   131.0    1029.0  119.35   \n",
       "3       2576  18460.0        0.6     3.50    58.0    1653.0   71.30   \n",
       "4        788  16658.0        1.1     3.65    63.0    1181.0  125.55   \n",
       "...      ...      ...        ...      ...     ...       ...     ...   \n",
       "7900    1166  16839.0        0.8     3.56    38.0    1629.0   79.05   \n",
       "7901    1492  17031.0        0.9     3.43    62.0    1440.0  142.00   \n",
       "7902    1576  25873.0        2.0     3.19    51.0     933.0   69.75   \n",
       "7903    3584  22960.0        0.7     2.75    32.0    1003.0   57.35   \n",
       "7904    1978  19237.0        0.7     3.23    22.0     645.0   74.40   \n",
       "\n",
       "      Tryglicerides  Platelets  Prothrombin  Stage Sex Ascites Hepatomegaly  \\\n",
       "0              63.0      394.0          9.7    3.0   M       N            N   \n",
       "1              88.0      361.0         11.0    3.0   F       N            N   \n",
       "2              50.0      199.0         11.7    4.0   F       N            Y   \n",
       "3              96.0      269.0         10.7    3.0   F       N            N   \n",
       "4              96.0      298.0         10.6    4.0   F       N            Y   \n",
       "...             ...        ...          ...    ...  ..     ...          ...   \n",
       "7900            NaN      344.0          9.9    2.0   F       N            N   \n",
       "7901           78.0      277.0         10.0    4.0   F       N            Y   \n",
       "7902           62.0      200.0          NaN    2.0   F       N            N   \n",
       "7903          118.0      221.0         10.6    4.0   M       N            Y   \n",
       "7904           85.0      336.0         10.3    3.0   F       N            N   \n",
       "\n",
       "     Spiders Edema  \n",
       "0          N     N  \n",
       "1          N     N  \n",
       "2          Y     Y  \n",
       "3          N     N  \n",
       "4          N     N  \n",
       "...      ...   ...  \n",
       "7900       N     N  \n",
       "7901       N     N  \n",
       "7902       Y     S  \n",
       "7903       N     N  \n",
       "7904       N     N  \n",
       "\n",
       "[7905 rows x 16 columns]"
      ]
     },
     "execution_count": 30,
     "metadata": {},
     "output_type": "execute_result"
    }
   ],
   "source": [
    "data_final"
   ]
  },
  {
   "cell_type": "code",
   "execution_count": 31,
   "id": "18eedc9f",
   "metadata": {
    "execution": {
     "iopub.execute_input": "2023-12-18T23:22:08.342125Z",
     "iopub.status.busy": "2023-12-18T23:22:08.341136Z",
     "iopub.status.idle": "2023-12-18T23:22:08.345410Z",
     "shell.execute_reply": "2023-12-18T23:22:08.344440Z"
    },
    "papermill": {
     "duration": 0.030336,
     "end_time": "2023-12-18T23:22:08.347439",
     "exception": false,
     "start_time": "2023-12-18T23:22:08.317103",
     "status": "completed"
    },
    "tags": []
   },
   "outputs": [],
   "source": [
    "# data_final.drop([0],inplace=True,axis = 1)"
   ]
  },
  {
   "cell_type": "code",
   "execution_count": 32,
   "id": "34919966",
   "metadata": {
    "execution": {
     "iopub.execute_input": "2023-12-18T23:22:08.395907Z",
     "iopub.status.busy": "2023-12-18T23:22:08.395289Z",
     "iopub.status.idle": "2023-12-18T23:22:08.399890Z",
     "shell.execute_reply": "2023-12-18T23:22:08.398872Z"
    },
    "papermill": {
     "duration": 0.031227,
     "end_time": "2023-12-18T23:22:08.402072",
     "exception": false,
     "start_time": "2023-12-18T23:22:08.370845",
     "status": "completed"
    },
    "tags": []
   },
   "outputs": [],
   "source": [
    "# column_df = train[['Status']]"
   ]
  },
  {
   "cell_type": "code",
   "execution_count": 33,
   "id": "385c3254",
   "metadata": {
    "execution": {
     "iopub.execute_input": "2023-12-18T23:22:08.449443Z",
     "iopub.status.busy": "2023-12-18T23:22:08.449060Z",
     "iopub.status.idle": "2023-12-18T23:22:08.453344Z",
     "shell.execute_reply": "2023-12-18T23:22:08.452339Z"
    },
    "papermill": {
     "duration": 0.030546,
     "end_time": "2023-12-18T23:22:08.455467",
     "exception": false,
     "start_time": "2023-12-18T23:22:08.424921",
     "status": "completed"
    },
    "tags": []
   },
   "outputs": [],
   "source": [
    "# data_final.columns"
   ]
  },
  {
   "cell_type": "code",
   "execution_count": 34,
   "id": "976e81e6",
   "metadata": {
    "execution": {
     "iopub.execute_input": "2023-12-18T23:22:08.503919Z",
     "iopub.status.busy": "2023-12-18T23:22:08.503515Z",
     "iopub.status.idle": "2023-12-18T23:22:08.508067Z",
     "shell.execute_reply": "2023-12-18T23:22:08.506995Z"
    },
    "papermill": {
     "duration": 0.031496,
     "end_time": "2023-12-18T23:22:08.510167",
     "exception": false,
     "start_time": "2023-12-18T23:22:08.478671",
     "status": "completed"
    },
    "tags": []
   },
   "outputs": [],
   "source": [
    "# data_final = pd.concat([data_final, column_df], ignore_index=True)\n",
    "\n",
    "# column_df"
   ]
  },
  {
   "cell_type": "code",
   "execution_count": 35,
   "id": "e22e516a",
   "metadata": {
    "execution": {
     "iopub.execute_input": "2023-12-18T23:22:08.557954Z",
     "iopub.status.busy": "2023-12-18T23:22:08.557549Z",
     "iopub.status.idle": "2023-12-18T23:22:08.593361Z",
     "shell.execute_reply": "2023-12-18T23:22:08.592168Z"
    },
    "papermill": {
     "duration": 0.06298,
     "end_time": "2023-12-18T23:22:08.595821",
     "exception": false,
     "start_time": "2023-12-18T23:22:08.532841",
     "status": "completed"
    },
    "tags": []
   },
   "outputs": [
    {
     "data": {
      "text/html": [
       "<div>\n",
       "<style scoped>\n",
       "    .dataframe tbody tr th:only-of-type {\n",
       "        vertical-align: middle;\n",
       "    }\n",
       "\n",
       "    .dataframe tbody tr th {\n",
       "        vertical-align: top;\n",
       "    }\n",
       "\n",
       "    .dataframe thead th {\n",
       "        text-align: right;\n",
       "    }\n",
       "</style>\n",
       "<table border=\"1\" class=\"dataframe\">\n",
       "  <thead>\n",
       "    <tr style=\"text-align: right;\">\n",
       "      <th></th>\n",
       "      <th>N_Days</th>\n",
       "      <th>Age</th>\n",
       "      <th>Bilirubin</th>\n",
       "      <th>Albumin</th>\n",
       "      <th>Copper</th>\n",
       "      <th>Alk_Phos</th>\n",
       "      <th>SGOT</th>\n",
       "      <th>Tryglicerides</th>\n",
       "      <th>Platelets</th>\n",
       "      <th>Prothrombin</th>\n",
       "      <th>Stage</th>\n",
       "      <th>Sex</th>\n",
       "      <th>Ascites</th>\n",
       "      <th>Hepatomegaly</th>\n",
       "      <th>Spiders</th>\n",
       "      <th>Edema</th>\n",
       "    </tr>\n",
       "  </thead>\n",
       "  <tbody>\n",
       "    <tr>\n",
       "      <th>0</th>\n",
       "      <td>999</td>\n",
       "      <td>21532.0</td>\n",
       "      <td>2.3</td>\n",
       "      <td>3.35</td>\n",
       "      <td>172.0</td>\n",
       "      <td>1601.0</td>\n",
       "      <td>179.80</td>\n",
       "      <td>63.0</td>\n",
       "      <td>394.0</td>\n",
       "      <td>9.7</td>\n",
       "      <td>3.0</td>\n",
       "      <td>M</td>\n",
       "      <td>N</td>\n",
       "      <td>N</td>\n",
       "      <td>N</td>\n",
       "      <td>N</td>\n",
       "    </tr>\n",
       "    <tr>\n",
       "      <th>1</th>\n",
       "      <td>2574</td>\n",
       "      <td>19237.0</td>\n",
       "      <td>0.9</td>\n",
       "      <td>3.54</td>\n",
       "      <td>63.0</td>\n",
       "      <td>1440.0</td>\n",
       "      <td>134.85</td>\n",
       "      <td>88.0</td>\n",
       "      <td>361.0</td>\n",
       "      <td>11.0</td>\n",
       "      <td>3.0</td>\n",
       "      <td>F</td>\n",
       "      <td>N</td>\n",
       "      <td>N</td>\n",
       "      <td>N</td>\n",
       "      <td>N</td>\n",
       "    </tr>\n",
       "    <tr>\n",
       "      <th>2</th>\n",
       "      <td>3428</td>\n",
       "      <td>13727.0</td>\n",
       "      <td>3.3</td>\n",
       "      <td>3.55</td>\n",
       "      <td>131.0</td>\n",
       "      <td>1029.0</td>\n",
       "      <td>119.35</td>\n",
       "      <td>50.0</td>\n",
       "      <td>199.0</td>\n",
       "      <td>11.7</td>\n",
       "      <td>4.0</td>\n",
       "      <td>F</td>\n",
       "      <td>N</td>\n",
       "      <td>Y</td>\n",
       "      <td>Y</td>\n",
       "      <td>Y</td>\n",
       "    </tr>\n",
       "    <tr>\n",
       "      <th>3</th>\n",
       "      <td>2576</td>\n",
       "      <td>18460.0</td>\n",
       "      <td>0.6</td>\n",
       "      <td>3.50</td>\n",
       "      <td>58.0</td>\n",
       "      <td>1653.0</td>\n",
       "      <td>71.30</td>\n",
       "      <td>96.0</td>\n",
       "      <td>269.0</td>\n",
       "      <td>10.7</td>\n",
       "      <td>3.0</td>\n",
       "      <td>F</td>\n",
       "      <td>N</td>\n",
       "      <td>N</td>\n",
       "      <td>N</td>\n",
       "      <td>N</td>\n",
       "    </tr>\n",
       "    <tr>\n",
       "      <th>4</th>\n",
       "      <td>788</td>\n",
       "      <td>16658.0</td>\n",
       "      <td>1.1</td>\n",
       "      <td>3.65</td>\n",
       "      <td>63.0</td>\n",
       "      <td>1181.0</td>\n",
       "      <td>125.55</td>\n",
       "      <td>96.0</td>\n",
       "      <td>298.0</td>\n",
       "      <td>10.6</td>\n",
       "      <td>4.0</td>\n",
       "      <td>F</td>\n",
       "      <td>N</td>\n",
       "      <td>Y</td>\n",
       "      <td>N</td>\n",
       "      <td>N</td>\n",
       "    </tr>\n",
       "    <tr>\n",
       "      <th>...</th>\n",
       "      <td>...</td>\n",
       "      <td>...</td>\n",
       "      <td>...</td>\n",
       "      <td>...</td>\n",
       "      <td>...</td>\n",
       "      <td>...</td>\n",
       "      <td>...</td>\n",
       "      <td>...</td>\n",
       "      <td>...</td>\n",
       "      <td>...</td>\n",
       "      <td>...</td>\n",
       "      <td>...</td>\n",
       "      <td>...</td>\n",
       "      <td>...</td>\n",
       "      <td>...</td>\n",
       "      <td>...</td>\n",
       "    </tr>\n",
       "    <tr>\n",
       "      <th>7900</th>\n",
       "      <td>1166</td>\n",
       "      <td>16839.0</td>\n",
       "      <td>0.8</td>\n",
       "      <td>3.56</td>\n",
       "      <td>38.0</td>\n",
       "      <td>1629.0</td>\n",
       "      <td>79.05</td>\n",
       "      <td>NaN</td>\n",
       "      <td>344.0</td>\n",
       "      <td>9.9</td>\n",
       "      <td>2.0</td>\n",
       "      <td>F</td>\n",
       "      <td>N</td>\n",
       "      <td>N</td>\n",
       "      <td>N</td>\n",
       "      <td>N</td>\n",
       "    </tr>\n",
       "    <tr>\n",
       "      <th>7901</th>\n",
       "      <td>1492</td>\n",
       "      <td>17031.0</td>\n",
       "      <td>0.9</td>\n",
       "      <td>3.43</td>\n",
       "      <td>62.0</td>\n",
       "      <td>1440.0</td>\n",
       "      <td>142.00</td>\n",
       "      <td>78.0</td>\n",
       "      <td>277.0</td>\n",
       "      <td>10.0</td>\n",
       "      <td>4.0</td>\n",
       "      <td>F</td>\n",
       "      <td>N</td>\n",
       "      <td>Y</td>\n",
       "      <td>N</td>\n",
       "      <td>N</td>\n",
       "    </tr>\n",
       "    <tr>\n",
       "      <th>7902</th>\n",
       "      <td>1576</td>\n",
       "      <td>25873.0</td>\n",
       "      <td>2.0</td>\n",
       "      <td>3.19</td>\n",
       "      <td>51.0</td>\n",
       "      <td>933.0</td>\n",
       "      <td>69.75</td>\n",
       "      <td>62.0</td>\n",
       "      <td>200.0</td>\n",
       "      <td>NaN</td>\n",
       "      <td>2.0</td>\n",
       "      <td>F</td>\n",
       "      <td>N</td>\n",
       "      <td>N</td>\n",
       "      <td>Y</td>\n",
       "      <td>S</td>\n",
       "    </tr>\n",
       "    <tr>\n",
       "      <th>7903</th>\n",
       "      <td>3584</td>\n",
       "      <td>22960.0</td>\n",
       "      <td>0.7</td>\n",
       "      <td>2.75</td>\n",
       "      <td>32.0</td>\n",
       "      <td>1003.0</td>\n",
       "      <td>57.35</td>\n",
       "      <td>118.0</td>\n",
       "      <td>221.0</td>\n",
       "      <td>10.6</td>\n",
       "      <td>4.0</td>\n",
       "      <td>M</td>\n",
       "      <td>N</td>\n",
       "      <td>Y</td>\n",
       "      <td>N</td>\n",
       "      <td>N</td>\n",
       "    </tr>\n",
       "    <tr>\n",
       "      <th>7904</th>\n",
       "      <td>1978</td>\n",
       "      <td>19237.0</td>\n",
       "      <td>0.7</td>\n",
       "      <td>3.23</td>\n",
       "      <td>22.0</td>\n",
       "      <td>645.0</td>\n",
       "      <td>74.40</td>\n",
       "      <td>85.0</td>\n",
       "      <td>336.0</td>\n",
       "      <td>10.3</td>\n",
       "      <td>3.0</td>\n",
       "      <td>F</td>\n",
       "      <td>N</td>\n",
       "      <td>N</td>\n",
       "      <td>N</td>\n",
       "      <td>N</td>\n",
       "    </tr>\n",
       "  </tbody>\n",
       "</table>\n",
       "<p>7905 rows × 16 columns</p>\n",
       "</div>"
      ],
      "text/plain": [
       "      N_Days      Age  Bilirubin  Albumin  Copper  Alk_Phos    SGOT  \\\n",
       "0        999  21532.0        2.3     3.35   172.0    1601.0  179.80   \n",
       "1       2574  19237.0        0.9     3.54    63.0    1440.0  134.85   \n",
       "2       3428  13727.0        3.3     3.55   131.0    1029.0  119.35   \n",
       "3       2576  18460.0        0.6     3.50    58.0    1653.0   71.30   \n",
       "4        788  16658.0        1.1     3.65    63.0    1181.0  125.55   \n",
       "...      ...      ...        ...      ...     ...       ...     ...   \n",
       "7900    1166  16839.0        0.8     3.56    38.0    1629.0   79.05   \n",
       "7901    1492  17031.0        0.9     3.43    62.0    1440.0  142.00   \n",
       "7902    1576  25873.0        2.0     3.19    51.0     933.0   69.75   \n",
       "7903    3584  22960.0        0.7     2.75    32.0    1003.0   57.35   \n",
       "7904    1978  19237.0        0.7     3.23    22.0     645.0   74.40   \n",
       "\n",
       "      Tryglicerides  Platelets  Prothrombin  Stage Sex Ascites Hepatomegaly  \\\n",
       "0              63.0      394.0          9.7    3.0   M       N            N   \n",
       "1              88.0      361.0         11.0    3.0   F       N            N   \n",
       "2              50.0      199.0         11.7    4.0   F       N            Y   \n",
       "3              96.0      269.0         10.7    3.0   F       N            N   \n",
       "4              96.0      298.0         10.6    4.0   F       N            Y   \n",
       "...             ...        ...          ...    ...  ..     ...          ...   \n",
       "7900            NaN      344.0          9.9    2.0   F       N            N   \n",
       "7901           78.0      277.0         10.0    4.0   F       N            Y   \n",
       "7902           62.0      200.0          NaN    2.0   F       N            N   \n",
       "7903          118.0      221.0         10.6    4.0   M       N            Y   \n",
       "7904           85.0      336.0         10.3    3.0   F       N            N   \n",
       "\n",
       "     Spiders Edema  \n",
       "0          N     N  \n",
       "1          N     N  \n",
       "2          Y     Y  \n",
       "3          N     N  \n",
       "4          N     N  \n",
       "...      ...   ...  \n",
       "7900       N     N  \n",
       "7901       N     N  \n",
       "7902       Y     S  \n",
       "7903       N     N  \n",
       "7904       N     N  \n",
       "\n",
       "[7905 rows x 16 columns]"
      ]
     },
     "execution_count": 35,
     "metadata": {},
     "output_type": "execute_result"
    }
   ],
   "source": [
    "data_final"
   ]
  },
  {
   "cell_type": "code",
   "execution_count": 36,
   "id": "e79697fa",
   "metadata": {
    "execution": {
     "iopub.execute_input": "2023-12-18T23:22:08.645214Z",
     "iopub.status.busy": "2023-12-18T23:22:08.644833Z",
     "iopub.status.idle": "2023-12-18T23:22:08.657948Z",
     "shell.execute_reply": "2023-12-18T23:22:08.656715Z"
    },
    "papermill": {
     "duration": 0.0403,
     "end_time": "2023-12-18T23:22:08.660334",
     "exception": false,
     "start_time": "2023-12-18T23:22:08.620034",
     "status": "completed"
    },
    "tags": []
   },
   "outputs": [
    {
     "name": "stdout",
     "output_type": "stream",
     "text": [
      "Null Counts:\n",
      "N_Days             0\n",
      "Age               36\n",
      "Bilirubin        789\n",
      "Albumin          178\n",
      "Copper           655\n",
      "Alk_Phos         792\n",
      "SGOT             146\n",
      "Tryglicerides    267\n",
      "Platelets        114\n",
      "Prothrombin      173\n",
      "Stage              0\n",
      "Sex                0\n",
      "Ascites            0\n",
      "Hepatomegaly       0\n",
      "Spiders            0\n",
      "Edema              0\n",
      "dtype: int64\n"
     ]
    }
   ],
   "source": [
    "\n",
    "\n",
    "# Count null values in each column\n",
    "null_counts = data_final.isnull().sum()\n",
    "\n",
    "# Display null counts\n",
    "print(\"Null Counts:\")\n",
    "print(null_counts)\n",
    "\n",
    "# Drop rows with null values\n",
    "# df_cleaned_final = data_final.dropna()\n",
    "# print(df_cleaned_final.isnull().sum())"
   ]
  },
  {
   "cell_type": "code",
   "execution_count": 37,
   "id": "af9c318e",
   "metadata": {
    "execution": {
     "iopub.execute_input": "2023-12-18T23:22:08.710226Z",
     "iopub.status.busy": "2023-12-18T23:22:08.709840Z",
     "iopub.status.idle": "2023-12-18T23:22:08.716191Z",
     "shell.execute_reply": "2023-12-18T23:22:08.715130Z"
    },
    "papermill": {
     "duration": 0.033736,
     "end_time": "2023-12-18T23:22:08.718231",
     "exception": false,
     "start_time": "2023-12-18T23:22:08.684495",
     "status": "completed"
    },
    "tags": []
   },
   "outputs": [
    {
     "data": {
      "text/plain": [
       "(7905, 16)"
      ]
     },
     "execution_count": 37,
     "metadata": {},
     "output_type": "execute_result"
    }
   ],
   "source": [
    "data_final.shape"
   ]
  },
  {
   "cell_type": "code",
   "execution_count": 38,
   "id": "68333dfe",
   "metadata": {
    "execution": {
     "iopub.execute_input": "2023-12-18T23:22:08.767782Z",
     "iopub.status.busy": "2023-12-18T23:22:08.767082Z",
     "iopub.status.idle": "2023-12-18T23:22:08.775849Z",
     "shell.execute_reply": "2023-12-18T23:22:08.774783Z"
    },
    "papermill": {
     "duration": 0.036304,
     "end_time": "2023-12-18T23:22:08.778132",
     "exception": false,
     "start_time": "2023-12-18T23:22:08.741828",
     "status": "completed"
    },
    "tags": []
   },
   "outputs": [
    {
     "data": {
      "text/plain": [
       "0       2\n",
       "1       0\n",
       "2       2\n",
       "3       0\n",
       "4       0\n",
       "       ..\n",
       "7900    0\n",
       "7901    0\n",
       "7902    2\n",
       "7903    2\n",
       "7904    0\n",
       "Name: Status, Length: 7905, dtype: int64"
      ]
     },
     "execution_count": 38,
     "metadata": {},
     "output_type": "execute_result"
    }
   ],
   "source": [
    "y_c"
   ]
  },
  {
   "cell_type": "code",
   "execution_count": 39,
   "id": "5a37ea8c",
   "metadata": {
    "execution": {
     "iopub.execute_input": "2023-12-18T23:22:08.840696Z",
     "iopub.status.busy": "2023-12-18T23:22:08.839717Z",
     "iopub.status.idle": "2023-12-18T23:22:08.851749Z",
     "shell.execute_reply": "2023-12-18T23:22:08.850744Z"
    },
    "papermill": {
     "duration": 0.045406,
     "end_time": "2023-12-18T23:22:08.854011",
     "exception": false,
     "start_time": "2023-12-18T23:22:08.808605",
     "status": "completed"
    },
    "tags": []
   },
   "outputs": [
    {
     "name": "stdout",
     "output_type": "stream",
     "text": [
      "X_train shape: (7114, 16)\n",
      "X_test shape: (791, 16)\n",
      "y_train shape: (7114,)\n",
      "y_test shape: (791,)\n"
     ]
    }
   ],
   "source": [
    "X_train, X_test, y_train, y_test = train_test_split(data_final, y_c, test_size=0.1, random_state=42)\n",
    "\n",
    "# Display the shapes of the resulting sets\n",
    "print(\"X_train shape:\", X_train.shape)\n",
    "print(\"X_test shape:\", X_test.shape)\n",
    "print(\"y_train shape:\", y_train.shape)\n",
    "print(\"y_test shape:\", y_test.shape)"
   ]
  },
  {
   "cell_type": "code",
   "execution_count": 40,
   "id": "03dc5d61",
   "metadata": {
    "execution": {
     "iopub.execute_input": "2023-12-18T23:22:08.915701Z",
     "iopub.status.busy": "2023-12-18T23:22:08.914978Z",
     "iopub.status.idle": "2023-12-18T23:22:08.921118Z",
     "shell.execute_reply": "2023-12-18T23:22:08.920049Z"
    },
    "papermill": {
     "duration": 0.039008,
     "end_time": "2023-12-18T23:22:08.923665",
     "exception": false,
     "start_time": "2023-12-18T23:22:08.884657",
     "status": "completed"
    },
    "tags": []
   },
   "outputs": [],
   "source": [
    "numeric_transformer = Pipeline(steps=[\n",
    "    ('imputer', SimpleImputer(strategy='mean'))\n",
    "])\n",
    "\n",
    "categorical_transformer = Pipeline(steps=[\n",
    "#     ('imputer', SimpleImputer(strategy='most_frequent')),\n",
    "    ('onehot', OneHotEncoder(handle_unknown='ignore'))\n",
    "])\n"
   ]
  },
  {
   "cell_type": "code",
   "execution_count": 41,
   "id": "7570714b",
   "metadata": {
    "execution": {
     "iopub.execute_input": "2023-12-18T23:22:08.978907Z",
     "iopub.status.busy": "2023-12-18T23:22:08.978140Z",
     "iopub.status.idle": "2023-12-18T23:22:08.983660Z",
     "shell.execute_reply": "2023-12-18T23:22:08.982920Z"
    },
    "papermill": {
     "duration": 0.03357,
     "end_time": "2023-12-18T23:22:08.985738",
     "exception": false,
     "start_time": "2023-12-18T23:22:08.952168",
     "status": "completed"
    },
    "tags": []
   },
   "outputs": [],
   "source": [
    "preprocessor = ColumnTransformer(\n",
    "    transformers=[\n",
    "        ('num', numeric_transformer, numeric_features),\n",
    "        ('cat', categorical_transformer, categorical_features)\n",
    "    ]\n",
    ")"
   ]
  },
  {
   "cell_type": "code",
   "execution_count": 42,
   "id": "97334633",
   "metadata": {
    "execution": {
     "iopub.execute_input": "2023-12-18T23:22:09.036456Z",
     "iopub.status.busy": "2023-12-18T23:22:09.035589Z",
     "iopub.status.idle": "2023-12-18T23:22:09.041281Z",
     "shell.execute_reply": "2023-12-18T23:22:09.040290Z"
    },
    "papermill": {
     "duration": 0.033553,
     "end_time": "2023-12-18T23:22:09.043361",
     "exception": false,
     "start_time": "2023-12-18T23:22:09.009808",
     "status": "completed"
    },
    "tags": []
   },
   "outputs": [],
   "source": [
    "base_model = XGBClassifier(n_estimators=100, random_state=42)\n",
    "\n",
    "# Wrap the XGBoost model in a BaggingClassifier\n",
    "xgboost_model = BaggingClassifier(base_model, n_estimators=8, random_state=42)\n",
    "# Create the ensemble pipeline\n",
    "ensemble_pipeline = Pipeline(steps=[\n",
    "    ('preprocessor', preprocessor),\n",
    "    ('classifier', xgboost_model)\n",
    "])"
   ]
  },
  {
   "cell_type": "code",
   "execution_count": null,
   "id": "699ab4a0",
   "metadata": {
    "papermill": {
     "duration": 0.023481,
     "end_time": "2023-12-18T23:22:09.090872",
     "exception": false,
     "start_time": "2023-12-18T23:22:09.067391",
     "status": "completed"
    },
    "tags": []
   },
   "outputs": [],
   "source": []
  },
  {
   "cell_type": "code",
   "execution_count": 43,
   "id": "60de37b5",
   "metadata": {
    "execution": {
     "iopub.execute_input": "2023-12-18T23:22:09.140615Z",
     "iopub.status.busy": "2023-12-18T23:22:09.139445Z",
     "iopub.status.idle": "2023-12-18T23:22:14.546030Z",
     "shell.execute_reply": "2023-12-18T23:22:14.544792Z"
    },
    "papermill": {
     "duration": 5.434062,
     "end_time": "2023-12-18T23:22:14.548436",
     "exception": false,
     "start_time": "2023-12-18T23:22:09.114374",
     "status": "completed"
    },
    "tags": []
   },
   "outputs": [
    {
     "data": {
      "text/html": [
       "<style>#sk-container-id-1 {color: black;background-color: white;}#sk-container-id-1 pre{padding: 0;}#sk-container-id-1 div.sk-toggleable {background-color: white;}#sk-container-id-1 label.sk-toggleable__label {cursor: pointer;display: block;width: 100%;margin-bottom: 0;padding: 0.3em;box-sizing: border-box;text-align: center;}#sk-container-id-1 label.sk-toggleable__label-arrow:before {content: \"▸\";float: left;margin-right: 0.25em;color: #696969;}#sk-container-id-1 label.sk-toggleable__label-arrow:hover:before {color: black;}#sk-container-id-1 div.sk-estimator:hover label.sk-toggleable__label-arrow:before {color: black;}#sk-container-id-1 div.sk-toggleable__content {max-height: 0;max-width: 0;overflow: hidden;text-align: left;background-color: #f0f8ff;}#sk-container-id-1 div.sk-toggleable__content pre {margin: 0.2em;color: black;border-radius: 0.25em;background-color: #f0f8ff;}#sk-container-id-1 input.sk-toggleable__control:checked~div.sk-toggleable__content {max-height: 200px;max-width: 100%;overflow: auto;}#sk-container-id-1 input.sk-toggleable__control:checked~label.sk-toggleable__label-arrow:before {content: \"▾\";}#sk-container-id-1 div.sk-estimator input.sk-toggleable__control:checked~label.sk-toggleable__label {background-color: #d4ebff;}#sk-container-id-1 div.sk-label input.sk-toggleable__control:checked~label.sk-toggleable__label {background-color: #d4ebff;}#sk-container-id-1 input.sk-hidden--visually {border: 0;clip: rect(1px 1px 1px 1px);clip: rect(1px, 1px, 1px, 1px);height: 1px;margin: -1px;overflow: hidden;padding: 0;position: absolute;width: 1px;}#sk-container-id-1 div.sk-estimator {font-family: monospace;background-color: #f0f8ff;border: 1px dotted black;border-radius: 0.25em;box-sizing: border-box;margin-bottom: 0.5em;}#sk-container-id-1 div.sk-estimator:hover {background-color: #d4ebff;}#sk-container-id-1 div.sk-parallel-item::after {content: \"\";width: 100%;border-bottom: 1px solid gray;flex-grow: 1;}#sk-container-id-1 div.sk-label:hover label.sk-toggleable__label {background-color: #d4ebff;}#sk-container-id-1 div.sk-serial::before {content: \"\";position: absolute;border-left: 1px solid gray;box-sizing: border-box;top: 0;bottom: 0;left: 50%;z-index: 0;}#sk-container-id-1 div.sk-serial {display: flex;flex-direction: column;align-items: center;background-color: white;padding-right: 0.2em;padding-left: 0.2em;position: relative;}#sk-container-id-1 div.sk-item {position: relative;z-index: 1;}#sk-container-id-1 div.sk-parallel {display: flex;align-items: stretch;justify-content: center;background-color: white;position: relative;}#sk-container-id-1 div.sk-item::before, #sk-container-id-1 div.sk-parallel-item::before {content: \"\";position: absolute;border-left: 1px solid gray;box-sizing: border-box;top: 0;bottom: 0;left: 50%;z-index: -1;}#sk-container-id-1 div.sk-parallel-item {display: flex;flex-direction: column;z-index: 1;position: relative;background-color: white;}#sk-container-id-1 div.sk-parallel-item:first-child::after {align-self: flex-end;width: 50%;}#sk-container-id-1 div.sk-parallel-item:last-child::after {align-self: flex-start;width: 50%;}#sk-container-id-1 div.sk-parallel-item:only-child::after {width: 0;}#sk-container-id-1 div.sk-dashed-wrapped {border: 1px dashed gray;margin: 0 0.4em 0.5em 0.4em;box-sizing: border-box;padding-bottom: 0.4em;background-color: white;}#sk-container-id-1 div.sk-label label {font-family: monospace;font-weight: bold;display: inline-block;line-height: 1.2em;}#sk-container-id-1 div.sk-label-container {text-align: center;}#sk-container-id-1 div.sk-container {/* jupyter's `normalize.less` sets `[hidden] { display: none; }` but bootstrap.min.css set `[hidden] { display: none !important; }` so we also need the `!important` here to be able to override the default hidden behavior on the sphinx rendered scikit-learn.org. See: https://github.com/scikit-learn/scikit-learn/issues/21755 */display: inline-block !important;position: relative;}#sk-container-id-1 div.sk-text-repr-fallback {display: none;}</style><div id=\"sk-container-id-1\" class=\"sk-top-container\"><div class=\"sk-text-repr-fallback\"><pre>Pipeline(steps=[(&#x27;preprocessor&#x27;,\n",
       "                 ColumnTransformer(transformers=[(&#x27;num&#x27;,\n",
       "                                                  Pipeline(steps=[(&#x27;imputer&#x27;,\n",
       "                                                                   SimpleImputer())]),\n",
       "                                                  [&#x27;N_Days&#x27;, &#x27;Age&#x27;, &#x27;Bilirubin&#x27;,\n",
       "                                                   &#x27;Albumin&#x27;, &#x27;Copper&#x27;,\n",
       "                                                   &#x27;Alk_Phos&#x27;, &#x27;SGOT&#x27;,\n",
       "                                                   &#x27;Tryglicerides&#x27;, &#x27;Platelets&#x27;,\n",
       "                                                   &#x27;Prothrombin&#x27;, &#x27;Stage&#x27;]),\n",
       "                                                 (&#x27;cat&#x27;,\n",
       "                                                  Pipeline(steps=[(&#x27;onehot&#x27;,\n",
       "                                                                   OneHotEncoder(handle_unknown=&#x27;ignore&#x27;))]),\n",
       "                                                  [&#x27;Sex&#x27;, &#x27;Ascites&#x27;,\n",
       "                                                   &#x27;Hepatomegaly&#x27;, &#x27;Spiders&#x27;...\n",
       "                                                           importance_type=None,\n",
       "                                                           interaction_constraints=None,\n",
       "                                                           learning_rate=None,\n",
       "                                                           max_bin=None,\n",
       "                                                           max_cat_threshold=None,\n",
       "                                                           max_cat_to_onehot=None,\n",
       "                                                           max_delta_step=None,\n",
       "                                                           max_depth=None,\n",
       "                                                           max_leaves=None,\n",
       "                                                           min_child_weight=None,\n",
       "                                                           missing=nan,\n",
       "                                                           monotone_constraints=None,\n",
       "                                                           multi_strategy=None,\n",
       "                                                           n_estimators=100,\n",
       "                                                           n_jobs=None,\n",
       "                                                           num_parallel_tree=None,\n",
       "                                                           random_state=42, ...),\n",
       "                                   n_estimators=8, random_state=42))])</pre><b>In a Jupyter environment, please rerun this cell to show the HTML representation or trust the notebook. <br />On GitHub, the HTML representation is unable to render, please try loading this page with nbviewer.org.</b></div><div class=\"sk-container\" hidden><div class=\"sk-item sk-dashed-wrapped\"><div class=\"sk-label-container\"><div class=\"sk-label sk-toggleable\"><input class=\"sk-toggleable__control sk-hidden--visually\" id=\"sk-estimator-id-1\" type=\"checkbox\" ><label for=\"sk-estimator-id-1\" class=\"sk-toggleable__label sk-toggleable__label-arrow\">Pipeline</label><div class=\"sk-toggleable__content\"><pre>Pipeline(steps=[(&#x27;preprocessor&#x27;,\n",
       "                 ColumnTransformer(transformers=[(&#x27;num&#x27;,\n",
       "                                                  Pipeline(steps=[(&#x27;imputer&#x27;,\n",
       "                                                                   SimpleImputer())]),\n",
       "                                                  [&#x27;N_Days&#x27;, &#x27;Age&#x27;, &#x27;Bilirubin&#x27;,\n",
       "                                                   &#x27;Albumin&#x27;, &#x27;Copper&#x27;,\n",
       "                                                   &#x27;Alk_Phos&#x27;, &#x27;SGOT&#x27;,\n",
       "                                                   &#x27;Tryglicerides&#x27;, &#x27;Platelets&#x27;,\n",
       "                                                   &#x27;Prothrombin&#x27;, &#x27;Stage&#x27;]),\n",
       "                                                 (&#x27;cat&#x27;,\n",
       "                                                  Pipeline(steps=[(&#x27;onehot&#x27;,\n",
       "                                                                   OneHotEncoder(handle_unknown=&#x27;ignore&#x27;))]),\n",
       "                                                  [&#x27;Sex&#x27;, &#x27;Ascites&#x27;,\n",
       "                                                   &#x27;Hepatomegaly&#x27;, &#x27;Spiders&#x27;...\n",
       "                                                           importance_type=None,\n",
       "                                                           interaction_constraints=None,\n",
       "                                                           learning_rate=None,\n",
       "                                                           max_bin=None,\n",
       "                                                           max_cat_threshold=None,\n",
       "                                                           max_cat_to_onehot=None,\n",
       "                                                           max_delta_step=None,\n",
       "                                                           max_depth=None,\n",
       "                                                           max_leaves=None,\n",
       "                                                           min_child_weight=None,\n",
       "                                                           missing=nan,\n",
       "                                                           monotone_constraints=None,\n",
       "                                                           multi_strategy=None,\n",
       "                                                           n_estimators=100,\n",
       "                                                           n_jobs=None,\n",
       "                                                           num_parallel_tree=None,\n",
       "                                                           random_state=42, ...),\n",
       "                                   n_estimators=8, random_state=42))])</pre></div></div></div><div class=\"sk-serial\"><div class=\"sk-item sk-dashed-wrapped\"><div class=\"sk-label-container\"><div class=\"sk-label sk-toggleable\"><input class=\"sk-toggleable__control sk-hidden--visually\" id=\"sk-estimator-id-2\" type=\"checkbox\" ><label for=\"sk-estimator-id-2\" class=\"sk-toggleable__label sk-toggleable__label-arrow\">preprocessor: ColumnTransformer</label><div class=\"sk-toggleable__content\"><pre>ColumnTransformer(transformers=[(&#x27;num&#x27;,\n",
       "                                 Pipeline(steps=[(&#x27;imputer&#x27;, SimpleImputer())]),\n",
       "                                 [&#x27;N_Days&#x27;, &#x27;Age&#x27;, &#x27;Bilirubin&#x27;, &#x27;Albumin&#x27;,\n",
       "                                  &#x27;Copper&#x27;, &#x27;Alk_Phos&#x27;, &#x27;SGOT&#x27;, &#x27;Tryglicerides&#x27;,\n",
       "                                  &#x27;Platelets&#x27;, &#x27;Prothrombin&#x27;, &#x27;Stage&#x27;]),\n",
       "                                (&#x27;cat&#x27;,\n",
       "                                 Pipeline(steps=[(&#x27;onehot&#x27;,\n",
       "                                                  OneHotEncoder(handle_unknown=&#x27;ignore&#x27;))]),\n",
       "                                 [&#x27;Sex&#x27;, &#x27;Ascites&#x27;, &#x27;Hepatomegaly&#x27;, &#x27;Spiders&#x27;,\n",
       "                                  &#x27;Edema&#x27;])])</pre></div></div></div><div class=\"sk-parallel\"><div class=\"sk-parallel-item\"><div class=\"sk-item\"><div class=\"sk-label-container\"><div class=\"sk-label sk-toggleable\"><input class=\"sk-toggleable__control sk-hidden--visually\" id=\"sk-estimator-id-3\" type=\"checkbox\" ><label for=\"sk-estimator-id-3\" class=\"sk-toggleable__label sk-toggleable__label-arrow\">num</label><div class=\"sk-toggleable__content\"><pre>[&#x27;N_Days&#x27;, &#x27;Age&#x27;, &#x27;Bilirubin&#x27;, &#x27;Albumin&#x27;, &#x27;Copper&#x27;, &#x27;Alk_Phos&#x27;, &#x27;SGOT&#x27;, &#x27;Tryglicerides&#x27;, &#x27;Platelets&#x27;, &#x27;Prothrombin&#x27;, &#x27;Stage&#x27;]</pre></div></div></div><div class=\"sk-serial\"><div class=\"sk-item\"><div class=\"sk-serial\"><div class=\"sk-item\"><div class=\"sk-estimator sk-toggleable\"><input class=\"sk-toggleable__control sk-hidden--visually\" id=\"sk-estimator-id-4\" type=\"checkbox\" ><label for=\"sk-estimator-id-4\" class=\"sk-toggleable__label sk-toggleable__label-arrow\">SimpleImputer</label><div class=\"sk-toggleable__content\"><pre>SimpleImputer()</pre></div></div></div></div></div></div></div></div><div class=\"sk-parallel-item\"><div class=\"sk-item\"><div class=\"sk-label-container\"><div class=\"sk-label sk-toggleable\"><input class=\"sk-toggleable__control sk-hidden--visually\" id=\"sk-estimator-id-5\" type=\"checkbox\" ><label for=\"sk-estimator-id-5\" class=\"sk-toggleable__label sk-toggleable__label-arrow\">cat</label><div class=\"sk-toggleable__content\"><pre>[&#x27;Sex&#x27;, &#x27;Ascites&#x27;, &#x27;Hepatomegaly&#x27;, &#x27;Spiders&#x27;, &#x27;Edema&#x27;]</pre></div></div></div><div class=\"sk-serial\"><div class=\"sk-item\"><div class=\"sk-serial\"><div class=\"sk-item\"><div class=\"sk-estimator sk-toggleable\"><input class=\"sk-toggleable__control sk-hidden--visually\" id=\"sk-estimator-id-6\" type=\"checkbox\" ><label for=\"sk-estimator-id-6\" class=\"sk-toggleable__label sk-toggleable__label-arrow\">OneHotEncoder</label><div class=\"sk-toggleable__content\"><pre>OneHotEncoder(handle_unknown=&#x27;ignore&#x27;)</pre></div></div></div></div></div></div></div></div></div></div><div class=\"sk-item sk-dashed-wrapped\"><div class=\"sk-label-container\"><div class=\"sk-label sk-toggleable\"><input class=\"sk-toggleable__control sk-hidden--visually\" id=\"sk-estimator-id-7\" type=\"checkbox\" ><label for=\"sk-estimator-id-7\" class=\"sk-toggleable__label sk-toggleable__label-arrow\">classifier: BaggingClassifier</label><div class=\"sk-toggleable__content\"><pre>BaggingClassifier(estimator=XGBClassifier(base_score=None, booster=None,\n",
       "                                          callbacks=None,\n",
       "                                          colsample_bylevel=None,\n",
       "                                          colsample_bynode=None,\n",
       "                                          colsample_bytree=None, device=None,\n",
       "                                          early_stopping_rounds=None,\n",
       "                                          enable_categorical=False,\n",
       "                                          eval_metric=None, feature_types=None,\n",
       "                                          gamma=None, grow_policy=None,\n",
       "                                          importance_type=None,\n",
       "                                          interaction_constraints=None,\n",
       "                                          learning_rate=None, max_bin=None,\n",
       "                                          max_cat_threshold=None,\n",
       "                                          max_cat_to_onehot=None,\n",
       "                                          max_delta_step=None, max_depth=None,\n",
       "                                          max_leaves=None,\n",
       "                                          min_child_weight=None, missing=nan,\n",
       "                                          monotone_constraints=None,\n",
       "                                          multi_strategy=None, n_estimators=100,\n",
       "                                          n_jobs=None, num_parallel_tree=None,\n",
       "                                          random_state=42, ...),\n",
       "                  n_estimators=8, random_state=42)</pre></div></div></div><div class=\"sk-parallel\"><div class=\"sk-parallel-item\"><div class=\"sk-item\"><div class=\"sk-label-container\"><div class=\"sk-label sk-toggleable\"><input class=\"sk-toggleable__control sk-hidden--visually\" id=\"sk-estimator-id-8\" type=\"checkbox\" ><label for=\"sk-estimator-id-8\" class=\"sk-toggleable__label sk-toggleable__label-arrow\">estimator: XGBClassifier</label><div class=\"sk-toggleable__content\"><pre>XGBClassifier(base_score=None, booster=None, callbacks=None,\n",
       "              colsample_bylevel=None, colsample_bynode=None,\n",
       "              colsample_bytree=None, device=None, early_stopping_rounds=None,\n",
       "              enable_categorical=False, eval_metric=None, feature_types=None,\n",
       "              gamma=None, grow_policy=None, importance_type=None,\n",
       "              interaction_constraints=None, learning_rate=None, max_bin=None,\n",
       "              max_cat_threshold=None, max_cat_to_onehot=None,\n",
       "              max_delta_step=None, max_depth=None, max_leaves=None,\n",
       "              min_child_weight=None, missing=nan, monotone_constraints=None,\n",
       "              multi_strategy=None, n_estimators=100, n_jobs=None,\n",
       "              num_parallel_tree=None, random_state=42, ...)</pre></div></div></div><div class=\"sk-serial\"><div class=\"sk-item\"><div class=\"sk-estimator sk-toggleable\"><input class=\"sk-toggleable__control sk-hidden--visually\" id=\"sk-estimator-id-9\" type=\"checkbox\" ><label for=\"sk-estimator-id-9\" class=\"sk-toggleable__label sk-toggleable__label-arrow\">XGBClassifier</label><div class=\"sk-toggleable__content\"><pre>XGBClassifier(base_score=None, booster=None, callbacks=None,\n",
       "              colsample_bylevel=None, colsample_bynode=None,\n",
       "              colsample_bytree=None, device=None, early_stopping_rounds=None,\n",
       "              enable_categorical=False, eval_metric=None, feature_types=None,\n",
       "              gamma=None, grow_policy=None, importance_type=None,\n",
       "              interaction_constraints=None, learning_rate=None, max_bin=None,\n",
       "              max_cat_threshold=None, max_cat_to_onehot=None,\n",
       "              max_delta_step=None, max_depth=None, max_leaves=None,\n",
       "              min_child_weight=None, missing=nan, monotone_constraints=None,\n",
       "              multi_strategy=None, n_estimators=100, n_jobs=None,\n",
       "              num_parallel_tree=None, random_state=42, ...)</pre></div></div></div></div></div></div></div></div></div></div></div></div>"
      ],
      "text/plain": [
       "Pipeline(steps=[('preprocessor',\n",
       "                 ColumnTransformer(transformers=[('num',\n",
       "                                                  Pipeline(steps=[('imputer',\n",
       "                                                                   SimpleImputer())]),\n",
       "                                                  ['N_Days', 'Age', 'Bilirubin',\n",
       "                                                   'Albumin', 'Copper',\n",
       "                                                   'Alk_Phos', 'SGOT',\n",
       "                                                   'Tryglicerides', 'Platelets',\n",
       "                                                   'Prothrombin', 'Stage']),\n",
       "                                                 ('cat',\n",
       "                                                  Pipeline(steps=[('onehot',\n",
       "                                                                   OneHotEncoder(handle_unknown='ignore'))]),\n",
       "                                                  ['Sex', 'Ascites',\n",
       "                                                   'Hepatomegaly', 'Spiders'...\n",
       "                                                           importance_type=None,\n",
       "                                                           interaction_constraints=None,\n",
       "                                                           learning_rate=None,\n",
       "                                                           max_bin=None,\n",
       "                                                           max_cat_threshold=None,\n",
       "                                                           max_cat_to_onehot=None,\n",
       "                                                           max_delta_step=None,\n",
       "                                                           max_depth=None,\n",
       "                                                           max_leaves=None,\n",
       "                                                           min_child_weight=None,\n",
       "                                                           missing=nan,\n",
       "                                                           monotone_constraints=None,\n",
       "                                                           multi_strategy=None,\n",
       "                                                           n_estimators=100,\n",
       "                                                           n_jobs=None,\n",
       "                                                           num_parallel_tree=None,\n",
       "                                                           random_state=42, ...),\n",
       "                                   n_estimators=8, random_state=42))])"
      ]
     },
     "execution_count": 43,
     "metadata": {},
     "output_type": "execute_result"
    }
   ],
   "source": [
    "ensemble_pipeline.fit(X_train, y_train)\n"
   ]
  },
  {
   "cell_type": "code",
   "execution_count": 44,
   "id": "1985d291",
   "metadata": {
    "execution": {
     "iopub.execute_input": "2023-12-18T23:22:14.603043Z",
     "iopub.status.busy": "2023-12-18T23:22:14.602660Z",
     "iopub.status.idle": "2023-12-18T23:22:14.658181Z",
     "shell.execute_reply": "2023-12-18T23:22:14.657324Z"
    },
    "papermill": {
     "duration": 0.08658,
     "end_time": "2023-12-18T23:22:14.660629",
     "exception": false,
     "start_time": "2023-12-18T23:22:14.574049",
     "status": "completed"
    },
    "tags": []
   },
   "outputs": [
    {
     "name": "stdout",
     "output_type": "stream",
     "text": [
      "Accuracy of the ensemble model: 0.84\n"
     ]
    }
   ],
   "source": [
    "y_pred = ensemble_pipeline.predict(X_test)\n",
    "\n",
    "# Evaluate the accuracy of the ensemble model\n",
    "accuracy = accuracy_score(y_test, y_pred)\n",
    "print(f\"Accuracy of the ensemble model: {accuracy:.2f}\")"
   ]
  },
  {
   "cell_type": "code",
   "execution_count": 45,
   "id": "c6fa5903",
   "metadata": {
    "execution": {
     "iopub.execute_input": "2023-12-18T23:22:14.713796Z",
     "iopub.status.busy": "2023-12-18T23:22:14.713371Z",
     "iopub.status.idle": "2023-12-18T23:22:14.757152Z",
     "shell.execute_reply": "2023-12-18T23:22:14.756134Z"
    },
    "papermill": {
     "duration": 0.073067,
     "end_time": "2023-12-18T23:22:14.759833",
     "exception": false,
     "start_time": "2023-12-18T23:22:14.686766",
     "status": "completed"
    },
    "tags": []
   },
   "outputs": [],
   "source": [
    "test_probs = ensemble_pipeline.predict_proba(X_test)"
   ]
  },
  {
   "cell_type": "code",
   "execution_count": 46,
   "id": "712cb3d2",
   "metadata": {
    "execution": {
     "iopub.execute_input": "2023-12-18T23:22:14.815055Z",
     "iopub.status.busy": "2023-12-18T23:22:14.814102Z",
     "iopub.status.idle": "2023-12-18T23:22:14.822806Z",
     "shell.execute_reply": "2023-12-18T23:22:14.821994Z"
    },
    "papermill": {
     "duration": 0.038071,
     "end_time": "2023-12-18T23:22:14.825092",
     "exception": false,
     "start_time": "2023-12-18T23:22:14.787021",
     "status": "completed"
    },
    "tags": []
   },
   "outputs": [
    {
     "name": "stdout",
     "output_type": "stream",
     "text": [
      "Log Loss: 0.5005\n"
     ]
    }
   ],
   "source": [
    "loss = log_loss(y_test, test_probs)\n",
    "\n",
    "print(f'Log Loss: {loss:.4f}')"
   ]
  },
  {
   "cell_type": "code",
   "execution_count": 47,
   "id": "b2c699e7",
   "metadata": {
    "execution": {
     "iopub.execute_input": "2023-12-18T23:22:14.879415Z",
     "iopub.status.busy": "2023-12-18T23:22:14.878691Z",
     "iopub.status.idle": "2023-12-18T23:22:14.884070Z",
     "shell.execute_reply": "2023-12-18T23:22:14.883112Z"
    },
    "papermill": {
     "duration": 0.035679,
     "end_time": "2023-12-18T23:22:14.886374",
     "exception": false,
     "start_time": "2023-12-18T23:22:14.850695",
     "status": "completed"
    },
    "tags": []
   },
   "outputs": [
    {
     "name": "stdout",
     "output_type": "stream",
     "text": [
      "[[9.60633099e-01 4.86633591e-04 3.88802544e-02]\n",
      " [4.74951931e-01 1.85741136e-02 5.06473942e-01]\n",
      " [9.45850611e-01 3.14489240e-03 5.10044607e-02]\n",
      " ...\n",
      " [9.91646372e-01 4.71889616e-04 7.88172602e-03]\n",
      " [9.71409388e-01 2.35983760e-04 2.83546381e-02]\n",
      " [9.41672407e-01 3.36867626e-03 5.49589198e-02]]\n"
     ]
    }
   ],
   "source": [
    "print(test_probs)"
   ]
  },
  {
   "cell_type": "code",
   "execution_count": 48,
   "id": "e20d585e",
   "metadata": {
    "execution": {
     "iopub.execute_input": "2023-12-18T23:22:14.938588Z",
     "iopub.status.busy": "2023-12-18T23:22:14.938171Z",
     "iopub.status.idle": "2023-12-18T23:22:14.945111Z",
     "shell.execute_reply": "2023-12-18T23:22:14.943949Z"
    },
    "papermill": {
     "duration": 0.03626,
     "end_time": "2023-12-18T23:22:14.947618",
     "exception": false,
     "start_time": "2023-12-18T23:22:14.911358",
     "status": "completed"
    },
    "tags": []
   },
   "outputs": [],
   "source": [
    "test_new = test.drop(['id','Cholesterol','Drug'],axis = 1)"
   ]
  },
  {
   "cell_type": "code",
   "execution_count": 49,
   "id": "3e50bfc2",
   "metadata": {
    "execution": {
     "iopub.execute_input": "2023-12-18T23:22:15.002856Z",
     "iopub.status.busy": "2023-12-18T23:22:15.002018Z",
     "iopub.status.idle": "2023-12-18T23:22:15.032700Z",
     "shell.execute_reply": "2023-12-18T23:22:15.031869Z"
    },
    "papermill": {
     "duration": 0.060976,
     "end_time": "2023-12-18T23:22:15.034781",
     "exception": false,
     "start_time": "2023-12-18T23:22:14.973805",
     "status": "completed"
    },
    "tags": []
   },
   "outputs": [
    {
     "data": {
      "text/html": [
       "<div>\n",
       "<style scoped>\n",
       "    .dataframe tbody tr th:only-of-type {\n",
       "        vertical-align: middle;\n",
       "    }\n",
       "\n",
       "    .dataframe tbody tr th {\n",
       "        vertical-align: top;\n",
       "    }\n",
       "\n",
       "    .dataframe thead th {\n",
       "        text-align: right;\n",
       "    }\n",
       "</style>\n",
       "<table border=\"1\" class=\"dataframe\">\n",
       "  <thead>\n",
       "    <tr style=\"text-align: right;\">\n",
       "      <th></th>\n",
       "      <th>N_Days</th>\n",
       "      <th>Age</th>\n",
       "      <th>Sex</th>\n",
       "      <th>Ascites</th>\n",
       "      <th>Hepatomegaly</th>\n",
       "      <th>Spiders</th>\n",
       "      <th>Edema</th>\n",
       "      <th>Bilirubin</th>\n",
       "      <th>Albumin</th>\n",
       "      <th>Copper</th>\n",
       "      <th>Alk_Phos</th>\n",
       "      <th>SGOT</th>\n",
       "      <th>Tryglicerides</th>\n",
       "      <th>Platelets</th>\n",
       "      <th>Prothrombin</th>\n",
       "      <th>Stage</th>\n",
       "    </tr>\n",
       "  </thead>\n",
       "  <tbody>\n",
       "    <tr>\n",
       "      <th>0</th>\n",
       "      <td>3839</td>\n",
       "      <td>19724</td>\n",
       "      <td>F</td>\n",
       "      <td>N</td>\n",
       "      <td>Y</td>\n",
       "      <td>N</td>\n",
       "      <td>N</td>\n",
       "      <td>1.2</td>\n",
       "      <td>3.37</td>\n",
       "      <td>65.0</td>\n",
       "      <td>1636.0</td>\n",
       "      <td>151.90</td>\n",
       "      <td>90.0</td>\n",
       "      <td>430.0</td>\n",
       "      <td>10.6</td>\n",
       "      <td>2.0</td>\n",
       "    </tr>\n",
       "    <tr>\n",
       "      <th>1</th>\n",
       "      <td>2468</td>\n",
       "      <td>14975</td>\n",
       "      <td>F</td>\n",
       "      <td>N</td>\n",
       "      <td>N</td>\n",
       "      <td>N</td>\n",
       "      <td>N</td>\n",
       "      <td>1.1</td>\n",
       "      <td>4.22</td>\n",
       "      <td>94.0</td>\n",
       "      <td>1257.0</td>\n",
       "      <td>151.90</td>\n",
       "      <td>155.0</td>\n",
       "      <td>227.0</td>\n",
       "      <td>10.0</td>\n",
       "      <td>2.0</td>\n",
       "    </tr>\n",
       "    <tr>\n",
       "      <th>2</th>\n",
       "      <td>51</td>\n",
       "      <td>13149</td>\n",
       "      <td>F</td>\n",
       "      <td>N</td>\n",
       "      <td>Y</td>\n",
       "      <td>N</td>\n",
       "      <td>Y</td>\n",
       "      <td>2.0</td>\n",
       "      <td>2.96</td>\n",
       "      <td>46.0</td>\n",
       "      <td>961.0</td>\n",
       "      <td>69.75</td>\n",
       "      <td>101.0</td>\n",
       "      <td>213.0</td>\n",
       "      <td>13.0</td>\n",
       "      <td>4.0</td>\n",
       "    </tr>\n",
       "    <tr>\n",
       "      <th>3</th>\n",
       "      <td>2330</td>\n",
       "      <td>20510</td>\n",
       "      <td>F</td>\n",
       "      <td>N</td>\n",
       "      <td>N</td>\n",
       "      <td>N</td>\n",
       "      <td>N</td>\n",
       "      <td>0.6</td>\n",
       "      <td>3.85</td>\n",
       "      <td>40.0</td>\n",
       "      <td>554.0</td>\n",
       "      <td>125.55</td>\n",
       "      <td>56.0</td>\n",
       "      <td>270.0</td>\n",
       "      <td>10.6</td>\n",
       "      <td>2.0</td>\n",
       "    </tr>\n",
       "    <tr>\n",
       "      <th>4</th>\n",
       "      <td>1615</td>\n",
       "      <td>21904</td>\n",
       "      <td>F</td>\n",
       "      <td>N</td>\n",
       "      <td>Y</td>\n",
       "      <td>N</td>\n",
       "      <td>N</td>\n",
       "      <td>1.4</td>\n",
       "      <td>2.97</td>\n",
       "      <td>121.0</td>\n",
       "      <td>1110.0</td>\n",
       "      <td>125.00</td>\n",
       "      <td>126.0</td>\n",
       "      <td>221.0</td>\n",
       "      <td>9.8</td>\n",
       "      <td>1.0</td>\n",
       "    </tr>\n",
       "    <tr>\n",
       "      <th>...</th>\n",
       "      <td>...</td>\n",
       "      <td>...</td>\n",
       "      <td>...</td>\n",
       "      <td>...</td>\n",
       "      <td>...</td>\n",
       "      <td>...</td>\n",
       "      <td>...</td>\n",
       "      <td>...</td>\n",
       "      <td>...</td>\n",
       "      <td>...</td>\n",
       "      <td>...</td>\n",
       "      <td>...</td>\n",
       "      <td>...</td>\n",
       "      <td>...</td>\n",
       "      <td>...</td>\n",
       "      <td>...</td>\n",
       "    </tr>\n",
       "    <tr>\n",
       "      <th>5266</th>\n",
       "      <td>2870</td>\n",
       "      <td>12279</td>\n",
       "      <td>F</td>\n",
       "      <td>N</td>\n",
       "      <td>N</td>\n",
       "      <td>N</td>\n",
       "      <td>N</td>\n",
       "      <td>1.3</td>\n",
       "      <td>3.43</td>\n",
       "      <td>75.0</td>\n",
       "      <td>1345.0</td>\n",
       "      <td>145.00</td>\n",
       "      <td>44.0</td>\n",
       "      <td>181.0</td>\n",
       "      <td>10.6</td>\n",
       "      <td>3.0</td>\n",
       "    </tr>\n",
       "    <tr>\n",
       "      <th>5267</th>\n",
       "      <td>1770</td>\n",
       "      <td>24803</td>\n",
       "      <td>F</td>\n",
       "      <td>N</td>\n",
       "      <td>N</td>\n",
       "      <td>N</td>\n",
       "      <td>N</td>\n",
       "      <td>0.5</td>\n",
       "      <td>4.09</td>\n",
       "      <td>121.0</td>\n",
       "      <td>663.0</td>\n",
       "      <td>79.05</td>\n",
       "      <td>94.0</td>\n",
       "      <td>311.0</td>\n",
       "      <td>9.7</td>\n",
       "      <td>3.0</td>\n",
       "    </tr>\n",
       "    <tr>\n",
       "      <th>5268</th>\n",
       "      <td>3707</td>\n",
       "      <td>16990</td>\n",
       "      <td>F</td>\n",
       "      <td>N</td>\n",
       "      <td>Y</td>\n",
       "      <td>N</td>\n",
       "      <td>N</td>\n",
       "      <td>0.8</td>\n",
       "      <td>4.09</td>\n",
       "      <td>13.0</td>\n",
       "      <td>1637.0</td>\n",
       "      <td>170.50</td>\n",
       "      <td>70.0</td>\n",
       "      <td>426.0</td>\n",
       "      <td>10.9</td>\n",
       "      <td>3.0</td>\n",
       "    </tr>\n",
       "    <tr>\n",
       "      <th>5269</th>\n",
       "      <td>1216</td>\n",
       "      <td>11773</td>\n",
       "      <td>F</td>\n",
       "      <td>N</td>\n",
       "      <td>N</td>\n",
       "      <td>N</td>\n",
       "      <td>N</td>\n",
       "      <td>0.7</td>\n",
       "      <td>3.80</td>\n",
       "      <td>52.0</td>\n",
       "      <td>678.0</td>\n",
       "      <td>57.00</td>\n",
       "      <td>126.0</td>\n",
       "      <td>306.0</td>\n",
       "      <td>10.2</td>\n",
       "      <td>1.0</td>\n",
       "    </tr>\n",
       "    <tr>\n",
       "      <th>5270</th>\n",
       "      <td>2272</td>\n",
       "      <td>21600</td>\n",
       "      <td>F</td>\n",
       "      <td>N</td>\n",
       "      <td>N</td>\n",
       "      <td>N</td>\n",
       "      <td>N</td>\n",
       "      <td>2.0</td>\n",
       "      <td>3.42</td>\n",
       "      <td>18.0</td>\n",
       "      <td>1636.0</td>\n",
       "      <td>170.50</td>\n",
       "      <td>83.0</td>\n",
       "      <td>213.0</td>\n",
       "      <td>13.6</td>\n",
       "      <td>2.0</td>\n",
       "    </tr>\n",
       "  </tbody>\n",
       "</table>\n",
       "<p>5271 rows × 16 columns</p>\n",
       "</div>"
      ],
      "text/plain": [
       "      N_Days    Age Sex Ascites Hepatomegaly Spiders Edema  Bilirubin  \\\n",
       "0       3839  19724   F       N            Y       N     N        1.2   \n",
       "1       2468  14975   F       N            N       N     N        1.1   \n",
       "2         51  13149   F       N            Y       N     Y        2.0   \n",
       "3       2330  20510   F       N            N       N     N        0.6   \n",
       "4       1615  21904   F       N            Y       N     N        1.4   \n",
       "...      ...    ...  ..     ...          ...     ...   ...        ...   \n",
       "5266    2870  12279   F       N            N       N     N        1.3   \n",
       "5267    1770  24803   F       N            N       N     N        0.5   \n",
       "5268    3707  16990   F       N            Y       N     N        0.8   \n",
       "5269    1216  11773   F       N            N       N     N        0.7   \n",
       "5270    2272  21600   F       N            N       N     N        2.0   \n",
       "\n",
       "      Albumin  Copper  Alk_Phos    SGOT  Tryglicerides  Platelets  \\\n",
       "0        3.37    65.0    1636.0  151.90           90.0      430.0   \n",
       "1        4.22    94.0    1257.0  151.90          155.0      227.0   \n",
       "2        2.96    46.0     961.0   69.75          101.0      213.0   \n",
       "3        3.85    40.0     554.0  125.55           56.0      270.0   \n",
       "4        2.97   121.0    1110.0  125.00          126.0      221.0   \n",
       "...       ...     ...       ...     ...            ...        ...   \n",
       "5266     3.43    75.0    1345.0  145.00           44.0      181.0   \n",
       "5267     4.09   121.0     663.0   79.05           94.0      311.0   \n",
       "5268     4.09    13.0    1637.0  170.50           70.0      426.0   \n",
       "5269     3.80    52.0     678.0   57.00          126.0      306.0   \n",
       "5270     3.42    18.0    1636.0  170.50           83.0      213.0   \n",
       "\n",
       "      Prothrombin  Stage  \n",
       "0            10.6    2.0  \n",
       "1            10.0    2.0  \n",
       "2            13.0    4.0  \n",
       "3            10.6    2.0  \n",
       "4             9.8    1.0  \n",
       "...           ...    ...  \n",
       "5266         10.6    3.0  \n",
       "5267          9.7    3.0  \n",
       "5268         10.9    3.0  \n",
       "5269         10.2    1.0  \n",
       "5270         13.6    2.0  \n",
       "\n",
       "[5271 rows x 16 columns]"
      ]
     },
     "execution_count": 49,
     "metadata": {},
     "output_type": "execute_result"
    }
   ],
   "source": [
    "test_new"
   ]
  },
  {
   "cell_type": "code",
   "execution_count": 50,
   "id": "c70005f1",
   "metadata": {
    "execution": {
     "iopub.execute_input": "2023-12-18T23:22:15.089358Z",
     "iopub.status.busy": "2023-12-18T23:22:15.088357Z",
     "iopub.status.idle": "2023-12-18T23:22:15.251653Z",
     "shell.execute_reply": "2023-12-18T23:22:15.250784Z"
    },
    "papermill": {
     "duration": 0.193093,
     "end_time": "2023-12-18T23:22:15.254230",
     "exception": false,
     "start_time": "2023-12-18T23:22:15.061137",
     "status": "completed"
    },
    "tags": []
   },
   "outputs": [],
   "source": [
    "test_probs_new = ensemble_pipeline.predict_proba(test_new)"
   ]
  },
  {
   "cell_type": "code",
   "execution_count": 51,
   "id": "18a1f2f1",
   "metadata": {
    "execution": {
     "iopub.execute_input": "2023-12-18T23:22:15.309092Z",
     "iopub.status.busy": "2023-12-18T23:22:15.308721Z",
     "iopub.status.idle": "2023-12-18T23:22:15.314949Z",
     "shell.execute_reply": "2023-12-18T23:22:15.314135Z"
    },
    "papermill": {
     "duration": 0.035664,
     "end_time": "2023-12-18T23:22:15.317210",
     "exception": false,
     "start_time": "2023-12-18T23:22:15.281546",
     "status": "completed"
    },
    "tags": []
   },
   "outputs": [
    {
     "data": {
      "text/plain": [
       "array([[6.45436686e-01, 1.34754264e-03, 3.53215741e-01],\n",
       "       [8.14190686e-01, 9.79619102e-02, 8.78474059e-02],\n",
       "       [1.32267991e-02, 9.58698436e-03, 9.77186218e-01],\n",
       "       ...,\n",
       "       [9.57085162e-01, 3.55676095e-04, 4.25591592e-02],\n",
       "       [9.97967124e-01, 1.25037873e-03, 7.82504860e-04],\n",
       "       [3.74923989e-01, 1.22272821e-03, 6.23853274e-01]])"
      ]
     },
     "execution_count": 51,
     "metadata": {},
     "output_type": "execute_result"
    }
   ],
   "source": [
    "test_probs_new\n"
   ]
  },
  {
   "cell_type": "code",
   "execution_count": 52,
   "id": "2131ac93",
   "metadata": {
    "execution": {
     "iopub.execute_input": "2023-12-18T23:22:15.372811Z",
     "iopub.status.busy": "2023-12-18T23:22:15.372025Z",
     "iopub.status.idle": "2023-12-18T23:22:15.395525Z",
     "shell.execute_reply": "2023-12-18T23:22:15.394454Z"
    },
    "papermill": {
     "duration": 0.054138,
     "end_time": "2023-12-18T23:22:15.397783",
     "exception": false,
     "start_time": "2023-12-18T23:22:15.343645",
     "status": "completed"
    },
    "tags": []
   },
   "outputs": [
    {
     "data": {
      "text/html": [
       "<div>\n",
       "<style scoped>\n",
       "    .dataframe tbody tr th:only-of-type {\n",
       "        vertical-align: middle;\n",
       "    }\n",
       "\n",
       "    .dataframe tbody tr th {\n",
       "        vertical-align: top;\n",
       "    }\n",
       "\n",
       "    .dataframe thead th {\n",
       "        text-align: right;\n",
       "    }\n",
       "</style>\n",
       "<table border=\"1\" class=\"dataframe\">\n",
       "  <thead>\n",
       "    <tr style=\"text-align: right;\">\n",
       "      <th></th>\n",
       "      <th>id</th>\n",
       "      <th>Status_C</th>\n",
       "      <th>Status_CL</th>\n",
       "      <th>Status_D</th>\n",
       "    </tr>\n",
       "  </thead>\n",
       "  <tbody>\n",
       "    <tr>\n",
       "      <th>0</th>\n",
       "      <td>7905</td>\n",
       "      <td>0.628084</td>\n",
       "      <td>0.034788</td>\n",
       "      <td>0.337128</td>\n",
       "    </tr>\n",
       "    <tr>\n",
       "      <th>1</th>\n",
       "      <td>7906</td>\n",
       "      <td>0.628084</td>\n",
       "      <td>0.034788</td>\n",
       "      <td>0.337128</td>\n",
       "    </tr>\n",
       "    <tr>\n",
       "      <th>2</th>\n",
       "      <td>7907</td>\n",
       "      <td>0.628084</td>\n",
       "      <td>0.034788</td>\n",
       "      <td>0.337128</td>\n",
       "    </tr>\n",
       "    <tr>\n",
       "      <th>3</th>\n",
       "      <td>7908</td>\n",
       "      <td>0.628084</td>\n",
       "      <td>0.034788</td>\n",
       "      <td>0.337128</td>\n",
       "    </tr>\n",
       "    <tr>\n",
       "      <th>4</th>\n",
       "      <td>7909</td>\n",
       "      <td>0.628084</td>\n",
       "      <td>0.034788</td>\n",
       "      <td>0.337128</td>\n",
       "    </tr>\n",
       "  </tbody>\n",
       "</table>\n",
       "</div>"
      ],
      "text/plain": [
       "     id  Status_C  Status_CL  Status_D\n",
       "0  7905  0.628084   0.034788  0.337128\n",
       "1  7906  0.628084   0.034788  0.337128\n",
       "2  7907  0.628084   0.034788  0.337128\n",
       "3  7908  0.628084   0.034788  0.337128\n",
       "4  7909  0.628084   0.034788  0.337128"
      ]
     },
     "execution_count": 52,
     "metadata": {},
     "output_type": "execute_result"
    }
   ],
   "source": [
    "output_df = pd.read_csv('/kaggle/input/playground-series-s3e26/sample_submission.csv')\n",
    "output_df.head()"
   ]
  },
  {
   "cell_type": "code",
   "execution_count": 53,
   "id": "0806c43e",
   "metadata": {
    "execution": {
     "iopub.execute_input": "2023-12-18T23:22:15.452656Z",
     "iopub.status.busy": "2023-12-18T23:22:15.451670Z",
     "iopub.status.idle": "2023-12-18T23:22:15.617826Z",
     "shell.execute_reply": "2023-12-18T23:22:15.617024Z"
    },
    "papermill": {
     "duration": 0.196417,
     "end_time": "2023-12-18T23:22:15.620345",
     "exception": false,
     "start_time": "2023-12-18T23:22:15.423928",
     "status": "completed"
    },
    "tags": []
   },
   "outputs": [
    {
     "data": {
      "text/html": [
       "<div>\n",
       "<style scoped>\n",
       "    .dataframe tbody tr th:only-of-type {\n",
       "        vertical-align: middle;\n",
       "    }\n",
       "\n",
       "    .dataframe tbody tr th {\n",
       "        vertical-align: top;\n",
       "    }\n",
       "\n",
       "    .dataframe thead th {\n",
       "        text-align: right;\n",
       "    }\n",
       "</style>\n",
       "<table border=\"1\" class=\"dataframe\">\n",
       "  <thead>\n",
       "    <tr style=\"text-align: right;\">\n",
       "      <th></th>\n",
       "      <th>Status_C</th>\n",
       "      <th>Status_CL</th>\n",
       "      <th>Status_D</th>\n",
       "    </tr>\n",
       "  </thead>\n",
       "  <tbody>\n",
       "    <tr>\n",
       "      <th>0</th>\n",
       "      <td>0.645437</td>\n",
       "      <td>0.001348</td>\n",
       "      <td>0.353216</td>\n",
       "    </tr>\n",
       "    <tr>\n",
       "      <th>1</th>\n",
       "      <td>0.814191</td>\n",
       "      <td>0.097962</td>\n",
       "      <td>0.087847</td>\n",
       "    </tr>\n",
       "    <tr>\n",
       "      <th>2</th>\n",
       "      <td>0.013227</td>\n",
       "      <td>0.009587</td>\n",
       "      <td>0.977186</td>\n",
       "    </tr>\n",
       "    <tr>\n",
       "      <th>3</th>\n",
       "      <td>0.987398</td>\n",
       "      <td>0.000365</td>\n",
       "      <td>0.012237</td>\n",
       "    </tr>\n",
       "    <tr>\n",
       "      <th>4</th>\n",
       "      <td>0.924827</td>\n",
       "      <td>0.014855</td>\n",
       "      <td>0.060318</td>\n",
       "    </tr>\n",
       "  </tbody>\n",
       "</table>\n",
       "</div>"
      ],
      "text/plain": [
       "   Status_C  Status_CL  Status_D\n",
       "0  0.645437   0.001348  0.353216\n",
       "1  0.814191   0.097962  0.087847\n",
       "2  0.013227   0.009587  0.977186\n",
       "3  0.987398   0.000365  0.012237\n",
       "4  0.924827   0.014855  0.060318"
      ]
     },
     "execution_count": 53,
     "metadata": {},
     "output_type": "execute_result"
    }
   ],
   "source": [
    "y_pred = ensemble_pipeline.predict_proba(test_new)\n",
    "y_pred = pd.DataFrame(y_pred)\n",
    "y_pred.columns = ['Status_C', 'Status_CL','Status_D']\n",
    "y_pred.head()"
   ]
  },
  {
   "cell_type": "code",
   "execution_count": 54,
   "id": "5921f8e5",
   "metadata": {
    "execution": {
     "iopub.execute_input": "2023-12-18T23:22:15.673957Z",
     "iopub.status.busy": "2023-12-18T23:22:15.673574Z",
     "iopub.status.idle": "2023-12-18T23:22:15.694986Z",
     "shell.execute_reply": "2023-12-18T23:22:15.693919Z"
    },
    "papermill": {
     "duration": 0.050505,
     "end_time": "2023-12-18T23:22:15.697159",
     "exception": false,
     "start_time": "2023-12-18T23:22:15.646654",
     "status": "completed"
    },
    "tags": []
   },
   "outputs": [
    {
     "data": {
      "text/html": [
       "<div>\n",
       "<style scoped>\n",
       "    .dataframe tbody tr th:only-of-type {\n",
       "        vertical-align: middle;\n",
       "    }\n",
       "\n",
       "    .dataframe tbody tr th {\n",
       "        vertical-align: top;\n",
       "    }\n",
       "\n",
       "    .dataframe thead th {\n",
       "        text-align: right;\n",
       "    }\n",
       "</style>\n",
       "<table border=\"1\" class=\"dataframe\">\n",
       "  <thead>\n",
       "    <tr style=\"text-align: right;\">\n",
       "      <th></th>\n",
       "      <th>Status_C</th>\n",
       "      <th>Status_CL</th>\n",
       "      <th>Status_D</th>\n",
       "      <th>id</th>\n",
       "    </tr>\n",
       "  </thead>\n",
       "  <tbody>\n",
       "    <tr>\n",
       "      <th>0</th>\n",
       "      <td>0.636760</td>\n",
       "      <td>0.018068</td>\n",
       "      <td>0.345172</td>\n",
       "      <td>7905</td>\n",
       "    </tr>\n",
       "    <tr>\n",
       "      <th>1</th>\n",
       "      <td>0.721137</td>\n",
       "      <td>0.066375</td>\n",
       "      <td>0.212488</td>\n",
       "      <td>7906</td>\n",
       "    </tr>\n",
       "    <tr>\n",
       "      <th>2</th>\n",
       "      <td>0.320655</td>\n",
       "      <td>0.022187</td>\n",
       "      <td>0.657157</td>\n",
       "      <td>7907</td>\n",
       "    </tr>\n",
       "    <tr>\n",
       "      <th>3</th>\n",
       "      <td>0.807741</td>\n",
       "      <td>0.017577</td>\n",
       "      <td>0.174683</td>\n",
       "      <td>7908</td>\n",
       "    </tr>\n",
       "    <tr>\n",
       "      <th>4</th>\n",
       "      <td>0.776456</td>\n",
       "      <td>0.024822</td>\n",
       "      <td>0.198723</td>\n",
       "      <td>7909</td>\n",
       "    </tr>\n",
       "  </tbody>\n",
       "</table>\n",
       "</div>"
      ],
      "text/plain": [
       "   Status_C  Status_CL  Status_D    id\n",
       "0  0.636760   0.018068  0.345172  7905\n",
       "1  0.721137   0.066375  0.212488  7906\n",
       "2  0.320655   0.022187  0.657157  7907\n",
       "3  0.807741   0.017577  0.174683  7908\n",
       "4  0.776456   0.024822  0.198723  7909"
      ]
     },
     "execution_count": 54,
     "metadata": {},
     "output_type": "execute_result"
    }
   ],
   "source": [
    "ids = test['id']\n",
    "submission_df = pd.DataFrame()\n",
    "submission_df = y_pred  \n",
    "submission_df['id'] = ids\n",
    "submission_df = 0.5*submission_df + 0.5*output_df\n",
    "submission_df['id'] = submission_df['id'].apply(lambda x : int(x))\n",
    "submission_df.head()"
   ]
  },
  {
   "cell_type": "code",
   "execution_count": 55,
   "id": "f76b0173",
   "metadata": {
    "execution": {
     "iopub.execute_input": "2023-12-18T23:22:15.750925Z",
     "iopub.status.busy": "2023-12-18T23:22:15.750547Z",
     "iopub.status.idle": "2023-12-18T23:22:15.755957Z",
     "shell.execute_reply": "2023-12-18T23:22:15.755115Z"
    },
    "papermill": {
     "duration": 0.035241,
     "end_time": "2023-12-18T23:22:15.758087",
     "exception": false,
     "start_time": "2023-12-18T23:22:15.722846",
     "status": "completed"
    },
    "tags": []
   },
   "outputs": [],
   "source": [
    "column_name = 'id'\n",
    "\n",
    "# Pop the column from its current position (index 3)\n",
    "column_to_move = submission_df.pop(column_name)\n",
    "\n",
    "# Insert the column at the desired position (index 0)\n",
    "submission_df.insert(0, column_name, column_to_move)"
   ]
  },
  {
   "cell_type": "code",
   "execution_count": 56,
   "id": "70bff773",
   "metadata": {
    "execution": {
     "iopub.execute_input": "2023-12-18T23:22:15.814342Z",
     "iopub.status.busy": "2023-12-18T23:22:15.813756Z",
     "iopub.status.idle": "2023-12-18T23:22:15.866203Z",
     "shell.execute_reply": "2023-12-18T23:22:15.865039Z"
    },
    "papermill": {
     "duration": 0.08369,
     "end_time": "2023-12-18T23:22:15.868869",
     "exception": false,
     "start_time": "2023-12-18T23:22:15.785179",
     "status": "completed"
    },
    "tags": []
   },
   "outputs": [],
   "source": [
    "submission_df.to_csv('submission.csv', index= False)"
   ]
  },
  {
   "cell_type": "code",
   "execution_count": null,
   "id": "60613d9f",
   "metadata": {
    "papermill": {
     "duration": 0.027224,
     "end_time": "2023-12-18T23:22:15.923194",
     "exception": false,
     "start_time": "2023-12-18T23:22:15.895970",
     "status": "completed"
    },
    "tags": []
   },
   "outputs": [],
   "source": []
  }
 ],
 "metadata": {
  "kaggle": {
   "accelerator": "none",
   "dataSources": [
    {
     "databundleVersionId": 7000181,
     "sourceId": 60893,
     "sourceType": "competition"
    }
   ],
   "dockerImageVersionId": 30626,
   "isGpuEnabled": false,
   "isInternetEnabled": true,
   "language": "python",
   "sourceType": "notebook"
  },
  "kernelspec": {
   "display_name": "Python 3",
   "language": "python",
   "name": "python3"
  },
  "language_info": {
   "codemirror_mode": {
    "name": "ipython",
    "version": 3
   },
   "file_extension": ".py",
   "mimetype": "text/x-python",
   "name": "python",
   "nbconvert_exporter": "python",
   "pygments_lexer": "ipython3",
   "version": "3.10.12"
  },
  "papermill": {
   "default_parameters": {},
   "duration": 17.630191,
   "end_time": "2023-12-18T23:22:16.572653",
   "environment_variables": {},
   "exception": null,
   "input_path": "__notebook__.ipynb",
   "output_path": "__notebook__.ipynb",
   "parameters": {},
   "start_time": "2023-12-18T23:21:58.942462",
   "version": "2.4.0"
  }
 },
 "nbformat": 4,
 "nbformat_minor": 5
}
