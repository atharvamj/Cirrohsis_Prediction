{
 "cells": [
  {
   "cell_type": "code",
   "execution_count": 1,
   "id": "4c5bc403",
   "metadata": {
    "_cell_guid": "b1076dfc-b9ad-4769-8c92-a6c4dae69d19",
    "_uuid": "8f2839f25d086af736a60e9eeb907d3b93b6e0e5",
    "execution": {
     "iopub.execute_input": "2023-12-17T18:02:16.145612Z",
     "iopub.status.busy": "2023-12-17T18:02:16.144916Z",
     "iopub.status.idle": "2023-12-17T18:02:18.298528Z",
     "shell.execute_reply": "2023-12-17T18:02:18.296413Z"
    },
    "papermill": {
     "duration": 2.165555,
     "end_time": "2023-12-17T18:02:18.301290",
     "exception": false,
     "start_time": "2023-12-17T18:02:16.135735",
     "status": "completed"
    },
    "tags": []
   },
   "outputs": [
    {
     "name": "stdout",
     "output_type": "stream",
     "text": [
      "/kaggle/input/playground-series-s3e26/sample_submission.csv\n",
      "/kaggle/input/playground-series-s3e26/train.csv\n",
      "/kaggle/input/playground-series-s3e26/test.csv\n"
     ]
    }
   ],
   "source": [
    "# This Python 3 environment comes with many helpful analytics libraries installed\n",
    "# It is defined by the kaggle/python Docker image: https://github.com/kaggle/docker-python\n",
    "# For example, here's several helpful packages to load\n",
    "\n",
    "import numpy as np # linear algebra\n",
    "import pandas as pd # data processing, CSV file I/O (e.g. pd.read_csv)\n",
    "\n",
    "# Input data files are available in the read-only \"../input/\" directory\n",
    "# For example, running this (by clicking run or pressing Shift+Enter) will list all files under the input directory\n",
    "from sklearn.model_selection import train_test_split\n",
    "from sklearn.ensemble import RandomForestClassifier\n",
    "\n",
    "import os\n",
    "for dirname, _, filenames in os.walk('/kaggle/input'):\n",
    "    for filename in filenames:\n",
    "        print(os.path.join(dirname, filename))\n",
    "\n",
    "# You can write up to 20GB to the current directory (/kaggle/working/) that gets preserved as output when you create a version using \"Save & Run All\" \n",
    "# You can also write temporary files to /kaggle/temp/, but they won't be saved outside of the current session\n",
    "import numpy as np\n",
    "import pandas as pd\n",
    "from sklearn.model_selection import train_test_split\n",
    "from sklearn.preprocessing import OneHotEncoder\n",
    "from sklearn.compose import ColumnTransformer\n",
    "from sklearn.pipeline import Pipeline\n",
    "# from sklearn import SimpleImputer\n",
    "from xgboost import XGBClassifier\n",
    "from sklearn.metrics import accuracy_score\n",
    "from sklearn.ensemble import VotingClassifier\n",
    "from sklearn.naive_bayes import GaussianNB\n",
    "from sklearn.metrics import log_loss\n",
    "from sklearn.ensemble import RandomForestClassifier, GradientBoostingClassifier"
   ]
  },
  {
   "cell_type": "code",
   "execution_count": 2,
   "id": "fd0f0d78",
   "metadata": {
    "execution": {
     "iopub.execute_input": "2023-12-17T18:02:18.317673Z",
     "iopub.status.busy": "2023-12-17T18:02:18.317101Z",
     "iopub.status.idle": "2023-12-17T18:02:18.322056Z",
     "shell.execute_reply": "2023-12-17T18:02:18.320943Z"
    },
    "papermill": {
     "duration": 0.015652,
     "end_time": "2023-12-17T18:02:18.324377",
     "exception": false,
     "start_time": "2023-12-17T18:02:18.308725",
     "status": "completed"
    },
    "tags": []
   },
   "outputs": [],
   "source": [
    "# !pip install --upgrade scikit-learn"
   ]
  },
  {
   "cell_type": "code",
   "execution_count": 3,
   "id": "ad7dbffb",
   "metadata": {
    "execution": {
     "iopub.execute_input": "2023-12-17T18:02:18.341110Z",
     "iopub.status.busy": "2023-12-17T18:02:18.340674Z",
     "iopub.status.idle": "2023-12-17T18:02:18.414140Z",
     "shell.execute_reply": "2023-12-17T18:02:18.412925Z"
    },
    "papermill": {
     "duration": 0.084937,
     "end_time": "2023-12-17T18:02:18.416771",
     "exception": false,
     "start_time": "2023-12-17T18:02:18.331834",
     "status": "completed"
    },
    "tags": []
   },
   "outputs": [],
   "source": [
    "train = pd.read_csv('/kaggle/input/playground-series-s3e26/train.csv')\n",
    "test = pd.read_csv('/kaggle/input/playground-series-s3e26/test.csv')\n"
   ]
  },
  {
   "cell_type": "code",
   "execution_count": 4,
   "id": "735ce176",
   "metadata": {
    "execution": {
     "iopub.execute_input": "2023-12-17T18:02:18.433130Z",
     "iopub.status.busy": "2023-12-17T18:02:18.432410Z",
     "iopub.status.idle": "2023-12-17T18:02:18.466537Z",
     "shell.execute_reply": "2023-12-17T18:02:18.465516Z"
    },
    "papermill": {
     "duration": 0.045009,
     "end_time": "2023-12-17T18:02:18.468943",
     "exception": false,
     "start_time": "2023-12-17T18:02:18.423934",
     "status": "completed"
    },
    "tags": []
   },
   "outputs": [
    {
     "data": {
      "text/html": [
       "<div>\n",
       "<style scoped>\n",
       "    .dataframe tbody tr th:only-of-type {\n",
       "        vertical-align: middle;\n",
       "    }\n",
       "\n",
       "    .dataframe tbody tr th {\n",
       "        vertical-align: top;\n",
       "    }\n",
       "\n",
       "    .dataframe thead th {\n",
       "        text-align: right;\n",
       "    }\n",
       "</style>\n",
       "<table border=\"1\" class=\"dataframe\">\n",
       "  <thead>\n",
       "    <tr style=\"text-align: right;\">\n",
       "      <th></th>\n",
       "      <th>id</th>\n",
       "      <th>N_Days</th>\n",
       "      <th>Drug</th>\n",
       "      <th>Age</th>\n",
       "      <th>Sex</th>\n",
       "      <th>Ascites</th>\n",
       "      <th>Hepatomegaly</th>\n",
       "      <th>Spiders</th>\n",
       "      <th>Edema</th>\n",
       "      <th>Bilirubin</th>\n",
       "      <th>Cholesterol</th>\n",
       "      <th>Albumin</th>\n",
       "      <th>Copper</th>\n",
       "      <th>Alk_Phos</th>\n",
       "      <th>SGOT</th>\n",
       "      <th>Tryglicerides</th>\n",
       "      <th>Platelets</th>\n",
       "      <th>Prothrombin</th>\n",
       "      <th>Stage</th>\n",
       "      <th>Status</th>\n",
       "    </tr>\n",
       "  </thead>\n",
       "  <tbody>\n",
       "    <tr>\n",
       "      <th>0</th>\n",
       "      <td>0</td>\n",
       "      <td>999</td>\n",
       "      <td>D-penicillamine</td>\n",
       "      <td>21532</td>\n",
       "      <td>M</td>\n",
       "      <td>N</td>\n",
       "      <td>N</td>\n",
       "      <td>N</td>\n",
       "      <td>N</td>\n",
       "      <td>2.3</td>\n",
       "      <td>316.0</td>\n",
       "      <td>3.35</td>\n",
       "      <td>172.0</td>\n",
       "      <td>1601.0</td>\n",
       "      <td>179.80</td>\n",
       "      <td>63.0</td>\n",
       "      <td>394.0</td>\n",
       "      <td>9.7</td>\n",
       "      <td>3.0</td>\n",
       "      <td>D</td>\n",
       "    </tr>\n",
       "    <tr>\n",
       "      <th>1</th>\n",
       "      <td>1</td>\n",
       "      <td>2574</td>\n",
       "      <td>Placebo</td>\n",
       "      <td>19237</td>\n",
       "      <td>F</td>\n",
       "      <td>N</td>\n",
       "      <td>N</td>\n",
       "      <td>N</td>\n",
       "      <td>N</td>\n",
       "      <td>0.9</td>\n",
       "      <td>364.0</td>\n",
       "      <td>3.54</td>\n",
       "      <td>63.0</td>\n",
       "      <td>1440.0</td>\n",
       "      <td>134.85</td>\n",
       "      <td>88.0</td>\n",
       "      <td>361.0</td>\n",
       "      <td>11.0</td>\n",
       "      <td>3.0</td>\n",
       "      <td>C</td>\n",
       "    </tr>\n",
       "    <tr>\n",
       "      <th>2</th>\n",
       "      <td>2</td>\n",
       "      <td>3428</td>\n",
       "      <td>Placebo</td>\n",
       "      <td>13727</td>\n",
       "      <td>F</td>\n",
       "      <td>N</td>\n",
       "      <td>Y</td>\n",
       "      <td>Y</td>\n",
       "      <td>Y</td>\n",
       "      <td>3.3</td>\n",
       "      <td>299.0</td>\n",
       "      <td>3.55</td>\n",
       "      <td>131.0</td>\n",
       "      <td>1029.0</td>\n",
       "      <td>119.35</td>\n",
       "      <td>50.0</td>\n",
       "      <td>199.0</td>\n",
       "      <td>11.7</td>\n",
       "      <td>4.0</td>\n",
       "      <td>D</td>\n",
       "    </tr>\n",
       "    <tr>\n",
       "      <th>3</th>\n",
       "      <td>3</td>\n",
       "      <td>2576</td>\n",
       "      <td>Placebo</td>\n",
       "      <td>18460</td>\n",
       "      <td>F</td>\n",
       "      <td>N</td>\n",
       "      <td>N</td>\n",
       "      <td>N</td>\n",
       "      <td>N</td>\n",
       "      <td>0.6</td>\n",
       "      <td>256.0</td>\n",
       "      <td>3.50</td>\n",
       "      <td>58.0</td>\n",
       "      <td>1653.0</td>\n",
       "      <td>71.30</td>\n",
       "      <td>96.0</td>\n",
       "      <td>269.0</td>\n",
       "      <td>10.7</td>\n",
       "      <td>3.0</td>\n",
       "      <td>C</td>\n",
       "    </tr>\n",
       "    <tr>\n",
       "      <th>4</th>\n",
       "      <td>4</td>\n",
       "      <td>788</td>\n",
       "      <td>Placebo</td>\n",
       "      <td>16658</td>\n",
       "      <td>F</td>\n",
       "      <td>N</td>\n",
       "      <td>Y</td>\n",
       "      <td>N</td>\n",
       "      <td>N</td>\n",
       "      <td>1.1</td>\n",
       "      <td>346.0</td>\n",
       "      <td>3.65</td>\n",
       "      <td>63.0</td>\n",
       "      <td>1181.0</td>\n",
       "      <td>125.55</td>\n",
       "      <td>96.0</td>\n",
       "      <td>298.0</td>\n",
       "      <td>10.6</td>\n",
       "      <td>4.0</td>\n",
       "      <td>C</td>\n",
       "    </tr>\n",
       "  </tbody>\n",
       "</table>\n",
       "</div>"
      ],
      "text/plain": [
       "   id  N_Days             Drug    Age Sex Ascites Hepatomegaly Spiders Edema  \\\n",
       "0   0     999  D-penicillamine  21532   M       N            N       N     N   \n",
       "1   1    2574          Placebo  19237   F       N            N       N     N   \n",
       "2   2    3428          Placebo  13727   F       N            Y       Y     Y   \n",
       "3   3    2576          Placebo  18460   F       N            N       N     N   \n",
       "4   4     788          Placebo  16658   F       N            Y       N     N   \n",
       "\n",
       "   Bilirubin  Cholesterol  Albumin  Copper  Alk_Phos    SGOT  Tryglicerides  \\\n",
       "0        2.3        316.0     3.35   172.0    1601.0  179.80           63.0   \n",
       "1        0.9        364.0     3.54    63.0    1440.0  134.85           88.0   \n",
       "2        3.3        299.0     3.55   131.0    1029.0  119.35           50.0   \n",
       "3        0.6        256.0     3.50    58.0    1653.0   71.30           96.0   \n",
       "4        1.1        346.0     3.65    63.0    1181.0  125.55           96.0   \n",
       "\n",
       "   Platelets  Prothrombin  Stage Status  \n",
       "0      394.0          9.7    3.0      D  \n",
       "1      361.0         11.0    3.0      C  \n",
       "2      199.0         11.7    4.0      D  \n",
       "3      269.0         10.7    3.0      C  \n",
       "4      298.0         10.6    4.0      C  "
      ]
     },
     "execution_count": 4,
     "metadata": {},
     "output_type": "execute_result"
    }
   ],
   "source": [
    "train.head()\n"
   ]
  },
  {
   "cell_type": "code",
   "execution_count": 5,
   "id": "716d26da",
   "metadata": {
    "execution": {
     "iopub.execute_input": "2023-12-17T18:02:18.485263Z",
     "iopub.status.busy": "2023-12-17T18:02:18.484855Z",
     "iopub.status.idle": "2023-12-17T18:02:18.508588Z",
     "shell.execute_reply": "2023-12-17T18:02:18.507493Z"
    },
    "papermill": {
     "duration": 0.034204,
     "end_time": "2023-12-17T18:02:18.510659",
     "exception": false,
     "start_time": "2023-12-17T18:02:18.476455",
     "status": "completed"
    },
    "tags": []
   },
   "outputs": [
    {
     "data": {
      "text/html": [
       "<div>\n",
       "<style scoped>\n",
       "    .dataframe tbody tr th:only-of-type {\n",
       "        vertical-align: middle;\n",
       "    }\n",
       "\n",
       "    .dataframe tbody tr th {\n",
       "        vertical-align: top;\n",
       "    }\n",
       "\n",
       "    .dataframe thead th {\n",
       "        text-align: right;\n",
       "    }\n",
       "</style>\n",
       "<table border=\"1\" class=\"dataframe\">\n",
       "  <thead>\n",
       "    <tr style=\"text-align: right;\">\n",
       "      <th></th>\n",
       "      <th>id</th>\n",
       "      <th>N_Days</th>\n",
       "      <th>Drug</th>\n",
       "      <th>Age</th>\n",
       "      <th>Sex</th>\n",
       "      <th>Ascites</th>\n",
       "      <th>Hepatomegaly</th>\n",
       "      <th>Spiders</th>\n",
       "      <th>Edema</th>\n",
       "      <th>Bilirubin</th>\n",
       "      <th>Cholesterol</th>\n",
       "      <th>Albumin</th>\n",
       "      <th>Copper</th>\n",
       "      <th>Alk_Phos</th>\n",
       "      <th>SGOT</th>\n",
       "      <th>Tryglicerides</th>\n",
       "      <th>Platelets</th>\n",
       "      <th>Prothrombin</th>\n",
       "      <th>Stage</th>\n",
       "    </tr>\n",
       "  </thead>\n",
       "  <tbody>\n",
       "    <tr>\n",
       "      <th>0</th>\n",
       "      <td>7905</td>\n",
       "      <td>3839</td>\n",
       "      <td>D-penicillamine</td>\n",
       "      <td>19724</td>\n",
       "      <td>F</td>\n",
       "      <td>N</td>\n",
       "      <td>Y</td>\n",
       "      <td>N</td>\n",
       "      <td>N</td>\n",
       "      <td>1.2</td>\n",
       "      <td>546.0</td>\n",
       "      <td>3.37</td>\n",
       "      <td>65.0</td>\n",
       "      <td>1636.0</td>\n",
       "      <td>151.90</td>\n",
       "      <td>90.0</td>\n",
       "      <td>430.0</td>\n",
       "      <td>10.6</td>\n",
       "      <td>2.0</td>\n",
       "    </tr>\n",
       "    <tr>\n",
       "      <th>1</th>\n",
       "      <td>7906</td>\n",
       "      <td>2468</td>\n",
       "      <td>D-penicillamine</td>\n",
       "      <td>14975</td>\n",
       "      <td>F</td>\n",
       "      <td>N</td>\n",
       "      <td>N</td>\n",
       "      <td>N</td>\n",
       "      <td>N</td>\n",
       "      <td>1.1</td>\n",
       "      <td>660.0</td>\n",
       "      <td>4.22</td>\n",
       "      <td>94.0</td>\n",
       "      <td>1257.0</td>\n",
       "      <td>151.90</td>\n",
       "      <td>155.0</td>\n",
       "      <td>227.0</td>\n",
       "      <td>10.0</td>\n",
       "      <td>2.0</td>\n",
       "    </tr>\n",
       "    <tr>\n",
       "      <th>2</th>\n",
       "      <td>7907</td>\n",
       "      <td>51</td>\n",
       "      <td>Placebo</td>\n",
       "      <td>13149</td>\n",
       "      <td>F</td>\n",
       "      <td>N</td>\n",
       "      <td>Y</td>\n",
       "      <td>N</td>\n",
       "      <td>Y</td>\n",
       "      <td>2.0</td>\n",
       "      <td>151.0</td>\n",
       "      <td>2.96</td>\n",
       "      <td>46.0</td>\n",
       "      <td>961.0</td>\n",
       "      <td>69.75</td>\n",
       "      <td>101.0</td>\n",
       "      <td>213.0</td>\n",
       "      <td>13.0</td>\n",
       "      <td>4.0</td>\n",
       "    </tr>\n",
       "    <tr>\n",
       "      <th>3</th>\n",
       "      <td>7908</td>\n",
       "      <td>2330</td>\n",
       "      <td>D-penicillamine</td>\n",
       "      <td>20510</td>\n",
       "      <td>F</td>\n",
       "      <td>N</td>\n",
       "      <td>N</td>\n",
       "      <td>N</td>\n",
       "      <td>N</td>\n",
       "      <td>0.6</td>\n",
       "      <td>293.0</td>\n",
       "      <td>3.85</td>\n",
       "      <td>40.0</td>\n",
       "      <td>554.0</td>\n",
       "      <td>125.55</td>\n",
       "      <td>56.0</td>\n",
       "      <td>270.0</td>\n",
       "      <td>10.6</td>\n",
       "      <td>2.0</td>\n",
       "    </tr>\n",
       "    <tr>\n",
       "      <th>4</th>\n",
       "      <td>7909</td>\n",
       "      <td>1615</td>\n",
       "      <td>D-penicillamine</td>\n",
       "      <td>21904</td>\n",
       "      <td>F</td>\n",
       "      <td>N</td>\n",
       "      <td>Y</td>\n",
       "      <td>N</td>\n",
       "      <td>N</td>\n",
       "      <td>1.4</td>\n",
       "      <td>277.0</td>\n",
       "      <td>2.97</td>\n",
       "      <td>121.0</td>\n",
       "      <td>1110.0</td>\n",
       "      <td>125.00</td>\n",
       "      <td>126.0</td>\n",
       "      <td>221.0</td>\n",
       "      <td>9.8</td>\n",
       "      <td>1.0</td>\n",
       "    </tr>\n",
       "  </tbody>\n",
       "</table>\n",
       "</div>"
      ],
      "text/plain": [
       "     id  N_Days             Drug    Age Sex Ascites Hepatomegaly Spiders  \\\n",
       "0  7905    3839  D-penicillamine  19724   F       N            Y       N   \n",
       "1  7906    2468  D-penicillamine  14975   F       N            N       N   \n",
       "2  7907      51          Placebo  13149   F       N            Y       N   \n",
       "3  7908    2330  D-penicillamine  20510   F       N            N       N   \n",
       "4  7909    1615  D-penicillamine  21904   F       N            Y       N   \n",
       "\n",
       "  Edema  Bilirubin  Cholesterol  Albumin  Copper  Alk_Phos    SGOT  \\\n",
       "0     N        1.2        546.0     3.37    65.0    1636.0  151.90   \n",
       "1     N        1.1        660.0     4.22    94.0    1257.0  151.90   \n",
       "2     Y        2.0        151.0     2.96    46.0     961.0   69.75   \n",
       "3     N        0.6        293.0     3.85    40.0     554.0  125.55   \n",
       "4     N        1.4        277.0     2.97   121.0    1110.0  125.00   \n",
       "\n",
       "   Tryglicerides  Platelets  Prothrombin  Stage  \n",
       "0           90.0      430.0         10.6    2.0  \n",
       "1          155.0      227.0         10.0    2.0  \n",
       "2          101.0      213.0         13.0    4.0  \n",
       "3           56.0      270.0         10.6    2.0  \n",
       "4          126.0      221.0          9.8    1.0  "
      ]
     },
     "execution_count": 5,
     "metadata": {},
     "output_type": "execute_result"
    }
   ],
   "source": [
    "test.head()"
   ]
  },
  {
   "cell_type": "code",
   "execution_count": 6,
   "id": "0ec8de70",
   "metadata": {
    "execution": {
     "iopub.execute_input": "2023-12-17T18:02:18.528243Z",
     "iopub.status.busy": "2023-12-17T18:02:18.527107Z",
     "iopub.status.idle": "2023-12-17T18:02:18.608481Z",
     "shell.execute_reply": "2023-12-17T18:02:18.606801Z"
    },
    "papermill": {
     "duration": 0.092396,
     "end_time": "2023-12-17T18:02:18.610741",
     "exception": false,
     "start_time": "2023-12-17T18:02:18.518345",
     "status": "completed"
    },
    "tags": []
   },
   "outputs": [
    {
     "name": "stdout",
     "output_type": "stream",
     "text": [
      "Dataset Info:\n",
      "<class 'pandas.core.frame.DataFrame'>\n",
      "RangeIndex: 7905 entries, 0 to 7904\n",
      "Data columns (total 20 columns):\n",
      " #   Column         Non-Null Count  Dtype  \n",
      "---  ------         --------------  -----  \n",
      " 0   id             7905 non-null   int64  \n",
      " 1   N_Days         7905 non-null   int64  \n",
      " 2   Drug           7905 non-null   object \n",
      " 3   Age            7905 non-null   int64  \n",
      " 4   Sex            7905 non-null   object \n",
      " 5   Ascites        7905 non-null   object \n",
      " 6   Hepatomegaly   7905 non-null   object \n",
      " 7   Spiders        7905 non-null   object \n",
      " 8   Edema          7905 non-null   object \n",
      " 9   Bilirubin      7905 non-null   float64\n",
      " 10  Cholesterol    7905 non-null   float64\n",
      " 11  Albumin        7905 non-null   float64\n",
      " 12  Copper         7905 non-null   float64\n",
      " 13  Alk_Phos       7905 non-null   float64\n",
      " 14  SGOT           7905 non-null   float64\n",
      " 15  Tryglicerides  7905 non-null   float64\n",
      " 16  Platelets      7905 non-null   float64\n",
      " 17  Prothrombin    7905 non-null   float64\n",
      " 18  Stage          7905 non-null   float64\n",
      " 19  Status         7905 non-null   object \n",
      "dtypes: float64(10), int64(3), object(7)\n",
      "memory usage: 1.2+ MB\n",
      "None\n",
      "\n",
      "Summary Statistics:\n",
      "                id       N_Days           Age    Bilirubin  Cholesterol  \\\n",
      "count  7905.000000  7905.000000   7905.000000  7905.000000  7905.000000   \n",
      "mean   3952.000000  2030.173308  18373.146490     2.594485   350.561923   \n",
      "std    2282.121272  1094.233744   3679.958739     3.812960   195.379344   \n",
      "min       0.000000    41.000000   9598.000000     0.300000   120.000000   \n",
      "25%    1976.000000  1230.000000  15574.000000     0.700000   248.000000   \n",
      "50%    3952.000000  1831.000000  18713.000000     1.100000   298.000000   \n",
      "75%    5928.000000  2689.000000  20684.000000     3.000000   390.000000   \n",
      "max    7904.000000  4795.000000  28650.000000    28.000000  1775.000000   \n",
      "\n",
      "           Albumin       Copper      Alk_Phos         SGOT  Tryglicerides  \\\n",
      "count  7905.000000  7905.000000   7905.000000  7905.000000    7905.000000   \n",
      "mean      3.548323    83.902846   1816.745250   114.604602     115.340164   \n",
      "std       0.346171    75.899266   1903.750657    48.790945      52.530402   \n",
      "min       1.960000     4.000000    289.000000    26.350000      33.000000   \n",
      "25%       3.350000    39.000000    834.000000    75.950000      84.000000   \n",
      "50%       3.580000    63.000000   1181.000000   108.500000     104.000000   \n",
      "75%       3.770000   102.000000   1857.000000   137.950000     139.000000   \n",
      "max       4.640000   588.000000  13862.400000   457.250000     598.000000   \n",
      "\n",
      "         Platelets  Prothrombin        Stage  \n",
      "count  7905.000000  7905.000000  7905.000000  \n",
      "mean    265.228969    10.629462     3.032511  \n",
      "std      87.465579     0.781735     0.866511  \n",
      "min      62.000000     9.000000     1.000000  \n",
      "25%     211.000000    10.000000     2.000000  \n",
      "50%     265.000000    10.600000     3.000000  \n",
      "75%     316.000000    11.000000     4.000000  \n",
      "max     563.000000    18.000000     4.000000  \n"
     ]
    }
   ],
   "source": [
    "print(\"Dataset Info:\")\n",
    "print(train.info())\n",
    "\n",
    "# Display summary statistics of numerical columns\n",
    "print(\"\\nSummary Statistics:\")\n",
    "print(train.describe())\n"
   ]
  },
  {
   "cell_type": "code",
   "execution_count": 7,
   "id": "4c7c3791",
   "metadata": {
    "execution": {
     "iopub.execute_input": "2023-12-17T18:02:18.628098Z",
     "iopub.status.busy": "2023-12-17T18:02:18.627696Z",
     "iopub.status.idle": "2023-12-17T18:02:18.632457Z",
     "shell.execute_reply": "2023-12-17T18:02:18.631379Z"
    },
    "papermill": {
     "duration": 0.016168,
     "end_time": "2023-12-17T18:02:18.634742",
     "exception": false,
     "start_time": "2023-12-17T18:02:18.618574",
     "status": "completed"
    },
    "tags": []
   },
   "outputs": [],
   "source": [
    "categorical_columns = ['Drug', 'Sex','Ascites','Hepatomegaly','Spiders','Edema']\n",
    "# df_encoded = pd.get_dummies(train, columns=['Drug', 'Sex','Ascites','Hepatomegaly','Spiders','Edema'], prefix=['Drug_hot', 'Sex_hot','Ascites_hot','Hepatomegaly_hot','Spiders_hot','Edema_hot'])\n"
   ]
  },
  {
   "cell_type": "code",
   "execution_count": 8,
   "id": "14010acd",
   "metadata": {
    "execution": {
     "iopub.execute_input": "2023-12-17T18:02:18.653174Z",
     "iopub.status.busy": "2023-12-17T18:02:18.652479Z",
     "iopub.status.idle": "2023-12-17T18:02:18.663142Z",
     "shell.execute_reply": "2023-12-17T18:02:18.661742Z"
    },
    "papermill": {
     "duration": 0.022668,
     "end_time": "2023-12-17T18:02:18.665290",
     "exception": false,
     "start_time": "2023-12-17T18:02:18.642622",
     "status": "completed"
    },
    "tags": []
   },
   "outputs": [
    {
     "name": "stdout",
     "output_type": "stream",
     "text": [
      "\n",
      "Missing Values:\n",
      "id               0\n",
      "N_Days           0\n",
      "Drug             0\n",
      "Age              0\n",
      "Sex              0\n",
      "Ascites          0\n",
      "Hepatomegaly     0\n",
      "Spiders          0\n",
      "Edema            0\n",
      "Bilirubin        0\n",
      "Cholesterol      0\n",
      "Albumin          0\n",
      "Copper           0\n",
      "Alk_Phos         0\n",
      "SGOT             0\n",
      "Tryglicerides    0\n",
      "Platelets        0\n",
      "Prothrombin      0\n",
      "Stage            0\n",
      "Status           0\n",
      "dtype: int64\n"
     ]
    }
   ],
   "source": [
    "missing_values_train = train.isnull().sum()\n",
    "print(\"\\nMissing Values:\")\n",
    "print(missing_values_train)\n"
   ]
  },
  {
   "cell_type": "code",
   "execution_count": 9,
   "id": "046a27d7",
   "metadata": {
    "execution": {
     "iopub.execute_input": "2023-12-17T18:02:18.683789Z",
     "iopub.status.busy": "2023-12-17T18:02:18.683130Z",
     "iopub.status.idle": "2023-12-17T18:02:18.692250Z",
     "shell.execute_reply": "2023-12-17T18:02:18.690886Z"
    },
    "papermill": {
     "duration": 0.020964,
     "end_time": "2023-12-17T18:02:18.694560",
     "exception": false,
     "start_time": "2023-12-17T18:02:18.673596",
     "status": "completed"
    },
    "tags": []
   },
   "outputs": [
    {
     "name": "stdout",
     "output_type": "stream",
     "text": [
      "\n",
      "Missing Values:\n",
      "id               0\n",
      "N_Days           0\n",
      "Drug             0\n",
      "Age              0\n",
      "Sex              0\n",
      "Ascites          0\n",
      "Hepatomegaly     0\n",
      "Spiders          0\n",
      "Edema            0\n",
      "Bilirubin        0\n",
      "Cholesterol      0\n",
      "Albumin          0\n",
      "Copper           0\n",
      "Alk_Phos         0\n",
      "SGOT             0\n",
      "Tryglicerides    0\n",
      "Platelets        0\n",
      "Prothrombin      0\n",
      "Stage            0\n",
      "dtype: int64\n"
     ]
    }
   ],
   "source": [
    "missing_values_test = test.isnull().sum()\n",
    "print(\"\\nMissing Values:\")\n",
    "print(missing_values_test)"
   ]
  },
  {
   "cell_type": "code",
   "execution_count": null,
   "id": "6fe225f7",
   "metadata": {
    "papermill": {
     "duration": 0.008461,
     "end_time": "2023-12-17T18:02:18.711017",
     "exception": false,
     "start_time": "2023-12-17T18:02:18.702556",
     "status": "completed"
    },
    "tags": []
   },
   "outputs": [],
   "source": [
    "\n"
   ]
  },
  {
   "cell_type": "code",
   "execution_count": 10,
   "id": "2f244860",
   "metadata": {
    "execution": {
     "iopub.execute_input": "2023-12-17T18:02:18.729960Z",
     "iopub.status.busy": "2023-12-17T18:02:18.728872Z",
     "iopub.status.idle": "2023-12-17T18:02:18.748311Z",
     "shell.execute_reply": "2023-12-17T18:02:18.747040Z"
    },
    "papermill": {
     "duration": 0.031698,
     "end_time": "2023-12-17T18:02:18.750787",
     "exception": false,
     "start_time": "2023-12-17T18:02:18.719089",
     "status": "completed"
    },
    "tags": []
   },
   "outputs": [
    {
     "name": "stdout",
     "output_type": "stream",
     "text": [
      "0       2\n",
      "1       0\n",
      "2       2\n",
      "3       0\n",
      "4       0\n",
      "       ..\n",
      "7900    0\n",
      "7901    0\n",
      "7902    2\n",
      "7903    2\n",
      "7904    0\n",
      "Name: Status, Length: 7905, dtype: int64\n"
     ]
    }
   ],
   "source": [
    "train['Status'] = train['Status'].map({'C': 0, 'D': 2, 'CL': 1})\n",
    "X = train.drop(columns = ['Status','id','N_Days'])\n",
    "y = train['Status']\n",
    "print(y)\n",
    "X_train, X_test, y_train, y_test = train_test_split(X, y, test_size=0.3, random_state=42)"
   ]
  },
  {
   "cell_type": "code",
   "execution_count": 11,
   "id": "1792ba42",
   "metadata": {
    "execution": {
     "iopub.execute_input": "2023-12-17T18:02:18.769965Z",
     "iopub.status.busy": "2023-12-17T18:02:18.769355Z",
     "iopub.status.idle": "2023-12-17T18:02:18.774330Z",
     "shell.execute_reply": "2023-12-17T18:02:18.773450Z"
    },
    "papermill": {
     "duration": 0.017223,
     "end_time": "2023-12-17T18:02:18.776515",
     "exception": false,
     "start_time": "2023-12-17T18:02:18.759292",
     "status": "completed"
    },
    "tags": []
   },
   "outputs": [],
   "source": [
    "preprocessor = ColumnTransformer(\n",
    "    transformers=[\n",
    "        ('onehot', OneHotEncoder(), categorical_columns)\n",
    "    ],\n",
    "    remainder='passthrough'\n",
    ")"
   ]
  },
  {
   "cell_type": "code",
   "execution_count": 12,
   "id": "09776fad",
   "metadata": {
    "execution": {
     "iopub.execute_input": "2023-12-17T18:02:18.795552Z",
     "iopub.status.busy": "2023-12-17T18:02:18.794915Z",
     "iopub.status.idle": "2023-12-17T18:02:18.801420Z",
     "shell.execute_reply": "2023-12-17T18:02:18.800581Z"
    },
    "papermill": {
     "duration": 0.018623,
     "end_time": "2023-12-17T18:02:18.803585",
     "exception": false,
     "start_time": "2023-12-17T18:02:18.784962",
     "status": "completed"
    },
    "tags": []
   },
   "outputs": [],
   "source": [
    "# classifier1 = XGBClassifier(n_estimators=100, random_state=42)\n",
    "# classifier2 = XGBClassifier(n_estimators=200, random_state=42)\n",
    "\n",
    "# # Create the ensemble model\n",
    "# ensemble_model = VotingClassifier(estimators=[\n",
    "#     ('xgb1', classifier1),\n",
    "#     ('xgb2', classifier2)\n",
    "# ], voting='soft')\n",
    "\n",
    "rf_model = RandomForestClassifier(random_state=42)\n",
    "gb_model = GradientBoostingClassifier(random_state=42)\n",
    "\n",
    "# Create an ensemble model using a voting classifier\n",
    "ensemble_model = VotingClassifier(estimators=[\n",
    "    ('RandomForest', rf_model),\n",
    "    ('GradientBoosting', gb_model)\n",
    "], voting='soft')  # 'soft' enables predicted probabilities for log_loss\n",
    "\n",
    "\n",
    "# # Create the full pipeline\n",
    "# pipeline = Pipeline(steps=[('preprocessor', preprocessor),\n",
    "#                              ('ensemble', ensemble_model)])\n",
    "# classifier_nb = GaussianNB()\n",
    "# classifier_xgb = XGBClassifier(n_estimators=150, random_state=42)\n",
    "\n",
    "# # Create the ensemble model\n",
    "# ensemble_model = VotingClassifier(estimators=[\n",
    "#     ('nb', classifier_nb),\n",
    "#     ('xgb', classifier_xgb)\n",
    "# ], voting='soft')  # 'soft' enables probability voting\n",
    "pipeline = Pipeline(steps=[('preprocessor', preprocessor),\n",
    "                             ('ensemble', ensemble_model)])\n"
   ]
  },
  {
   "cell_type": "code",
   "execution_count": 13,
   "id": "7610f5d3",
   "metadata": {
    "execution": {
     "iopub.execute_input": "2023-12-17T18:02:18.821873Z",
     "iopub.status.busy": "2023-12-17T18:02:18.821204Z",
     "iopub.status.idle": "2023-12-17T18:02:24.089715Z",
     "shell.execute_reply": "2023-12-17T18:02:24.088720Z"
    },
    "papermill": {
     "duration": 5.281576,
     "end_time": "2023-12-17T18:02:24.093083",
     "exception": false,
     "start_time": "2023-12-17T18:02:18.811507",
     "status": "completed"
    },
    "tags": []
   },
   "outputs": [
    {
     "data": {
      "text/html": [
       "<style>#sk-container-id-1 {color: black;background-color: white;}#sk-container-id-1 pre{padding: 0;}#sk-container-id-1 div.sk-toggleable {background-color: white;}#sk-container-id-1 label.sk-toggleable__label {cursor: pointer;display: block;width: 100%;margin-bottom: 0;padding: 0.3em;box-sizing: border-box;text-align: center;}#sk-container-id-1 label.sk-toggleable__label-arrow:before {content: \"▸\";float: left;margin-right: 0.25em;color: #696969;}#sk-container-id-1 label.sk-toggleable__label-arrow:hover:before {color: black;}#sk-container-id-1 div.sk-estimator:hover label.sk-toggleable__label-arrow:before {color: black;}#sk-container-id-1 div.sk-toggleable__content {max-height: 0;max-width: 0;overflow: hidden;text-align: left;background-color: #f0f8ff;}#sk-container-id-1 div.sk-toggleable__content pre {margin: 0.2em;color: black;border-radius: 0.25em;background-color: #f0f8ff;}#sk-container-id-1 input.sk-toggleable__control:checked~div.sk-toggleable__content {max-height: 200px;max-width: 100%;overflow: auto;}#sk-container-id-1 input.sk-toggleable__control:checked~label.sk-toggleable__label-arrow:before {content: \"▾\";}#sk-container-id-1 div.sk-estimator input.sk-toggleable__control:checked~label.sk-toggleable__label {background-color: #d4ebff;}#sk-container-id-1 div.sk-label input.sk-toggleable__control:checked~label.sk-toggleable__label {background-color: #d4ebff;}#sk-container-id-1 input.sk-hidden--visually {border: 0;clip: rect(1px 1px 1px 1px);clip: rect(1px, 1px, 1px, 1px);height: 1px;margin: -1px;overflow: hidden;padding: 0;position: absolute;width: 1px;}#sk-container-id-1 div.sk-estimator {font-family: monospace;background-color: #f0f8ff;border: 1px dotted black;border-radius: 0.25em;box-sizing: border-box;margin-bottom: 0.5em;}#sk-container-id-1 div.sk-estimator:hover {background-color: #d4ebff;}#sk-container-id-1 div.sk-parallel-item::after {content: \"\";width: 100%;border-bottom: 1px solid gray;flex-grow: 1;}#sk-container-id-1 div.sk-label:hover label.sk-toggleable__label {background-color: #d4ebff;}#sk-container-id-1 div.sk-serial::before {content: \"\";position: absolute;border-left: 1px solid gray;box-sizing: border-box;top: 0;bottom: 0;left: 50%;z-index: 0;}#sk-container-id-1 div.sk-serial {display: flex;flex-direction: column;align-items: center;background-color: white;padding-right: 0.2em;padding-left: 0.2em;position: relative;}#sk-container-id-1 div.sk-item {position: relative;z-index: 1;}#sk-container-id-1 div.sk-parallel {display: flex;align-items: stretch;justify-content: center;background-color: white;position: relative;}#sk-container-id-1 div.sk-item::before, #sk-container-id-1 div.sk-parallel-item::before {content: \"\";position: absolute;border-left: 1px solid gray;box-sizing: border-box;top: 0;bottom: 0;left: 50%;z-index: -1;}#sk-container-id-1 div.sk-parallel-item {display: flex;flex-direction: column;z-index: 1;position: relative;background-color: white;}#sk-container-id-1 div.sk-parallel-item:first-child::after {align-self: flex-end;width: 50%;}#sk-container-id-1 div.sk-parallel-item:last-child::after {align-self: flex-start;width: 50%;}#sk-container-id-1 div.sk-parallel-item:only-child::after {width: 0;}#sk-container-id-1 div.sk-dashed-wrapped {border: 1px dashed gray;margin: 0 0.4em 0.5em 0.4em;box-sizing: border-box;padding-bottom: 0.4em;background-color: white;}#sk-container-id-1 div.sk-label label {font-family: monospace;font-weight: bold;display: inline-block;line-height: 1.2em;}#sk-container-id-1 div.sk-label-container {text-align: center;}#sk-container-id-1 div.sk-container {/* jupyter's `normalize.less` sets `[hidden] { display: none; }` but bootstrap.min.css set `[hidden] { display: none !important; }` so we also need the `!important` here to be able to override the default hidden behavior on the sphinx rendered scikit-learn.org. See: https://github.com/scikit-learn/scikit-learn/issues/21755 */display: inline-block !important;position: relative;}#sk-container-id-1 div.sk-text-repr-fallback {display: none;}</style><div id=\"sk-container-id-1\" class=\"sk-top-container\"><div class=\"sk-text-repr-fallback\"><pre>Pipeline(steps=[(&#x27;preprocessor&#x27;,\n",
       "                 ColumnTransformer(remainder=&#x27;passthrough&#x27;,\n",
       "                                   transformers=[(&#x27;onehot&#x27;, OneHotEncoder(),\n",
       "                                                  [&#x27;Drug&#x27;, &#x27;Sex&#x27;, &#x27;Ascites&#x27;,\n",
       "                                                   &#x27;Hepatomegaly&#x27;, &#x27;Spiders&#x27;,\n",
       "                                                   &#x27;Edema&#x27;])])),\n",
       "                (&#x27;ensemble&#x27;,\n",
       "                 VotingClassifier(estimators=[(&#x27;RandomForest&#x27;,\n",
       "                                               RandomForestClassifier(random_state=42)),\n",
       "                                              (&#x27;GradientBoosting&#x27;,\n",
       "                                               GradientBoostingClassifier(random_state=42))],\n",
       "                                  voting=&#x27;soft&#x27;))])</pre><b>In a Jupyter environment, please rerun this cell to show the HTML representation or trust the notebook. <br />On GitHub, the HTML representation is unable to render, please try loading this page with nbviewer.org.</b></div><div class=\"sk-container\" hidden><div class=\"sk-item sk-dashed-wrapped\"><div class=\"sk-label-container\"><div class=\"sk-label sk-toggleable\"><input class=\"sk-toggleable__control sk-hidden--visually\" id=\"sk-estimator-id-1\" type=\"checkbox\" ><label for=\"sk-estimator-id-1\" class=\"sk-toggleable__label sk-toggleable__label-arrow\">Pipeline</label><div class=\"sk-toggleable__content\"><pre>Pipeline(steps=[(&#x27;preprocessor&#x27;,\n",
       "                 ColumnTransformer(remainder=&#x27;passthrough&#x27;,\n",
       "                                   transformers=[(&#x27;onehot&#x27;, OneHotEncoder(),\n",
       "                                                  [&#x27;Drug&#x27;, &#x27;Sex&#x27;, &#x27;Ascites&#x27;,\n",
       "                                                   &#x27;Hepatomegaly&#x27;, &#x27;Spiders&#x27;,\n",
       "                                                   &#x27;Edema&#x27;])])),\n",
       "                (&#x27;ensemble&#x27;,\n",
       "                 VotingClassifier(estimators=[(&#x27;RandomForest&#x27;,\n",
       "                                               RandomForestClassifier(random_state=42)),\n",
       "                                              (&#x27;GradientBoosting&#x27;,\n",
       "                                               GradientBoostingClassifier(random_state=42))],\n",
       "                                  voting=&#x27;soft&#x27;))])</pre></div></div></div><div class=\"sk-serial\"><div class=\"sk-item sk-dashed-wrapped\"><div class=\"sk-label-container\"><div class=\"sk-label sk-toggleable\"><input class=\"sk-toggleable__control sk-hidden--visually\" id=\"sk-estimator-id-2\" type=\"checkbox\" ><label for=\"sk-estimator-id-2\" class=\"sk-toggleable__label sk-toggleable__label-arrow\">preprocessor: ColumnTransformer</label><div class=\"sk-toggleable__content\"><pre>ColumnTransformer(remainder=&#x27;passthrough&#x27;,\n",
       "                  transformers=[(&#x27;onehot&#x27;, OneHotEncoder(),\n",
       "                                 [&#x27;Drug&#x27;, &#x27;Sex&#x27;, &#x27;Ascites&#x27;, &#x27;Hepatomegaly&#x27;,\n",
       "                                  &#x27;Spiders&#x27;, &#x27;Edema&#x27;])])</pre></div></div></div><div class=\"sk-parallel\"><div class=\"sk-parallel-item\"><div class=\"sk-item\"><div class=\"sk-label-container\"><div class=\"sk-label sk-toggleable\"><input class=\"sk-toggleable__control sk-hidden--visually\" id=\"sk-estimator-id-3\" type=\"checkbox\" ><label for=\"sk-estimator-id-3\" class=\"sk-toggleable__label sk-toggleable__label-arrow\">onehot</label><div class=\"sk-toggleable__content\"><pre>[&#x27;Drug&#x27;, &#x27;Sex&#x27;, &#x27;Ascites&#x27;, &#x27;Hepatomegaly&#x27;, &#x27;Spiders&#x27;, &#x27;Edema&#x27;]</pre></div></div></div><div class=\"sk-serial\"><div class=\"sk-item\"><div class=\"sk-estimator sk-toggleable\"><input class=\"sk-toggleable__control sk-hidden--visually\" id=\"sk-estimator-id-4\" type=\"checkbox\" ><label for=\"sk-estimator-id-4\" class=\"sk-toggleable__label sk-toggleable__label-arrow\">OneHotEncoder</label><div class=\"sk-toggleable__content\"><pre>OneHotEncoder()</pre></div></div></div></div></div></div><div class=\"sk-parallel-item\"><div class=\"sk-item\"><div class=\"sk-label-container\"><div class=\"sk-label sk-toggleable\"><input class=\"sk-toggleable__control sk-hidden--visually\" id=\"sk-estimator-id-5\" type=\"checkbox\" ><label for=\"sk-estimator-id-5\" class=\"sk-toggleable__label sk-toggleable__label-arrow\">remainder</label><div class=\"sk-toggleable__content\"><pre>[&#x27;Age&#x27;, &#x27;Bilirubin&#x27;, &#x27;Cholesterol&#x27;, &#x27;Albumin&#x27;, &#x27;Copper&#x27;, &#x27;Alk_Phos&#x27;, &#x27;SGOT&#x27;, &#x27;Tryglicerides&#x27;, &#x27;Platelets&#x27;, &#x27;Prothrombin&#x27;, &#x27;Stage&#x27;]</pre></div></div></div><div class=\"sk-serial\"><div class=\"sk-item\"><div class=\"sk-estimator sk-toggleable\"><input class=\"sk-toggleable__control sk-hidden--visually\" id=\"sk-estimator-id-6\" type=\"checkbox\" ><label for=\"sk-estimator-id-6\" class=\"sk-toggleable__label sk-toggleable__label-arrow\">passthrough</label><div class=\"sk-toggleable__content\"><pre>passthrough</pre></div></div></div></div></div></div></div></div><div class=\"sk-item sk-dashed-wrapped\"><div class=\"sk-label-container\"><div class=\"sk-label sk-toggleable\"><input class=\"sk-toggleable__control sk-hidden--visually\" id=\"sk-estimator-id-7\" type=\"checkbox\" ><label for=\"sk-estimator-id-7\" class=\"sk-toggleable__label sk-toggleable__label-arrow\">ensemble: VotingClassifier</label><div class=\"sk-toggleable__content\"><pre>VotingClassifier(estimators=[(&#x27;RandomForest&#x27;,\n",
       "                              RandomForestClassifier(random_state=42)),\n",
       "                             (&#x27;GradientBoosting&#x27;,\n",
       "                              GradientBoostingClassifier(random_state=42))],\n",
       "                 voting=&#x27;soft&#x27;)</pre></div></div></div><div class=\"sk-parallel\"><div class=\"sk-parallel-item\"><div class=\"sk-item\"><div class=\"sk-label-container\"><div class=\"sk-label sk-toggleable\"><label>RandomForest</label></div></div><div class=\"sk-serial\"><div class=\"sk-item\"><div class=\"sk-estimator sk-toggleable\"><input class=\"sk-toggleable__control sk-hidden--visually\" id=\"sk-estimator-id-8\" type=\"checkbox\" ><label for=\"sk-estimator-id-8\" class=\"sk-toggleable__label sk-toggleable__label-arrow\">RandomForestClassifier</label><div class=\"sk-toggleable__content\"><pre>RandomForestClassifier(random_state=42)</pre></div></div></div></div></div></div><div class=\"sk-parallel-item\"><div class=\"sk-item\"><div class=\"sk-label-container\"><div class=\"sk-label sk-toggleable\"><label>GradientBoosting</label></div></div><div class=\"sk-serial\"><div class=\"sk-item\"><div class=\"sk-estimator sk-toggleable\"><input class=\"sk-toggleable__control sk-hidden--visually\" id=\"sk-estimator-id-9\" type=\"checkbox\" ><label for=\"sk-estimator-id-9\" class=\"sk-toggleable__label sk-toggleable__label-arrow\">GradientBoostingClassifier</label><div class=\"sk-toggleable__content\"><pre>GradientBoostingClassifier(random_state=42)</pre></div></div></div></div></div></div></div></div></div></div></div></div>"
      ],
      "text/plain": [
       "Pipeline(steps=[('preprocessor',\n",
       "                 ColumnTransformer(remainder='passthrough',\n",
       "                                   transformers=[('onehot', OneHotEncoder(),\n",
       "                                                  ['Drug', 'Sex', 'Ascites',\n",
       "                                                   'Hepatomegaly', 'Spiders',\n",
       "                                                   'Edema'])])),\n",
       "                ('ensemble',\n",
       "                 VotingClassifier(estimators=[('RandomForest',\n",
       "                                               RandomForestClassifier(random_state=42)),\n",
       "                                              ('GradientBoosting',\n",
       "                                               GradientBoostingClassifier(random_state=42))],\n",
       "                                  voting='soft'))])"
      ]
     },
     "execution_count": 13,
     "metadata": {},
     "output_type": "execute_result"
    }
   ],
   "source": [
    "pipeline.fit(X_train, y_train)"
   ]
  },
  {
   "cell_type": "code",
   "execution_count": 14,
   "id": "d044529d",
   "metadata": {
    "execution": {
     "iopub.execute_input": "2023-12-17T18:02:24.111789Z",
     "iopub.status.busy": "2023-12-17T18:02:24.111071Z",
     "iopub.status.idle": "2023-12-17T18:02:24.187162Z",
     "shell.execute_reply": "2023-12-17T18:02:24.186254Z"
    },
    "papermill": {
     "duration": 0.088779,
     "end_time": "2023-12-17T18:02:24.190316",
     "exception": false,
     "start_time": "2023-12-17T18:02:24.101537",
     "status": "completed"
    },
    "tags": []
   },
   "outputs": [],
   "source": [
    "y_pred = pipeline.predict(X_test)"
   ]
  },
  {
   "cell_type": "code",
   "execution_count": 15,
   "id": "400b8651",
   "metadata": {
    "execution": {
     "iopub.execute_input": "2023-12-17T18:02:24.208946Z",
     "iopub.status.busy": "2023-12-17T18:02:24.208571Z",
     "iopub.status.idle": "2023-12-17T18:02:24.215647Z",
     "shell.execute_reply": "2023-12-17T18:02:24.214437Z"
    },
    "papermill": {
     "duration": 0.019297,
     "end_time": "2023-12-17T18:02:24.218096",
     "exception": false,
     "start_time": "2023-12-17T18:02:24.198799",
     "status": "completed"
    },
    "tags": []
   },
   "outputs": [
    {
     "name": "stdout",
     "output_type": "stream",
     "text": [
      "Accuracy: 0.8216694772344013\n"
     ]
    }
   ],
   "source": [
    "accuracy = accuracy_score(y_test, y_pred)\n",
    "# classification_report_result = classification_report(y_test, y_pred)\n",
    "\n",
    "print(f\"Accuracy: {accuracy}\")\n",
    "# print(\"Classification Report:\")\n",
    "# print(classification_report_result)"
   ]
  },
  {
   "cell_type": "code",
   "execution_count": 16,
   "id": "e6b146d6",
   "metadata": {
    "execution": {
     "iopub.execute_input": "2023-12-17T18:02:24.237090Z",
     "iopub.status.busy": "2023-12-17T18:02:24.236697Z",
     "iopub.status.idle": "2023-12-17T18:02:24.243575Z",
     "shell.execute_reply": "2023-12-17T18:02:24.242247Z"
    },
    "papermill": {
     "duration": 0.019429,
     "end_time": "2023-12-17T18:02:24.246004",
     "exception": false,
     "start_time": "2023-12-17T18:02:24.226575",
     "status": "completed"
    },
    "tags": []
   },
   "outputs": [
    {
     "name": "stdout",
     "output_type": "stream",
     "text": [
      "3467    0\n",
      "465     0\n",
      "453     0\n",
      "4913    2\n",
      "5907    0\n",
      "       ..\n",
      "2921    2\n",
      "4614    2\n",
      "6861    0\n",
      "4105    2\n",
      "4102    0\n",
      "Name: Status, Length: 2372, dtype: int64\n"
     ]
    }
   ],
   "source": [
    "print(y_test)"
   ]
  },
  {
   "cell_type": "code",
   "execution_count": 17,
   "id": "a809ff15",
   "metadata": {
    "execution": {
     "iopub.execute_input": "2023-12-17T18:02:24.265324Z",
     "iopub.status.busy": "2023-12-17T18:02:24.264785Z",
     "iopub.status.idle": "2023-12-17T18:02:24.269682Z",
     "shell.execute_reply": "2023-12-17T18:02:24.268464Z"
    },
    "papermill": {
     "duration": 0.017628,
     "end_time": "2023-12-17T18:02:24.272338",
     "exception": false,
     "start_time": "2023-12-17T18:02:24.254710",
     "status": "completed"
    },
    "tags": []
   },
   "outputs": [],
   "source": [
    "# y_pred = pipeline.predict(test)"
   ]
  },
  {
   "cell_type": "code",
   "execution_count": 18,
   "id": "4a5e0ec8",
   "metadata": {
    "execution": {
     "iopub.execute_input": "2023-12-17T18:02:24.291394Z",
     "iopub.status.busy": "2023-12-17T18:02:24.290955Z",
     "iopub.status.idle": "2023-12-17T18:02:24.367092Z",
     "shell.execute_reply": "2023-12-17T18:02:24.366165Z"
    },
    "papermill": {
     "duration": 0.088744,
     "end_time": "2023-12-17T18:02:24.369617",
     "exception": false,
     "start_time": "2023-12-17T18:02:24.280873",
     "status": "completed"
    },
    "tags": []
   },
   "outputs": [],
   "source": [
    "test_probs = pipeline.predict_proba(X_test)"
   ]
  },
  {
   "cell_type": "code",
   "execution_count": 19,
   "id": "0d3dc25f",
   "metadata": {
    "execution": {
     "iopub.execute_input": "2023-12-17T18:02:24.388925Z",
     "iopub.status.busy": "2023-12-17T18:02:24.387736Z",
     "iopub.status.idle": "2023-12-17T18:02:24.394603Z",
     "shell.execute_reply": "2023-12-17T18:02:24.393344Z"
    },
    "papermill": {
     "duration": 0.018687,
     "end_time": "2023-12-17T18:02:24.396848",
     "exception": false,
     "start_time": "2023-12-17T18:02:24.378161",
     "status": "completed"
    },
    "tags": []
   },
   "outputs": [
    {
     "name": "stdout",
     "output_type": "stream",
     "text": [
      "[[0.95598303 0.00822418 0.03579279]\n",
      " [0.50494797 0.05932861 0.43572343]\n",
      " [0.84899315 0.01386715 0.13713971]\n",
      " ...\n",
      " [0.53093531 0.03261081 0.43645387]\n",
      " [0.10213761 0.05587922 0.84198316]\n",
      " [0.98001922 0.0014388  0.01854199]]\n"
     ]
    }
   ],
   "source": [
    "print(test_probs)"
   ]
  },
  {
   "cell_type": "code",
   "execution_count": 20,
   "id": "171ef0a9",
   "metadata": {
    "execution": {
     "iopub.execute_input": "2023-12-17T18:02:24.416158Z",
     "iopub.status.busy": "2023-12-17T18:02:24.415785Z",
     "iopub.status.idle": "2023-12-17T18:02:24.425091Z",
     "shell.execute_reply": "2023-12-17T18:02:24.423923Z"
    },
    "papermill": {
     "duration": 0.021372,
     "end_time": "2023-12-17T18:02:24.427232",
     "exception": false,
     "start_time": "2023-12-17T18:02:24.405860",
     "status": "completed"
    },
    "tags": []
   },
   "outputs": [
    {
     "name": "stdout",
     "output_type": "stream",
     "text": [
      "Log Loss: 0.4687\n"
     ]
    }
   ],
   "source": [
    "loss = log_loss(y_test, test_probs)\n",
    "\n",
    "print(f'Log Loss: {loss:.4f}')"
   ]
  },
  {
   "cell_type": "code",
   "execution_count": 21,
   "id": "5fe34900",
   "metadata": {
    "execution": {
     "iopub.execute_input": "2023-12-17T18:02:24.446217Z",
     "iopub.status.busy": "2023-12-17T18:02:24.445828Z",
     "iopub.status.idle": "2023-12-17T18:02:24.450009Z",
     "shell.execute_reply": "2023-12-17T18:02:24.448984Z"
    },
    "papermill": {
     "duration": 0.016105,
     "end_time": "2023-12-17T18:02:24.452002",
     "exception": false,
     "start_time": "2023-12-17T18:02:24.435897",
     "status": "completed"
    },
    "tags": []
   },
   "outputs": [],
   "source": [
    "# preds = pd.DataFrame(test_probs, columns = ['Status_C', 'Status_CL', 'Status_D'])\n",
    "# sub['Status_C'] = preds['Status_C']\n",
    "# sub['Status_CL'] = preds['Status_CL']\n",
    "# sub['Status_D'] = preds['Status_D']\n",
    "# sub.to_csv('submission.csv', index=False)\n",
    "# print()\n",
    "# print(sub.head(5))\n",
    "# print()\n",
    "# print(\"Submission file generated...\")\n",
    "# print()\n",
    "# print(\"You've earned yourself a coffee...\")"
   ]
  },
  {
   "cell_type": "code",
   "execution_count": 22,
   "id": "0e0c47d3",
   "metadata": {
    "execution": {
     "iopub.execute_input": "2023-12-17T18:02:24.471092Z",
     "iopub.status.busy": "2023-12-17T18:02:24.470441Z",
     "iopub.status.idle": "2023-12-17T18:02:24.490892Z",
     "shell.execute_reply": "2023-12-17T18:02:24.490145Z"
    },
    "papermill": {
     "duration": 0.032301,
     "end_time": "2023-12-17T18:02:24.492906",
     "exception": false,
     "start_time": "2023-12-17T18:02:24.460605",
     "status": "completed"
    },
    "tags": []
   },
   "outputs": [
    {
     "data": {
      "text/html": [
       "<div>\n",
       "<style scoped>\n",
       "    .dataframe tbody tr th:only-of-type {\n",
       "        vertical-align: middle;\n",
       "    }\n",
       "\n",
       "    .dataframe tbody tr th {\n",
       "        vertical-align: top;\n",
       "    }\n",
       "\n",
       "    .dataframe thead th {\n",
       "        text-align: right;\n",
       "    }\n",
       "</style>\n",
       "<table border=\"1\" class=\"dataframe\">\n",
       "  <thead>\n",
       "    <tr style=\"text-align: right;\">\n",
       "      <th></th>\n",
       "      <th>id</th>\n",
       "      <th>Status_C</th>\n",
       "      <th>Status_CL</th>\n",
       "      <th>Status_D</th>\n",
       "    </tr>\n",
       "  </thead>\n",
       "  <tbody>\n",
       "    <tr>\n",
       "      <th>0</th>\n",
       "      <td>7905</td>\n",
       "      <td>0.628084</td>\n",
       "      <td>0.034788</td>\n",
       "      <td>0.337128</td>\n",
       "    </tr>\n",
       "    <tr>\n",
       "      <th>1</th>\n",
       "      <td>7906</td>\n",
       "      <td>0.628084</td>\n",
       "      <td>0.034788</td>\n",
       "      <td>0.337128</td>\n",
       "    </tr>\n",
       "    <tr>\n",
       "      <th>2</th>\n",
       "      <td>7907</td>\n",
       "      <td>0.628084</td>\n",
       "      <td>0.034788</td>\n",
       "      <td>0.337128</td>\n",
       "    </tr>\n",
       "    <tr>\n",
       "      <th>3</th>\n",
       "      <td>7908</td>\n",
       "      <td>0.628084</td>\n",
       "      <td>0.034788</td>\n",
       "      <td>0.337128</td>\n",
       "    </tr>\n",
       "    <tr>\n",
       "      <th>4</th>\n",
       "      <td>7909</td>\n",
       "      <td>0.628084</td>\n",
       "      <td>0.034788</td>\n",
       "      <td>0.337128</td>\n",
       "    </tr>\n",
       "  </tbody>\n",
       "</table>\n",
       "</div>"
      ],
      "text/plain": [
       "     id  Status_C  Status_CL  Status_D\n",
       "0  7905  0.628084   0.034788  0.337128\n",
       "1  7906  0.628084   0.034788  0.337128\n",
       "2  7907  0.628084   0.034788  0.337128\n",
       "3  7908  0.628084   0.034788  0.337128\n",
       "4  7909  0.628084   0.034788  0.337128"
      ]
     },
     "execution_count": 22,
     "metadata": {},
     "output_type": "execute_result"
    }
   ],
   "source": [
    "output_df = pd.read_csv('/kaggle/input/playground-series-s3e26/sample_submission.csv')\n",
    "output_df.head()"
   ]
  },
  {
   "cell_type": "code",
   "execution_count": 23,
   "id": "7f5459df",
   "metadata": {
    "execution": {
     "iopub.execute_input": "2023-12-17T18:02:24.513042Z",
     "iopub.status.busy": "2023-12-17T18:02:24.512380Z",
     "iopub.status.idle": "2023-12-17T18:02:24.657807Z",
     "shell.execute_reply": "2023-12-17T18:02:24.656733Z"
    },
    "papermill": {
     "duration": 0.157935,
     "end_time": "2023-12-17T18:02:24.660062",
     "exception": false,
     "start_time": "2023-12-17T18:02:24.502127",
     "status": "completed"
    },
    "tags": []
   },
   "outputs": [
    {
     "data": {
      "text/html": [
       "<div>\n",
       "<style scoped>\n",
       "    .dataframe tbody tr th:only-of-type {\n",
       "        vertical-align: middle;\n",
       "    }\n",
       "\n",
       "    .dataframe tbody tr th {\n",
       "        vertical-align: top;\n",
       "    }\n",
       "\n",
       "    .dataframe thead th {\n",
       "        text-align: right;\n",
       "    }\n",
       "</style>\n",
       "<table border=\"1\" class=\"dataframe\">\n",
       "  <thead>\n",
       "    <tr style=\"text-align: right;\">\n",
       "      <th></th>\n",
       "      <th>Status_C</th>\n",
       "      <th>Status_CL</th>\n",
       "      <th>Status_D</th>\n",
       "    </tr>\n",
       "  </thead>\n",
       "  <tbody>\n",
       "    <tr>\n",
       "      <th>0</th>\n",
       "      <td>0.668286</td>\n",
       "      <td>0.050675</td>\n",
       "      <td>0.281039</td>\n",
       "    </tr>\n",
       "    <tr>\n",
       "      <th>1</th>\n",
       "      <td>0.660153</td>\n",
       "      <td>0.145703</td>\n",
       "      <td>0.194144</td>\n",
       "    </tr>\n",
       "    <tr>\n",
       "      <th>2</th>\n",
       "      <td>0.147207</td>\n",
       "      <td>0.025336</td>\n",
       "      <td>0.827457</td>\n",
       "    </tr>\n",
       "    <tr>\n",
       "      <th>3</th>\n",
       "      <td>0.922604</td>\n",
       "      <td>0.012201</td>\n",
       "      <td>0.065195</td>\n",
       "    </tr>\n",
       "    <tr>\n",
       "      <th>4</th>\n",
       "      <td>0.639711</td>\n",
       "      <td>0.038606</td>\n",
       "      <td>0.321683</td>\n",
       "    </tr>\n",
       "  </tbody>\n",
       "</table>\n",
       "</div>"
      ],
      "text/plain": [
       "   Status_C  Status_CL  Status_D\n",
       "0  0.668286   0.050675  0.281039\n",
       "1  0.660153   0.145703  0.194144\n",
       "2  0.147207   0.025336  0.827457\n",
       "3  0.922604   0.012201  0.065195\n",
       "4  0.639711   0.038606  0.321683"
      ]
     },
     "execution_count": 23,
     "metadata": {},
     "output_type": "execute_result"
    }
   ],
   "source": [
    "y_pred = pipeline.predict_proba(test)\n",
    "y_pred = pd.DataFrame(y_pred)\n",
    "y_pred.columns = ['Status_C', 'Status_CL','Status_D']\n",
    "y_pred.head()"
   ]
  },
  {
   "cell_type": "code",
   "execution_count": 24,
   "id": "d388e46d",
   "metadata": {
    "execution": {
     "iopub.execute_input": "2023-12-17T18:02:24.679759Z",
     "iopub.status.busy": "2023-12-17T18:02:24.679145Z",
     "iopub.status.idle": "2023-12-17T18:02:24.699039Z",
     "shell.execute_reply": "2023-12-17T18:02:24.698072Z"
    },
    "papermill": {
     "duration": 0.032448,
     "end_time": "2023-12-17T18:02:24.701287",
     "exception": false,
     "start_time": "2023-12-17T18:02:24.668839",
     "status": "completed"
    },
    "tags": []
   },
   "outputs": [
    {
     "data": {
      "text/html": [
       "<div>\n",
       "<style scoped>\n",
       "    .dataframe tbody tr th:only-of-type {\n",
       "        vertical-align: middle;\n",
       "    }\n",
       "\n",
       "    .dataframe tbody tr th {\n",
       "        vertical-align: top;\n",
       "    }\n",
       "\n",
       "    .dataframe thead th {\n",
       "        text-align: right;\n",
       "    }\n",
       "</style>\n",
       "<table border=\"1\" class=\"dataframe\">\n",
       "  <thead>\n",
       "    <tr style=\"text-align: right;\">\n",
       "      <th></th>\n",
       "      <th>Status_C</th>\n",
       "      <th>Status_CL</th>\n",
       "      <th>Status_D</th>\n",
       "      <th>id</th>\n",
       "    </tr>\n",
       "  </thead>\n",
       "  <tbody>\n",
       "    <tr>\n",
       "      <th>0</th>\n",
       "      <td>0.648185</td>\n",
       "      <td>0.042732</td>\n",
       "      <td>0.309083</td>\n",
       "      <td>7905</td>\n",
       "    </tr>\n",
       "    <tr>\n",
       "      <th>1</th>\n",
       "      <td>0.644118</td>\n",
       "      <td>0.090245</td>\n",
       "      <td>0.265636</td>\n",
       "      <td>7906</td>\n",
       "    </tr>\n",
       "    <tr>\n",
       "      <th>2</th>\n",
       "      <td>0.387645</td>\n",
       "      <td>0.030062</td>\n",
       "      <td>0.582293</td>\n",
       "      <td>7907</td>\n",
       "    </tr>\n",
       "    <tr>\n",
       "      <th>3</th>\n",
       "      <td>0.775344</td>\n",
       "      <td>0.023495</td>\n",
       "      <td>0.201161</td>\n",
       "      <td>7908</td>\n",
       "    </tr>\n",
       "    <tr>\n",
       "      <th>4</th>\n",
       "      <td>0.633898</td>\n",
       "      <td>0.036697</td>\n",
       "      <td>0.329406</td>\n",
       "      <td>7909</td>\n",
       "    </tr>\n",
       "  </tbody>\n",
       "</table>\n",
       "</div>"
      ],
      "text/plain": [
       "   Status_C  Status_CL  Status_D    id\n",
       "0  0.648185   0.042732  0.309083  7905\n",
       "1  0.644118   0.090245  0.265636  7906\n",
       "2  0.387645   0.030062  0.582293  7907\n",
       "3  0.775344   0.023495  0.201161  7908\n",
       "4  0.633898   0.036697  0.329406  7909"
      ]
     },
     "execution_count": 24,
     "metadata": {},
     "output_type": "execute_result"
    }
   ],
   "source": [
    "ids = test['id']\n",
    "submission_df = pd.DataFrame()\n",
    "submission_df = y_pred  \n",
    "submission_df['id'] = ids\n",
    "submission_df = 0.5*submission_df + 0.5*output_df\n",
    "submission_df['id'] = submission_df['id'].apply(lambda x : int(x))\n",
    "submission_df.head()"
   ]
  },
  {
   "cell_type": "code",
   "execution_count": null,
   "id": "86ea006b",
   "metadata": {
    "papermill": {
     "duration": 0.00884,
     "end_time": "2023-12-17T18:02:24.719260",
     "exception": false,
     "start_time": "2023-12-17T18:02:24.710420",
     "status": "completed"
    },
    "tags": []
   },
   "outputs": [],
   "source": []
  },
  {
   "cell_type": "code",
   "execution_count": 25,
   "id": "1cb4221e",
   "metadata": {
    "execution": {
     "iopub.execute_input": "2023-12-17T18:02:24.740456Z",
     "iopub.status.busy": "2023-12-17T18:02:24.740070Z",
     "iopub.status.idle": "2023-12-17T18:02:24.746771Z",
     "shell.execute_reply": "2023-12-17T18:02:24.745533Z"
    },
    "papermill": {
     "duration": 0.020674,
     "end_time": "2023-12-17T18:02:24.749531",
     "exception": false,
     "start_time": "2023-12-17T18:02:24.728857",
     "status": "completed"
    },
    "tags": []
   },
   "outputs": [],
   "source": [
    "column_name = 'id'\n",
    "\n",
    "# Pop the column from its current position (index 3)\n",
    "column_to_move = submission_df.pop(column_name)\n",
    "\n",
    "# Insert the column at the desired position (index 0)\n",
    "submission_df.insert(0, column_name, column_to_move)"
   ]
  },
  {
   "cell_type": "code",
   "execution_count": 26,
   "id": "cceae0c5",
   "metadata": {
    "execution": {
     "iopub.execute_input": "2023-12-17T18:02:24.772755Z",
     "iopub.status.busy": "2023-12-17T18:02:24.771547Z",
     "iopub.status.idle": "2023-12-17T18:02:24.783510Z",
     "shell.execute_reply": "2023-12-17T18:02:24.782349Z"
    },
    "papermill": {
     "duration": 0.025502,
     "end_time": "2023-12-17T18:02:24.785750",
     "exception": false,
     "start_time": "2023-12-17T18:02:24.760248",
     "status": "completed"
    },
    "tags": []
   },
   "outputs": [
    {
     "data": {
      "text/html": [
       "<div>\n",
       "<style scoped>\n",
       "    .dataframe tbody tr th:only-of-type {\n",
       "        vertical-align: middle;\n",
       "    }\n",
       "\n",
       "    .dataframe tbody tr th {\n",
       "        vertical-align: top;\n",
       "    }\n",
       "\n",
       "    .dataframe thead th {\n",
       "        text-align: right;\n",
       "    }\n",
       "</style>\n",
       "<table border=\"1\" class=\"dataframe\">\n",
       "  <thead>\n",
       "    <tr style=\"text-align: right;\">\n",
       "      <th></th>\n",
       "      <th>id</th>\n",
       "      <th>Status_C</th>\n",
       "      <th>Status_CL</th>\n",
       "      <th>Status_D</th>\n",
       "    </tr>\n",
       "  </thead>\n",
       "  <tbody>\n",
       "    <tr>\n",
       "      <th>0</th>\n",
       "      <td>7905</td>\n",
       "      <td>0.648185</td>\n",
       "      <td>0.042732</td>\n",
       "      <td>0.309083</td>\n",
       "    </tr>\n",
       "    <tr>\n",
       "      <th>1</th>\n",
       "      <td>7906</td>\n",
       "      <td>0.644118</td>\n",
       "      <td>0.090245</td>\n",
       "      <td>0.265636</td>\n",
       "    </tr>\n",
       "    <tr>\n",
       "      <th>2</th>\n",
       "      <td>7907</td>\n",
       "      <td>0.387645</td>\n",
       "      <td>0.030062</td>\n",
       "      <td>0.582293</td>\n",
       "    </tr>\n",
       "    <tr>\n",
       "      <th>3</th>\n",
       "      <td>7908</td>\n",
       "      <td>0.775344</td>\n",
       "      <td>0.023495</td>\n",
       "      <td>0.201161</td>\n",
       "    </tr>\n",
       "    <tr>\n",
       "      <th>4</th>\n",
       "      <td>7909</td>\n",
       "      <td>0.633898</td>\n",
       "      <td>0.036697</td>\n",
       "      <td>0.329406</td>\n",
       "    </tr>\n",
       "  </tbody>\n",
       "</table>\n",
       "</div>"
      ],
      "text/plain": [
       "     id  Status_C  Status_CL  Status_D\n",
       "0  7905  0.648185   0.042732  0.309083\n",
       "1  7906  0.644118   0.090245  0.265636\n",
       "2  7907  0.387645   0.030062  0.582293\n",
       "3  7908  0.775344   0.023495  0.201161\n",
       "4  7909  0.633898   0.036697  0.329406"
      ]
     },
     "execution_count": 26,
     "metadata": {},
     "output_type": "execute_result"
    }
   ],
   "source": [
    "submission_df.head()"
   ]
  },
  {
   "cell_type": "code",
   "execution_count": 27,
   "id": "9c129f28",
   "metadata": {
    "execution": {
     "iopub.execute_input": "2023-12-17T18:02:24.806289Z",
     "iopub.status.busy": "2023-12-17T18:02:24.805894Z",
     "iopub.status.idle": "2023-12-17T18:02:24.846308Z",
     "shell.execute_reply": "2023-12-17T18:02:24.845181Z"
    },
    "papermill": {
     "duration": 0.053733,
     "end_time": "2023-12-17T18:02:24.848871",
     "exception": false,
     "start_time": "2023-12-17T18:02:24.795138",
     "status": "completed"
    },
    "tags": []
   },
   "outputs": [],
   "source": [
    "submission_df.to_csv('submission.csv', index= False)"
   ]
  },
  {
   "cell_type": "code",
   "execution_count": null,
   "id": "f0a26b4a",
   "metadata": {
    "papermill": {
     "duration": 0.009041,
     "end_time": "2023-12-17T18:02:24.867503",
     "exception": false,
     "start_time": "2023-12-17T18:02:24.858462",
     "status": "completed"
    },
    "tags": []
   },
   "outputs": [],
   "source": []
  }
 ],
 "metadata": {
  "kaggle": {
   "accelerator": "none",
   "dataSources": [
    {
     "databundleVersionId": 7000181,
     "sourceId": 60893,
     "sourceType": "competition"
    }
   ],
   "dockerImageVersionId": 30626,
   "isGpuEnabled": false,
   "isInternetEnabled": true,
   "language": "python",
   "sourceType": "notebook"
  },
  "kernelspec": {
   "display_name": "Python 3",
   "language": "python",
   "name": "python3"
  },
  "language_info": {
   "codemirror_mode": {
    "name": "ipython",
    "version": 3
   },
   "file_extension": ".py",
   "mimetype": "text/x-python",
   "name": "python",
   "nbconvert_exporter": "python",
   "pygments_lexer": "ipython3",
   "version": "3.10.12"
  },
  "papermill": {
   "default_parameters": {},
   "duration": 12.448434,
   "end_time": "2023-12-17T18:02:25.497443",
   "environment_variables": {},
   "exception": null,
   "input_path": "__notebook__.ipynb",
   "output_path": "__notebook__.ipynb",
   "parameters": {},
   "start_time": "2023-12-17T18:02:13.049009",
   "version": "2.4.0"
  }
 },
 "nbformat": 4,
 "nbformat_minor": 5
}
